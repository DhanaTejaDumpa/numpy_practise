{
  "nbformat": 4,
  "nbformat_minor": 0,
  "metadata": {
    "colab": {
      "provenance": [],
      "authorship_tag": "ABX9TyNcdNfVtFfA6zTuVpYzIexK",
      "include_colab_link": true
    },
    "kernelspec": {
      "name": "python3",
      "display_name": "Python 3"
    },
    "language_info": {
      "name": "python"
    }
  },
  "cells": [
    {
      "cell_type": "markdown",
      "metadata": {
        "id": "view-in-github",
        "colab_type": "text"
      },
      "source": [
        "<a href=\"https://colab.research.google.com/github/DhanaTejaDumpa/numpy_practise/blob/main/003_28Jan25_broadCasting_randomFunc_task4.ipynb\" target=\"_parent\"><img src=\"https://colab.research.google.com/assets/colab-badge.svg\" alt=\"Open In Colab\"/></a>"
      ]
    },
    {
      "cell_type": "markdown",
      "source": [
        "# 28/01/2025"
      ],
      "metadata": {
        "id": "V7W1Y9o2WVLS"
      }
    },
    {
      "cell_type": "markdown",
      "source": [
        "## 1) Explain the rules of broadcasting ?"
      ],
      "metadata": {
        "id": "xVFKvN7uWcVM"
      }
    },
    {
      "cell_type": "markdown",
      "source": [
        "## <b><u>Broad Casting:</b></u>\n",
        "\n",
        "Broadcasting in NumPy allows operations on arrays of different shapes by automatically expanding one or both arrays to a compatible shape, without requiring explicit reshaping. It simplifies arithmetic operations like addition, subtraction, multiplication, and division between arrays of different dimensions.\n",
        "\n",
        "**Note :** If the arithmetic operations are performed with arrays of exact same shape, then the operations are done element-to-element\n",
        "\n",
        "<u>**key rules of broadcasting**</u> :\n",
        "\n",
        "* Broadcasting works solely based on the shape of arrays.\n",
        "\n",
        "<mark>1) Handling Dimension Mismatch</mark>\n",
        "\n",
        "* If array dimensions differ, add ones to the left of the smaller array's shape until dimensions match.\n",
        "\n",
        "<mark>2) Expanding Singleton Dimensions</mark>\n",
        "\n",
        "* If a dimension has size 1, expand it to match the corresponding size of the other array.(If there any one's in the shape of array increase one's with respective index of element of other array)\n",
        "\n",
        "<mark>3) Outcome</mark>\n",
        "\n",
        "**Shapes are equal**: Broadcasting succeeds, and operations can proceed.\n",
        "\n",
        "**Shapes are incompatible**: Mathematical operations cannot be performed.\n",
        "\n",
        "#### <u>Example</u>:\n",
        "\n",
        "Array1: Shape (3, 1)\n",
        "\n",
        "Array2: Shape (3, 4)\n",
        "\n",
        "<u>Result</u>: Array1 broadcasts to (3, 4).\n",
        "\n",
        "\n",
        "\n",
        "\n"
      ],
      "metadata": {
        "id": "VfuPYkdjWpXA"
      }
    },
    {
      "cell_type": "markdown",
      "source": [
        "## 2) Create a 2D array named array1 of shape(3,4) using random values between 1 and 10 and create another 2D array named array2 of shape(4,) using random values between 1 and 10.\n",
        "\n",
        "### a) Perform element-wise addition between array1 and array2.print the result.\n",
        "### b) perform element-wise multiplication between array1 and array2.print the resullt and explain how broadcasting applies in this case."
      ],
      "metadata": {
        "id": "hsvU0_xweN3b"
      }
    },
    {
      "cell_type": "code",
      "source": [
        "import random"
      ],
      "metadata": {
        "id": "R1Xz76tTlEuv"
      },
      "execution_count": null,
      "outputs": []
    },
    {
      "cell_type": "code",
      "source": [
        "import numpy as np"
      ],
      "metadata": {
        "id": "OcyWaYQElKXb"
      },
      "execution_count": null,
      "outputs": []
    },
    {
      "cell_type": "code",
      "source": [
        "# creating a 2D array1 of shape(3,4) using random values between 1 and 10\n",
        "\n",
        "array1 = np.random.randint(1,10,(3,4))\n",
        "array1"
      ],
      "metadata": {
        "colab": {
          "base_uri": "https://localhost:8080/"
        },
        "id": "Lkn6GKS1fyPq",
        "outputId": "33701939-afbb-45f3-c143-6ce94031e100"
      },
      "execution_count": null,
      "outputs": [
        {
          "output_type": "execute_result",
          "data": {
            "text/plain": [
              "array([[2, 8, 8, 1],\n",
              "       [3, 4, 3, 6],\n",
              "       [9, 2, 1, 8]])"
            ]
          },
          "metadata": {},
          "execution_count": 29
        }
      ]
    },
    {
      "cell_type": "code",
      "source": [
        "# creating a 2D array2 of shape(4,) using random values between 1 and 10\n",
        "\n",
        "array2 = np.random.randint(1,10,(4,))\n",
        "array2"
      ],
      "metadata": {
        "colab": {
          "base_uri": "https://localhost:8080/"
        },
        "id": "RuW_BmVFjum1",
        "outputId": "1d93e911-c706-4925-d6a1-2032ff4675ce"
      },
      "execution_count": null,
      "outputs": [
        {
          "output_type": "execute_result",
          "data": {
            "text/plain": [
              "array([7, 3, 1, 9])"
            ]
          },
          "metadata": {},
          "execution_count": 30
        }
      ]
    },
    {
      "cell_type": "code",
      "source": [
        "# a)Perform element-wise addition between array1 and array2.\n",
        "\n",
        "array1 + array2\n"
      ],
      "metadata": {
        "colab": {
          "base_uri": "https://localhost:8080/"
        },
        "id": "rS3ljTKQl_R4",
        "outputId": "2fb1a0f8-2539-4bfb-d2a6-2dbd5f517c4d"
      },
      "execution_count": null,
      "outputs": [
        {
          "output_type": "execute_result",
          "data": {
            "text/plain": [
              "array([[ 9, 11,  9, 10],\n",
              "       [10,  7,  4, 15],\n",
              "       [16,  5,  2, 17]])"
            ]
          },
          "metadata": {},
          "execution_count": 31
        }
      ]
    },
    {
      "cell_type": "markdown",
      "source": [
        "**Expalanation for addition between array1 and array2 :**\n",
        "\n",
        "1) Dimensions of both arrays are not same.--- add 1 from leftside to shape of array2.so, shape of array2 (4,) becomes (1,4)\n",
        "\n",
        "2) if '1' is available in shape of array2 , then increase '1' to the respective index of array1. Now , shape of array2 (1,4) becomes (3,4)\n",
        "\n",
        "3) shape of array2(3,4) is same as shape of array1(3,4).\n",
        "\n",
        "4) Hence array2 can be broadcasted to array1.so,we can perform mathemetical operations(here addition)."
      ],
      "metadata": {
        "id": "uc_15s3zt2_8"
      }
    },
    {
      "cell_type": "code",
      "source": [
        "# perform element-wise multiplication between array1 and array2.\n",
        "\n",
        "array1 * array2\n"
      ],
      "metadata": {
        "colab": {
          "base_uri": "https://localhost:8080/"
        },
        "id": "IPC08ElHnLLa",
        "outputId": "dc61d127-5160-4dbe-874a-cb15efe79026"
      },
      "execution_count": null,
      "outputs": [
        {
          "output_type": "execute_result",
          "data": {
            "text/plain": [
              "array([[14, 24,  8,  9],\n",
              "       [21, 12,  3, 54],\n",
              "       [63,  6,  1, 72]])"
            ]
          },
          "metadata": {},
          "execution_count": 32
        }
      ]
    },
    {
      "cell_type": "markdown",
      "source": [
        "**Expalanation for element-wise multiplication:**\n",
        "\n",
        "1) Dimensions of both arrays are not same.--- add 1 from leftside to shape of array2.so, shape of array2 (4,) becomes (1,4)\n",
        "\n",
        "2) if '1' is available in shape of array2 , then increase '1' to the respective index of array1. Now , shape of array2 (1,4) becomes (3,4)\n",
        "\n",
        "3) shape of array2(3,4) is same as shape of array1(3,4).\n",
        "\n",
        "4) Hence array2 can be broadcasted to array1.so,we can perform mathematical operations(here multiplication)."
      ],
      "metadata": {
        "id": "KtKrJg5wtgR4"
      }
    },
    {
      "cell_type": "markdown",
      "source": [
        "## 3) Create a 2D array named array1 of shape(3,4) using random values between 20 and 30 and create another 2D array named array2 of shape(3,5) using random values between 1 and 10.\n",
        "\n",
        "### a) Try to add array1 and array2 together and explain why we got error here?"
      ],
      "metadata": {
        "id": "M-FoXnAnfzYh"
      }
    },
    {
      "cell_type": "code",
      "source": [
        "# Creating a 2D array named array1 of shape(3,4) using random values between 20 and 30\n",
        "\n",
        "array1 = np.random.randint(20,30,(3,4))\n",
        "array1"
      ],
      "metadata": {
        "colab": {
          "base_uri": "https://localhost:8080/"
        },
        "id": "HhLtkY-8h6Xp",
        "outputId": "2e6d44eb-c178-453b-a961-e9f1baed3da0"
      },
      "execution_count": null,
      "outputs": [
        {
          "output_type": "execute_result",
          "data": {
            "text/plain": [
              "array([[22, 25, 21, 28],\n",
              "       [21, 25, 24, 22],\n",
              "       [28, 23, 25, 20]])"
            ]
          },
          "metadata": {},
          "execution_count": 33
        }
      ]
    },
    {
      "cell_type": "code",
      "source": [
        "# Creating a 2D array named array2 of shape(3,5) using random values between 1 and 10\n",
        "\n",
        "array2 = np.random.randint(1,10,(3,5))\n",
        "array2"
      ],
      "metadata": {
        "colab": {
          "base_uri": "https://localhost:8080/"
        },
        "id": "OtpIiopIs_Yf",
        "outputId": "3fc0e7aa-208d-442c-bc56-9869c71ded0e"
      },
      "execution_count": null,
      "outputs": [
        {
          "output_type": "execute_result",
          "data": {
            "text/plain": [
              "array([[4, 7, 4, 5, 8],\n",
              "       [7, 4, 1, 5, 5],\n",
              "       [6, 8, 7, 7, 3]])"
            ]
          },
          "metadata": {},
          "execution_count": 34
        }
      ]
    },
    {
      "cell_type": "code",
      "source": [
        "# adding array1 and array2\n",
        "\n",
        "array1 + array2"
      ],
      "metadata": {
        "id": "0Dds6I3QtVaC",
        "colab": {
          "base_uri": "https://localhost:8080/",
          "height": 183
        },
        "outputId": "4c6c51bd-6224-4057-efb5-0a2de7cd9ff0"
      },
      "execution_count": null,
      "outputs": [
        {
          "output_type": "error",
          "ename": "NameError",
          "evalue": "name 'array1' is not defined",
          "traceback": [
            "\u001b[0;31m---------------------------------------------------------------------------\u001b[0m",
            "\u001b[0;31mNameError\u001b[0m                                 Traceback (most recent call last)",
            "\u001b[0;32m<ipython-input-1-f0d2fc78199b>\u001b[0m in \u001b[0;36m<cell line: 0>\u001b[0;34m()\u001b[0m\n\u001b[1;32m      1\u001b[0m \u001b[0;31m# adding array1 and array2\u001b[0m\u001b[0;34m\u001b[0m\u001b[0;34m\u001b[0m\u001b[0m\n\u001b[1;32m      2\u001b[0m \u001b[0;34m\u001b[0m\u001b[0m\n\u001b[0;32m----> 3\u001b[0;31m \u001b[0marray1\u001b[0m \u001b[0;34m+\u001b[0m \u001b[0marray2\u001b[0m\u001b[0;34m\u001b[0m\u001b[0;34m\u001b[0m\u001b[0m\n\u001b[0m",
            "\u001b[0;31mNameError\u001b[0m: name 'array1' is not defined"
          ]
        }
      ]
    },
    {
      "cell_type": "markdown",
      "source": [
        "**Expalanation for addition array1 between array2:**\n",
        "\n",
        "1) Dimensions of both arrays are  not same here .(second dimension of both arrays are not same (4 and 5).)\n",
        "\n",
        "2) And also neither dimension is 1.\n",
        "\n",
        "3) Hence, array2 can not be broadcasted to array1 .so,we cannot perform addition operation.\n"
      ],
      "metadata": {
        "id": "CUZODRrvuXES"
      }
    },
    {
      "cell_type": "markdown",
      "source": [
        "## 4) Explain the differences between rand,randn,randint, and uniform with examples?"
      ],
      "metadata": {
        "id": "OAGj0uzah7Md"
      }
    },
    {
      "cell_type": "markdown",
      "source": [
        "## <b><u>rand()</u></b> :\n",
        "\n",
        "The rand() function in Python,typically from libraries like NumPy or PyTorch, generates random values drawn from a uniform distribution over the range [0, 1). You can specify the shape of the array to determine how many random values are returned and in what structure.\n",
        "\n",
        "**Note :** Every element will be within the range of [0,1)\n",
        "\n",
        "\n",
        "      syntax : numpy.random.rand(d0, d1, ..., dn)\n",
        "\n",
        "* d0,d1, - - -, dn are specific dimensions of returned array(optional)(should be positive values).If you donot mention any dimensions,rand() returns a random float value.\n"
      ],
      "metadata": {
        "id": "VeScE56n0owg"
      }
    },
    {
      "cell_type": "code",
      "source": [
        "# generate a single random value\n",
        "\n",
        "value = np.random.rand()\n",
        "value"
      ],
      "metadata": {
        "colab": {
          "base_uri": "https://localhost:8080/"
        },
        "id": "U2YQILyYi-Sp",
        "outputId": "78b7c7ca-ba52-4957-df7c-53ca808db618"
      },
      "execution_count": null,
      "outputs": [
        {
          "output_type": "execute_result",
          "data": {
            "text/plain": [
              "0.14260031444628352"
            ]
          },
          "metadata": {},
          "execution_count": 41
        }
      ]
    },
    {
      "cell_type": "code",
      "source": [
        "# generate an array of shape(1,2)\n",
        "\n",
        "array = np.random.rand(1,2)\n",
        "array"
      ],
      "metadata": {
        "colab": {
          "base_uri": "https://localhost:8080/"
        },
        "id": "EhVnIWWm3mY2",
        "outputId": "ec741d2a-e363-49b0-e3d6-36389eb38779"
      },
      "execution_count": null,
      "outputs": [
        {
          "output_type": "execute_result",
          "data": {
            "text/plain": [
              "array([[0.173608  , 0.96660969]])"
            ]
          },
          "metadata": {},
          "execution_count": 44
        }
      ]
    },
    {
      "cell_type": "markdown",
      "source": [
        "### <b><u>randn()</u></b> :\n",
        "\n",
        "The randn() function generates random values drawn from the standard normal distribution (mean = 0, standard deviation = 1). The user specifies the shape of the output, and the function returns random values in that structure.\n",
        "\n",
        "**Note :** Every element will be within range of normal distribution(0,1)\n",
        "\n",
        "     syntax : numpy.random.randn(d0, d1, ..., dn)\n",
        "\n",
        "* d0,d1, - - -, dn are specific dimensions of returned array(optional)(should be positive values).If you donot mention any dimensions,randn() returns a random float value.\n"
      ],
      "metadata": {
        "id": "gXiV-IzT4HX8"
      }
    },
    {
      "cell_type": "code",
      "source": [
        "# generate a single random value\n",
        "\n",
        "value = np.random.randn()\n",
        "value"
      ],
      "metadata": {
        "colab": {
          "base_uri": "https://localhost:8080/"
        },
        "id": "b8TApwHW33Qx",
        "outputId": "447461a4-eea0-477d-9313-06f6a6fcdd2c"
      },
      "execution_count": null,
      "outputs": [
        {
          "output_type": "execute_result",
          "data": {
            "text/plain": [
              "0.1088634678336795"
            ]
          },
          "metadata": {},
          "execution_count": 45
        }
      ]
    },
    {
      "cell_type": "code",
      "source": [
        "# generate an array of shape(1,2)\n",
        "\n",
        "array = np.random.randn(1,2)\n",
        "array"
      ],
      "metadata": {
        "colab": {
          "base_uri": "https://localhost:8080/"
        },
        "id": "JjSg2XzE4_3G",
        "outputId": "f5f33451-cd2d-4c0b-cec7-021774e34c7d"
      },
      "execution_count": null,
      "outputs": [
        {
          "output_type": "execute_result",
          "data": {
            "text/plain": [
              "array([[ 0.50780959, -0.86222735]])"
            ]
          },
          "metadata": {},
          "execution_count": 46
        }
      ]
    },
    {
      "cell_type": "markdown",
      "source": [
        "## <b><u>randint()</u></b> :            \n",
        "\n",
        "The randint() function generates random integers from a specified range\n",
        "[low,high). The user can define the range and the shape of the output.\n",
        "\n",
        "**Note :** low value is inclusive and high value is exclusive.\n",
        "\n",
        "    syntax : numpy.random.randint(low, high=None, size=None)\n",
        "\n",
        "* low : lower bound value(inclusive)\n",
        "* high(optional) : higher bound value(exclusive)\n",
        "* size(optional) : specify output shape.Default is None means returns a single value\n"
      ],
      "metadata": {
        "id": "9HjOinMW5b5z"
      }
    },
    {
      "cell_type": "code",
      "source": [
        "# generate a single random integer value\n",
        "\n",
        "int_value = np.random.randint(1,10)\n",
        "int_value"
      ],
      "metadata": {
        "colab": {
          "base_uri": "https://localhost:8080/"
        },
        "id": "ocXqdI6g5I4A",
        "outputId": "ef3a50a4-65e2-4653-ecfa-c07a557f5bde"
      },
      "execution_count": null,
      "outputs": [
        {
          "output_type": "execute_result",
          "data": {
            "text/plain": [
              "8"
            ]
          },
          "metadata": {},
          "execution_count": 48
        }
      ]
    },
    {
      "cell_type": "code",
      "source": [
        "# generate an array of shape(3,4)\n",
        "\n",
        "int_array = np.random.randint(1,10,(3,4))\n",
        "int_array"
      ],
      "metadata": {
        "colab": {
          "base_uri": "https://localhost:8080/"
        },
        "id": "0LRN_7zR6b2z",
        "outputId": "e452fd5e-475b-4b76-e9e8-3d28fefc7430"
      },
      "execution_count": null,
      "outputs": [
        {
          "output_type": "execute_result",
          "data": {
            "text/plain": [
              "array([[4, 3, 4, 9],\n",
              "       [8, 2, 6, 4],\n",
              "       [1, 7, 3, 4]])"
            ]
          },
          "metadata": {},
          "execution_count": 49
        }
      ]
    },
    {
      "cell_type": "markdown",
      "source": [
        "### <u><b>uniform()</b></u> :              \n",
        "The uniform() function generates random numbers from a uniform distribution over the range [low,high), where all values are equally likely, with low as the inclusive lower bound, high as the exclusive upper bound, and size specifying the shape of the output array.\n",
        "\n",
        "    syntax : numpy.random.uniform(low, high, size=None)\n",
        "\n",
        "* low : lower bound of range.(inclusive)\n",
        "* high : higher bound of range(exclusive)\n",
        "* size(optional) : specify output shape.Default value is None means returns a single random number."
      ],
      "metadata": {
        "id": "ZSIZjER66zFT"
      }
    },
    {
      "cell_type": "code",
      "source": [
        "# generate a single random value\n",
        "\n",
        "value = np.random.uniform(2,5)\n",
        "value\n"
      ],
      "metadata": {
        "colab": {
          "base_uri": "https://localhost:8080/"
        },
        "id": "za5nQVGF6xdS",
        "outputId": "d2b27096-6705-425f-f854-cec32abd6b16"
      },
      "execution_count": null,
      "outputs": [
        {
          "output_type": "execute_result",
          "data": {
            "text/plain": [
              "4.783140721413223"
            ]
          },
          "metadata": {},
          "execution_count": 51
        }
      ]
    },
    {
      "cell_type": "code",
      "source": [
        "# generate an array of shape (3,4) in range(1,2)\n",
        "\n",
        "array = np.random.uniform(1,2,(3,4))\n",
        "array"
      ],
      "metadata": {
        "colab": {
          "base_uri": "https://localhost:8080/"
        },
        "id": "IIjEfz0Z8A3g",
        "outputId": "9b0c6486-2af0-4f02-a09f-34f4a62faeb6"
      },
      "execution_count": null,
      "outputs": [
        {
          "output_type": "execute_result",
          "data": {
            "text/plain": [
              "array([[1.38659638, 1.46212547, 1.57862899, 1.1139206 ],\n",
              "       [1.36841365, 1.36074842, 1.88001849, 1.27454204],\n",
              "       [1.22458118, 1.81397318, 1.05820075, 1.73015342]])"
            ]
          },
          "metadata": {},
          "execution_count": 52
        }
      ]
    },
    {
      "cell_type": "code",
      "source": [],
      "metadata": {
        "id": "svcLaMXg8dky"
      },
      "execution_count": null,
      "outputs": []
    },
    {
      "cell_type": "markdown",
      "source": [
        "## differences between rand,randn,randint, and uniform :\n",
        "\n",
        "\n",
        "Function|\tDistribution\t|Range\t|Output Type\n",
        "--------|---------------|-------|-----------\n",
        "**`rand`**|\tUniform|\t[0, 1)\t|Floating-point\n",
        "**`randn`**|\tStandard Normal(mean=0, std=1)\t|Approximately [-3, 3]\t|Floating-point\n",
        "**`randint`**|\tUniform (Discrete)\t[low, high) |(integer range)\t|Integer\n",
        "**`uniform`**|\tUniform|\t[low, high)|\tFloating-point"
      ],
      "metadata": {
        "id": "DiQRudVXAHAh"
      }
    },
    {
      "cell_type": "code",
      "source": [],
      "metadata": {
        "id": "NYVgTVcABQyf"
      },
      "execution_count": null,
      "outputs": []
    }
  ]
}