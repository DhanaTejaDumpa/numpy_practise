{
  "nbformat": 4,
  "nbformat_minor": 0,
  "metadata": {
    "colab": {
      "provenance": [],
      "authorship_tag": "ABX9TyPMnlONGzrnvYjc0p7er2BI",
      "include_colab_link": true
    },
    "kernelspec": {
      "name": "python3",
      "display_name": "Python 3"
    },
    "language_info": {
      "name": "python"
    }
  },
  "cells": [
    {
      "cell_type": "markdown",
      "metadata": {
        "id": "view-in-github",
        "colab_type": "text"
      },
      "source": [
        "<a href=\"https://colab.research.google.com/github/DhanaTejaDumpa/numpy_practise/blob/main/002_24Jan25_arrayOperations_task3.ipynb\" target=\"_parent\"><img src=\"https://colab.research.google.com/assets/colab-badge.svg\" alt=\"Open In Colab\"/></a>"
      ]
    },
    {
      "cell_type": "markdown",
      "source": [
        "## Date : 24/01/2025\n",
        "\n",
        "# <center><u>**Array Functions**</u></center>"
      ],
      "metadata": {
        "id": "hyq_MXnGAlMp"
      }
    },
    {
      "cell_type": "markdown",
      "source": [
        "## 1) a. Generate a numpy array with arange() function. .\n",
        "## - Access element at the second index of the NumPy array.\n",
        "## - Slice the first three elements.\n"
      ],
      "metadata": {
        "id": "fqNCsN3-A-un"
      }
    },
    {
      "cell_type": "code",
      "execution_count": null,
      "metadata": {
        "id": "N5P2f70j5XGB"
      },
      "outputs": [],
      "source": [
        "import numpy as np"
      ]
    },
    {
      "cell_type": "code",
      "source": [
        "# creating a 1D array\n",
        "\n",
        "arr = np.arange(1,21,2)\n",
        "arr"
      ],
      "metadata": {
        "colab": {
          "base_uri": "https://localhost:8080/"
        },
        "id": "ZYSYcTp7Bo-b",
        "outputId": "92e271fb-98ee-49be-9ff4-102041d8e09b"
      },
      "execution_count": null,
      "outputs": [
        {
          "output_type": "execute_result",
          "data": {
            "text/plain": [
              "array([ 1,  3,  5,  7,  9, 11, 13, 15, 17, 19])"
            ]
          },
          "metadata": {},
          "execution_count": 5
        }
      ]
    },
    {
      "cell_type": "code",
      "source": [
        "# accessing the element at second index\n",
        "\n",
        "arr[2]"
      ],
      "metadata": {
        "colab": {
          "base_uri": "https://localhost:8080/"
        },
        "id": "BxB_ay3FCBGk",
        "outputId": "39c6cf6e-f619-4253-d1aa-4d2a56c08105"
      },
      "execution_count": null,
      "outputs": [
        {
          "output_type": "execute_result",
          "data": {
            "text/plain": [
              "5"
            ]
          },
          "metadata": {},
          "execution_count": 6
        }
      ]
    },
    {
      "cell_type": "code",
      "source": [
        "# slicing first three elements\n",
        "\n",
        "arr[:3]"
      ],
      "metadata": {
        "colab": {
          "base_uri": "https://localhost:8080/"
        },
        "id": "8s4jX9p3FvGv",
        "outputId": "33890ac9-a7ae-415a-c770-1f5eb17ec02d"
      },
      "execution_count": null,
      "outputs": [
        {
          "output_type": "execute_result",
          "data": {
            "text/plain": [
              "array([1, 3, 5])"
            ]
          },
          "metadata": {},
          "execution_count": 7
        }
      ]
    },
    {
      "cell_type": "markdown",
      "source": [
        "## 1) b. Create a 2D array .\n",
        "## - Access the element in the second row and third column of the 2D array.\n",
        "## - Slice the first two rows and columns of the 2D array.\n"
      ],
      "metadata": {
        "id": "QTm1jTVVGxDw"
      }
    },
    {
      "cell_type": "code",
      "source": [
        "# creating a 2D array\n",
        "\n",
        "arr2 = np.arange(1,11).reshape(2,5)\n",
        "arr2"
      ],
      "metadata": {
        "colab": {
          "base_uri": "https://localhost:8080/"
        },
        "id": "hHWVU2FeGu99",
        "outputId": "eee59453-0857-443a-9a89-f3057f0e8a54"
      },
      "execution_count": null,
      "outputs": [
        {
          "output_type": "execute_result",
          "data": {
            "text/plain": [
              "array([[ 1,  2,  3,  4,  5],\n",
              "       [ 6,  7,  8,  9, 10]])"
            ]
          },
          "metadata": {},
          "execution_count": 9
        }
      ]
    },
    {
      "cell_type": "code",
      "source": [
        "# accessing the element in the second row of third column\n",
        "\n",
        "arr2[1,2]"
      ],
      "metadata": {
        "colab": {
          "base_uri": "https://localhost:8080/"
        },
        "id": "UA5JXbkaG6Nw",
        "outputId": "b724d745-c55d-4b2f-bb14-f0e7d4b5d9fe"
      },
      "execution_count": null,
      "outputs": [
        {
          "output_type": "execute_result",
          "data": {
            "text/plain": [
              "8"
            ]
          },
          "metadata": {},
          "execution_count": 10
        }
      ]
    },
    {
      "cell_type": "code",
      "source": [
        "# slicing first two rows and columns\n",
        "\n",
        "arr2[0:2,0:2]"
      ],
      "metadata": {
        "colab": {
          "base_uri": "https://localhost:8080/"
        },
        "id": "tS3i0VBwJAyt",
        "outputId": "9d610894-1a21-4bba-b747-815216e50e52"
      },
      "execution_count": null,
      "outputs": [
        {
          "output_type": "execute_result",
          "data": {
            "text/plain": [
              "array([[1, 2],\n",
              "       [6, 7]])"
            ]
          },
          "metadata": {},
          "execution_count": 12
        }
      ]
    },
    {
      "cell_type": "markdown",
      "source": [
        "## 2) a.Create an array that includes values from 1 to 10 with a step of 2.\n",
        "\n"
      ],
      "metadata": {
        "id": "kN23je4cKgsd"
      }
    },
    {
      "cell_type": "code",
      "source": [
        "arr = np.arange(1,11,2)\n",
        "arr"
      ],
      "metadata": {
        "colab": {
          "base_uri": "https://localhost:8080/"
        },
        "id": "dzxDzwRDJrEd",
        "outputId": "f6aeb07e-ceb8-4cb6-8282-a40c44ed686e"
      },
      "execution_count": null,
      "outputs": [
        {
          "output_type": "execute_result",
          "data": {
            "text/plain": [
              "array([1, 3, 5, 7, 9])"
            ]
          },
          "metadata": {},
          "execution_count": 13
        }
      ]
    },
    {
      "cell_type": "markdown",
      "source": [
        "## 2) b. Create a 2x3 array using reshape() from a 1D array with values 1 to 6."
      ],
      "metadata": {
        "id": "D7Mes52SKtGl"
      }
    },
    {
      "cell_type": "code",
      "source": [
        "arr2 = np.arange(1,7).reshape(2,3)\n",
        "arr2"
      ],
      "metadata": {
        "colab": {
          "base_uri": "https://localhost:8080/"
        },
        "id": "c6dbyNMzMPMB",
        "outputId": "2f229b92-ad26-41e2-923b-8f154d12f7a7"
      },
      "execution_count": null,
      "outputs": [
        {
          "output_type": "execute_result",
          "data": {
            "text/plain": [
              "array([[1, 2, 3],\n",
              "       [4, 5, 6]])"
            ]
          },
          "metadata": {},
          "execution_count": 14
        }
      ]
    },
    {
      "cell_type": "markdown",
      "source": [
        "## 3) Create a 3D array print its shape and then use squeeze() to remove the singleton dimension. Display both the input and output arrays along with their shapes."
      ],
      "metadata": {
        "id": "j05smULPNWRM"
      }
    },
    {
      "cell_type": "code",
      "source": [
        "# Note :  The singleton dimensions are the dimensions with size 1.\n",
        "\n",
        "arr3 = np.arange(6).reshape(1,2,3)\n",
        "print(f'array : {arr3},array shape : {arr3.shape}')"
      ],
      "metadata": {
        "colab": {
          "base_uri": "https://localhost:8080/"
        },
        "id": "95tIYI9lMv7I",
        "outputId": "4639256d-14a8-4f17-d3d3-022b294aeb15"
      },
      "execution_count": null,
      "outputs": [
        {
          "output_type": "stream",
          "name": "stdout",
          "text": [
            "array : [[[0 1 2]\n",
            "  [3 4 5]]],array shape : (1, 2, 3)\n"
          ]
        }
      ]
    },
    {
      "cell_type": "code",
      "source": [
        "arr3.squeeze()\n",
        "print(f'squeezed array : {arr3.squeeze()}, squeezed array shape : {arr3.squeeze().shape}')"
      ],
      "metadata": {
        "colab": {
          "base_uri": "https://localhost:8080/"
        },
        "id": "XtA_OvAqtJyX",
        "outputId": "f51d9939-86e6-4879-91cd-ae7336aab98a"
      },
      "execution_count": null,
      "outputs": [
        {
          "output_type": "stream",
          "name": "stdout",
          "text": [
            "squeezed array : [[0 1 2]\n",
            " [3 4 5]], squeezed array shape : (2, 3)\n"
          ]
        }
      ]
    },
    {
      "cell_type": "markdown",
      "source": [
        "## 4) Create a 2D NumPy array and use np.expand_dims() to add singleton dimensions. Show the array and its shape before and after each operation."
      ],
      "metadata": {
        "id": "lmCd0hn1NkeB"
      }
    },
    {
      "cell_type": "code",
      "source": [
        "arr2 = np.arange(4).reshape(2,2)\n",
        "print(f'array : {arr2},array shape : {arr2.shape}')"
      ],
      "metadata": {
        "colab": {
          "base_uri": "https://localhost:8080/"
        },
        "id": "iK2qE4cANm2D",
        "outputId": "1f1b2ad5-7711-4192-9304-d5bad223a14f"
      },
      "execution_count": null,
      "outputs": [
        {
          "output_type": "execute_result",
          "data": {
            "text/plain": [
              "(array([[0, 1],\n",
              "        [2, 3]]),\n",
              " (2, 2),\n",
              " 2)"
            ]
          },
          "metadata": {},
          "execution_count": 27
        }
      ]
    },
    {
      "cell_type": "code",
      "source": [
        "ex_arr2 = np.expand_dims(arr2,0)\n",
        "print(f'expanded array : {ex_arr2},expanded array shape : {ex_arr2.shape}')"
      ],
      "metadata": {
        "colab": {
          "base_uri": "https://localhost:8080/"
        },
        "id": "QzJyV3rEzOvH",
        "outputId": "132f6344-5aad-4a97-de1b-1d655b7dccf1"
      },
      "execution_count": null,
      "outputs": [
        {
          "output_type": "stream",
          "name": "stdout",
          "text": [
            "expanded array : [[[0 1]\n",
            "  [2 3]]],expanded array shape : (1, 2, 2)\n"
          ]
        }
      ]
    }
  ]
}