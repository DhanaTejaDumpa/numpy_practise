{
  "nbformat": 4,
  "nbformat_minor": 0,
  "metadata": {
    "colab": {
      "provenance": [],
      "authorship_tag": "ABX9TyNyAPsc/tTJw7Ba51agS2oe",
      "include_colab_link": true
    },
    "kernelspec": {
      "name": "python3",
      "display_name": "Python 3"
    },
    "language_info": {
      "name": "python"
    }
  },
  "cells": [
    {
      "cell_type": "markdown",
      "metadata": {
        "id": "view-in-github",
        "colab_type": "text"
      },
      "source": [
        "<a href=\"https://colab.research.google.com/github/DhanaTejaDumpa/numpy_practise/blob/main/004_29Jan25_stacking_and_split_task5.ipynb\" target=\"_parent\"><img src=\"https://colab.research.google.com/assets/colab-badge.svg\" alt=\"Open In Colab\"/></a>"
      ]
    },
    {
      "cell_type": "markdown",
      "source": [
        "### 1) Given two 1D arrays, a = [1, 2, 3] and b = [4, 5, 6], use NumPy to vertically stack them. What is the result?"
      ],
      "metadata": {
        "id": "mWKtHdaMaFuI"
      }
    },
    {
      "cell_type": "code",
      "source": [
        "import numpy as np"
      ],
      "metadata": {
        "id": "UMxZ6nE1aTDr"
      },
      "execution_count": 1,
      "outputs": []
    },
    {
      "cell_type": "code",
      "source": [
        "a = [1,2,3]\n",
        "b = [4,5,6]\n",
        "a,b                   # a and b are two 1D arrays"
      ],
      "metadata": {
        "id": "DIc8dUpcZit9",
        "colab": {
          "base_uri": "https://localhost:8080/"
        },
        "outputId": "ae3ad529-0cbd-4fb3-c7fd-ea31e5ca5fa1"
      },
      "execution_count": 10,
      "outputs": [
        {
          "output_type": "execute_result",
          "data": {
            "text/plain": [
              "([1, 2, 3], [4, 5, 6])"
            ]
          },
          "metadata": {},
          "execution_count": 10
        }
      ]
    },
    {
      "cell_type": "code",
      "source": [
        "np.vstack((a,b))"
      ],
      "metadata": {
        "colab": {
          "base_uri": "https://localhost:8080/"
        },
        "id": "Z_H4oWFFeYIE",
        "outputId": "3063f2fc-08b1-4b49-c47e-519ff535776e"
      },
      "execution_count": 11,
      "outputs": [
        {
          "output_type": "execute_result",
          "data": {
            "text/plain": [
              "array([[1, 2, 3],\n",
              "       [4, 5, 6]])"
            ]
          },
          "metadata": {},
          "execution_count": 11
        }
      ]
    },
    {
      "cell_type": "markdown",
      "source": [
        "**Note :** In case of 1D arrays, vstack returns a 2D output."
      ],
      "metadata": {
        "id": "EktRLtudxI37"
      }
    },
    {
      "cell_type": "markdown",
      "source": [
        "### 2)How can you stack two 2D arrays A and B vertically, where A has the shape (2, 3) and B has the shape (2, 3)?"
      ],
      "metadata": {
        "id": "xos3BIueaimP"
      }
    },
    {
      "cell_type": "code",
      "source": [
        "A = np.arange(6).reshape(2,3)\n",
        "B = np.arange(6,12).reshape(2,3)\n",
        "\n",
        "A,B      # A and B are two 2D arrays"
      ],
      "metadata": {
        "id": "vbkd5bdjZg6R",
        "colab": {
          "base_uri": "https://localhost:8080/"
        },
        "outputId": "cf090c8e-fc4d-4bfc-826e-848a0b0a41f8"
      },
      "execution_count": 19,
      "outputs": [
        {
          "output_type": "execute_result",
          "data": {
            "text/plain": [
              "(array([[0, 1, 2],\n",
              "        [3, 4, 5]]),\n",
              " array([[ 6,  7,  8],\n",
              "        [ 9, 10, 11]]))"
            ]
          },
          "metadata": {},
          "execution_count": 19
        }
      ]
    },
    {
      "cell_type": "code",
      "source": [
        "np.vstack((A,B))"
      ],
      "metadata": {
        "colab": {
          "base_uri": "https://localhost:8080/"
        },
        "id": "VHmzflKt1DNl",
        "outputId": "6cea8b38-28f8-4e70-ebee-d2606526684a"
      },
      "execution_count": 20,
      "outputs": [
        {
          "output_type": "execute_result",
          "data": {
            "text/plain": [
              "array([[ 0,  1,  2],\n",
              "       [ 3,  4,  5],\n",
              "       [ 6,  7,  8],\n",
              "       [ 9, 10, 11]])"
            ]
          },
          "metadata": {},
          "execution_count": 20
        }
      ]
    },
    {
      "cell_type": "markdown",
      "source": [
        "**Note :** since both arrays have same number of columns,so they can be vertically stacked."
      ],
      "metadata": {
        "id": "BIpPw_Ku1PdM"
      }
    },
    {
      "cell_type": "markdown",
      "source": [
        "### 3.What is the result of horizontally stacking two arrays x = [1, 2, 3] and y = [4, 5, 6] in NumPy?"
      ],
      "metadata": {
        "id": "9K2Gc0snbDff"
      }
    },
    {
      "cell_type": "code",
      "execution_count": 22,
      "metadata": {
        "id": "hPDoFqAzZekx",
        "colab": {
          "base_uri": "https://localhost:8080/"
        },
        "outputId": "46664e85-0a49-435f-c413-d16b6f898317"
      },
      "outputs": [
        {
          "output_type": "execute_result",
          "data": {
            "text/plain": [
              "([1, 2, 3], [4, 5, 6])"
            ]
          },
          "metadata": {},
          "execution_count": 22
        }
      ],
      "source": [
        "x = [1,2,3]\n",
        "y = [4,5,6]\n",
        "\n",
        "x,y    # x and y are 1D arrays"
      ]
    },
    {
      "cell_type": "code",
      "source": [
        "np.hstack((x,y))"
      ],
      "metadata": {
        "colab": {
          "base_uri": "https://localhost:8080/"
        },
        "id": "i4Zsfe3T3y7C",
        "outputId": "179dc6cf-90d0-48c7-c36c-41019d40bf28"
      },
      "execution_count": 21,
      "outputs": [
        {
          "output_type": "execute_result",
          "data": {
            "text/plain": [
              "array([1, 2, 3, 4, 5, 6])"
            ]
          },
          "metadata": {},
          "execution_count": 21
        }
      ]
    },
    {
      "cell_type": "markdown",
      "source": [
        "**Note :** In case of 1D ,hstack returns same dimensional output i.e., 1D"
      ],
      "metadata": {
        "id": "G2h03kvR4HZ6"
      }
    },
    {
      "cell_type": "markdown",
      "source": [
        "### 4) How would you combine two 2D arrays A of shape (3, 2) and B of shape (3, 2) horizontally using NumPy?"
      ],
      "metadata": {
        "id": "EvfvsSYubRli"
      }
    },
    {
      "cell_type": "code",
      "source": [
        "A = np.arange(6).reshape(3,2)\n",
        "B = np.arange(6,12).reshape(3,2)\n",
        "\n",
        "A,B"
      ],
      "metadata": {
        "id": "9xpG3m7iZkma",
        "colab": {
          "base_uri": "https://localhost:8080/"
        },
        "outputId": "8bdedfd6-655b-40f1-beba-45254ca85e4a"
      },
      "execution_count": 23,
      "outputs": [
        {
          "output_type": "execute_result",
          "data": {
            "text/plain": [
              "(array([[0, 1],\n",
              "        [2, 3],\n",
              "        [4, 5]]),\n",
              " array([[ 6,  7],\n",
              "        [ 8,  9],\n",
              "        [10, 11]]))"
            ]
          },
          "metadata": {},
          "execution_count": 23
        }
      ]
    },
    {
      "cell_type": "code",
      "source": [
        "np.hstack((A,B))"
      ],
      "metadata": {
        "colab": {
          "base_uri": "https://localhost:8080/"
        },
        "id": "nNk62Lob4qPk",
        "outputId": "43d95340-9732-4a86-b164-bb4c60b017e8"
      },
      "execution_count": 24,
      "outputs": [
        {
          "output_type": "execute_result",
          "data": {
            "text/plain": [
              "array([[ 0,  1,  6,  7],\n",
              "       [ 2,  3,  8,  9],\n",
              "       [ 4,  5, 10, 11]])"
            ]
          },
          "metadata": {},
          "execution_count": 24
        }
      ]
    },
    {
      "cell_type": "markdown",
      "source": [
        "**Note :** since both arrays have same number of rows,so they can be horizontally stacked."
      ],
      "metadata": {
        "id": "fCvPTg1N5EgF"
      }
    },
    {
      "cell_type": "markdown",
      "source": [
        "### 5) Given a 1D array arr = [10, 20, 30, 40, 50, 60], use NumPy to split the array into three equal parts."
      ],
      "metadata": {
        "id": "al2QnaUUbhQj"
      }
    },
    {
      "cell_type": "code",
      "source": [
        "arr = np.array([10, 20, 30, 40, 50, 60])\n",
        "np.split(arr,3)        # syntax : np.split(array,sections)  ,by default axis = 0"
      ],
      "metadata": {
        "id": "3y_ExLJDZkdR",
        "colab": {
          "base_uri": "https://localhost:8080/"
        },
        "outputId": "206ee670-fd92-486a-8daa-b152617af5f0"
      },
      "execution_count": 8,
      "outputs": [
        {
          "output_type": "execute_result",
          "data": {
            "text/plain": [
              "[array([10, 20]), array([30, 40]), array([50, 60])]"
            ]
          },
          "metadata": {},
          "execution_count": 8
        }
      ]
    },
    {
      "cell_type": "markdown",
      "source": [
        "### 6.Given the 1D NumPy array arr = [10, 20, 30, 40, 50, 60, 70, 80, 90, 100], use NumPy to split the array into four parts where:\n",
        "* The first part has 3 elements,\n",
        "* The second part has 2 elements,\n",
        "* The third part has 4 elements,\n",
        "* The fourth part contains the remaining elements.\n"
      ],
      "metadata": {
        "id": "g1pCS18Fb-_W"
      }
    },
    {
      "cell_type": "code",
      "source": [
        "arr = np.array([10, 20, 30, 40, 50, 60, 70, 80, 90, 100])\n",
        "np.array_split(arr,[3,5,9])   # syntax : np.array_split(array,indices) by default axis = 0"
      ],
      "metadata": {
        "id": "Tk8yKwCfZkZw",
        "colab": {
          "base_uri": "https://localhost:8080/"
        },
        "outputId": "1ff5ff3a-12f3-442a-cc79-a75afc983478"
      },
      "execution_count": 9,
      "outputs": [
        {
          "output_type": "execute_result",
          "data": {
            "text/plain": [
              "[array([10, 20, 30]), array([40, 50]), array([60, 70, 80, 90]), array([100])]"
            ]
          },
          "metadata": {},
          "execution_count": 9
        }
      ]
    },
    {
      "cell_type": "code",
      "source": [],
      "metadata": {
        "id": "0CEEDsm5ZkRx"
      },
      "execution_count": null,
      "outputs": []
    },
    {
      "cell_type": "code",
      "source": [],
      "metadata": {
        "id": "JyOzzz2sfZj4"
      },
      "execution_count": null,
      "outputs": []
    }
  ]
}