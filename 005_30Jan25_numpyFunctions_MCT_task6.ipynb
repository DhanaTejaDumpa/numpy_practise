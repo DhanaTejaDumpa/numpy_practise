{
  "nbformat": 4,
  "nbformat_minor": 0,
  "metadata": {
    "colab": {
      "provenance": [],
      "authorship_tag": "ABX9TyOEz/PM/zk5LhPel0ccr3Ff",
      "include_colab_link": true
    },
    "kernelspec": {
      "name": "python3",
      "display_name": "Python 3"
    },
    "language_info": {
      "name": "python"
    }
  },
  "cells": [
    {
      "cell_type": "markdown",
      "metadata": {
        "id": "view-in-github",
        "colab_type": "text"
      },
      "source": [
        "<a href=\"https://colab.research.google.com/github/DhanaTejaDumpa/numpy_practise/blob/main/005_30Jan25_numpyFunctions_MCT_task6.ipynb\" target=\"_parent\"><img src=\"https://colab.research.google.com/assets/colab-badge.svg\" alt=\"Open In Colab\"/></a>"
      ]
    },
    {
      "cell_type": "markdown",
      "source": [
        "# 30/01/25"
      ],
      "metadata": {
        "id": "ME0Ply50Flne"
      }
    },
    {
      "cell_type": "markdown",
      "source": [
        "### 1. Create a 3x3 array\n",
        "   - filled with ones\n",
        "   - with ones on the diagonal\n",
        "   - filled with zeros\n"
      ],
      "metadata": {
        "id": "r00CDSs_lV_L"
      }
    },
    {
      "cell_type": "code",
      "source": [
        "import numpy as np"
      ],
      "metadata": {
        "id": "RFmCcQw7nFdS"
      },
      "execution_count": null,
      "outputs": []
    },
    {
      "cell_type": "code",
      "execution_count": null,
      "metadata": {
        "colab": {
          "base_uri": "https://localhost:8080/"
        },
        "id": "0IC1KEU1hLgG",
        "outputId": "c2fa9e51-aca1-4fde-d43f-1cffb832f5f2"
      },
      "outputs": [
        {
          "output_type": "execute_result",
          "data": {
            "text/plain": [
              "array([[1., 1., 1.],\n",
              "       [1., 1., 1.],\n",
              "       [1., 1., 1.]])"
            ]
          },
          "metadata": {},
          "execution_count": 5
        }
      ],
      "source": [
        "# filled with ones\n",
        "\n",
        "arr1 = np.ones((3,3))\n",
        "arr1"
      ]
    },
    {
      "cell_type": "code",
      "source": [
        "# with ones on the diagonal\n",
        "\n",
        "arr2 = np.identity(3)\n",
        "arr2"
      ],
      "metadata": {
        "colab": {
          "base_uri": "https://localhost:8080/"
        },
        "id": "rcW4b4SyiZ5m",
        "outputId": "463ae3c4-a299-4ed4-ca22-638f877326d1"
      },
      "execution_count": null,
      "outputs": [
        {
          "output_type": "execute_result",
          "data": {
            "text/plain": [
              "array([[1., 0., 0.],\n",
              "       [0., 1., 0.],\n",
              "       [0., 0., 1.]])"
            ]
          },
          "metadata": {},
          "execution_count": 7
        }
      ]
    },
    {
      "cell_type": "code",
      "source": [
        "# filled with zeros\n",
        "\n",
        "arr3 = np.zeros((3,3))\n",
        "arr3"
      ],
      "metadata": {
        "colab": {
          "base_uri": "https://localhost:8080/"
        },
        "id": "4pEOOUtXiZ2H",
        "outputId": "049a6216-59a5-4513-d9a1-fcd2a5868a59"
      },
      "execution_count": null,
      "outputs": [
        {
          "output_type": "execute_result",
          "data": {
            "text/plain": [
              "array([[0., 0., 0.],\n",
              "       [0., 0., 0.],\n",
              "       [0., 0., 0.]])"
            ]
          },
          "metadata": {},
          "execution_count": 9
        }
      ]
    },
    {
      "cell_type": "markdown",
      "source": [
        "### 2.How do you find the mean, median, and standard deviation of a NumPy array ?"
      ],
      "metadata": {
        "id": "Bujulq-E_0AI"
      }
    },
    {
      "cell_type": "markdown",
      "source": [
        "* In NumPy, the **mean, median, and standard deviation** are **statistical measures** used to analyze numerical data.\n",
        "\n"
      ],
      "metadata": {
        "id": "gKwpAnVl_362"
      }
    },
    {
      "cell_type": "markdown",
      "source": [
        "## 1. <u>Mean (Average) – np.mean()</u>:\n",
        "The mean is the sum of all elements divided by the number of elements.\n",
        "\n",
        "Formula:\n",
        "      \n",
        "\n",
        " ![image.png](data:image/png;base64,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)\n"
      ],
      "metadata": {
        "id": "tHhy5jqlAqsI"
      }
    },
    {
      "cell_type": "code",
      "source": [
        "# calculating the mean of array\n",
        "arr = np.array([1,2,3,4])\n",
        "mean = np.mean(arr)\n",
        "mean"
      ],
      "metadata": {
        "colab": {
          "base_uri": "https://localhost:8080/"
        },
        "id": "N5lJW3sbiZz2",
        "outputId": "0a0e9686-2b29-4a93-d840-01b061b2ea40"
      },
      "execution_count": null,
      "outputs": [
        {
          "output_type": "execute_result",
          "data": {
            "text/plain": [
              "2.5"
            ]
          },
          "metadata": {},
          "execution_count": 19
        }
      ]
    },
    {
      "cell_type": "markdown",
      "source": [
        "## 2. <u>Median – np.median()</u>:\n",
        "* The `median` is the `middle value` when the numbers are arranged in `ascending order`.\n",
        "* If there is an `odd` number of elements, the median is the `middle one`.\n",
        "* If there is an `even` number of elements, the median is the `average of the two middle values`.\n"
      ],
      "metadata": {
        "id": "k9YNTHP5CMV-"
      }
    },
    {
      "cell_type": "code",
      "source": [
        "# finding median for the array which conatains odd number of elements\n",
        "\n",
        "arr1 = np.arange(7)\n",
        "median1 = np.median(arr1)\n",
        "print(arr1,median1,sep='\\n')\n"
      ],
      "metadata": {
        "colab": {
          "base_uri": "https://localhost:8080/"
        },
        "id": "9hJkRHtxiZu4",
        "outputId": "db31cb69-ab18-4f78-8a44-83b8783a3cd8"
      },
      "execution_count": null,
      "outputs": [
        {
          "output_type": "stream",
          "name": "stdout",
          "text": [
            "[0 1 2 3 4 5 6]\n",
            "3.0\n"
          ]
        }
      ]
    },
    {
      "cell_type": "code",
      "source": [
        "# finding median for the array which contains even number of elements\n",
        "\n",
        "arr2 = np.arange(8)\n",
        "median2 = np.median(arr2)\n",
        "print(arr2,median2,sep='\\n')"
      ],
      "metadata": {
        "colab": {
          "base_uri": "https://localhost:8080/"
        },
        "id": "pK85d0aMiZsR",
        "outputId": "f6bf27ab-b7d3-4e81-a78f-dfec2d1079fa"
      },
      "execution_count": null,
      "outputs": [
        {
          "output_type": "stream",
          "name": "stdout",
          "text": [
            "[0 1 2 3 4 5 6 7]\n",
            "3.5\n"
          ]
        }
      ]
    },
    {
      "cell_type": "markdown",
      "source": [
        "### 3. <u>Standard Deviation – np.std()</u>:\n",
        "* The standard deviation measures the spread of data around the mean.\n",
        "* A low standard deviation means values are close to the mean.\n",
        "* A high standard deviation means values are spread out.\n",
        "\n",
        "![image.png](data:image/png;base64,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)"
      ],
      "metadata": {
        "id": "0VB9tOtSDz0q"
      }
    },
    {
      "cell_type": "code",
      "source": [
        "arr = np.arange(5)\n",
        "sd = np.std(arr)\n",
        "sd     # standard deviation"
      ],
      "metadata": {
        "colab": {
          "base_uri": "https://localhost:8080/"
        },
        "id": "TTqhhaC0iZp4",
        "outputId": "2669175b-ede8-41e4-8926-9a2c91e34b49"
      },
      "execution_count": null,
      "outputs": [
        {
          "output_type": "execute_result",
          "data": {
            "text/plain": [
              "1.4142135623730951"
            ]
          },
          "metadata": {},
          "execution_count": 27
        }
      ]
    },
    {
      "cell_type": "markdown",
      "source": [
        "### 3.Using NumPy, create an empty array with shape (3, 4). Then, check if the array is truly empty by testing its size."
      ],
      "metadata": {
        "id": "xlfPm5zQq-Rn"
      }
    },
    {
      "cell_type": "code",
      "source": [
        "arr = np.empty((3,4))\n",
        "arr"
      ],
      "metadata": {
        "colab": {
          "base_uri": "https://localhost:8080/"
        },
        "id": "tzPihLyFiZnI",
        "outputId": "141e019f-79d4-49a3-9808-a1f9f591a94d"
      },
      "execution_count": null,
      "outputs": [
        {
          "output_type": "execute_result",
          "data": {
            "text/plain": [
              "array([[2.96251623e-316, 0.00000000e+000, 0.00000000e+000,\n",
              "        0.00000000e+000],\n",
              "       [0.00000000e+000, 0.00000000e+000, 0.00000000e+000,\n",
              "        0.00000000e+000],\n",
              "       [0.00000000e+000, 0.00000000e+000, 0.00000000e+000,\n",
              "        0.00000000e+000]])"
            ]
          },
          "metadata": {},
          "execution_count": 11
        }
      ]
    },
    {
      "cell_type": "code",
      "source": [
        "# checking if the array is truly empty by testing its size\n",
        "\n",
        "is_empty = arr.size == 0\n",
        "print(f'array is truly empty : ',is_empty)\n",
        "\n",
        "# since array(3,4) contains 12 elements so,it is not truly empty."
      ],
      "metadata": {
        "colab": {
          "base_uri": "https://localhost:8080/"
        },
        "id": "rLIfdnhIiZkq",
        "outputId": "2dea7c3c-41b1-441f-9f3b-d6cb9d540bb8"
      },
      "execution_count": null,
      "outputs": [
        {
          "output_type": "stream",
          "name": "stdout",
          "text": [
            "array is truly empty :  False\n"
          ]
        }
      ]
    },
    {
      "cell_type": "code",
      "source": [],
      "metadata": {
        "id": "_4jfksX6iZiO"
      },
      "execution_count": null,
      "outputs": []
    }
  ]
}