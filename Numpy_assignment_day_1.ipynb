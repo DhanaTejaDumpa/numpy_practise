{
  "cells": [
    {
      "cell_type": "markdown",
      "metadata": {
        "id": "view-in-github",
        "colab_type": "text"
      },
      "source": [
        "<a href=\"https://colab.research.google.com/github/DhanaTejaDumpa/numpy_practise/blob/main/Numpy_assignment_day_1.ipynb\" target=\"_parent\"><img src=\"https://colab.research.google.com/assets/colab-badge.svg\" alt=\"Open In Colab\"/></a>"
      ]
    },
    {
      "cell_type": "markdown",
      "metadata": {
        "id": "F6px4MSR51Gu"
      },
      "source": [
        "### NumPy Exercises\n",
        "##### Now that we've learned about NumPy let's test your knowledge. We'll start off with a few simple tasks and then you'll be asked some more complicated questions.\n",
        "##### IMPORTANT NOTE! Make sure you don't run the cells directly above the example output shown, otherwise you will end up writing over the example output!"
      ]
    },
    {
      "cell_type": "code",
      "execution_count": null,
      "metadata": {
        "id": "Qe-tLGBa2sNS"
      },
      "outputs": [],
      "source": [
        "import numpy as np"
      ]
    },
    {
      "cell_type": "markdown",
      "metadata": {
        "id": "TAAoEMyE6bj6"
      },
      "source": [
        "#####1.  Write a NumPy program to create an array of 10 zeros,10 ones, 10 fives."
      ]
    },
    {
      "cell_type": "code",
      "execution_count": null,
      "metadata": {
        "colab": {
          "base_uri": "https://localhost:8080/"
        },
        "id": "_BxASjIo6B1X",
        "outputId": "87bc41ef-a39e-4070-fe15-f9ae93418e8b"
      },
      "outputs": [
        {
          "name": "stdout",
          "output_type": "stream",
          "text": [
            "An array of 10 zeros :\n",
            " [0. 0. 0. 0. 0. 0. 0. 0. 0. 0.]\n",
            "An array of 10 ones : \n",
            "[1. 1. 1. 1. 1. 1. 1. 1. 1. 1.]\n",
            "An array of 10 fives :\n",
            " [5. 5. 5. 5. 5. 5. 5. 5. 5. 5.]\n"
          ]
        }
      ],
      "source": [
        "### code here\n",
        "\n",
        "print(f'An array of 10 zeros :\\n {np.zeros(10)}')\n",
        "print(f'An array of 10 ones : \\n{np.ones(10)}')\n",
        "print(f'An array of 10 fives :\\n {np.ones(10)*5}')"
      ]
    },
    {
      "cell_type": "code",
      "execution_count": null,
      "metadata": {
        "colab": {
          "base_uri": "https://localhost:8080/"
        },
        "id": "yqbzsu4R7S_E",
        "outputId": "30cdd8f5-1873-4993-f8c8-7ab6cd7729f8"
      },
      "outputs": [
        {
          "name": "stdout",
          "output_type": "stream",
          "text": [
            "An array of 10 zeros:\n",
            "[0. 0. 0. 0. 0. 0. 0. 0. 0. 0.]\n",
            "An array of 10 ones:\n",
            "[1. 1. 1. 1. 1. 1. 1. 1. 1. 1.]\n",
            "An array of 10 fives:\n",
            "[5. 5. 5. 5. 5. 5. 5. 5. 5. 5.]\n"
          ]
        }
      ],
      "source": [
        "## sample output"
      ]
    },
    {
      "cell_type": "markdown",
      "metadata": {
        "id": "6gbrDc0_6ja8"
      },
      "source": [
        "#####2.  Write a NumPy program to create an array of the integers from 30 to 70."
      ]
    },
    {
      "cell_type": "code",
      "execution_count": null,
      "metadata": {
        "colab": {
          "base_uri": "https://localhost:8080/"
        },
        "id": "Rrdz7C556B4Y",
        "outputId": "12b14c6a-9fc2-4a4d-cad1-95a0ac81d3e1"
      },
      "outputs": [
        {
          "name": "stdout",
          "output_type": "stream",
          "text": [
            "Array of the integers from 30 to 70 : \n",
            " [30 31 32 33 34 35 36 37 38 39 40 41 42 43 44 45 46 47 48 49 50 51 52 53\n",
            " 54 55 56 57 58 59 60 61 62 63 64 65 66 67 68 69 70]\n"
          ]
        }
      ],
      "source": [
        "### code here\n",
        "print(f'Array of the integers from 30 to 70 : \\n {np.arange(30,71)}')"
      ]
    },
    {
      "cell_type": "code",
      "execution_count": null,
      "metadata": {
        "colab": {
          "base_uri": "https://localhost:8080/"
        },
        "id": "S8kKjMd79rrK",
        "outputId": "a0437049-a596-4a17-90a8-d98e40ce7baf"
      },
      "outputs": [
        {
          "name": "stdout",
          "output_type": "stream",
          "text": [
            "Array of the integers from 30 to70\n",
            "[30 31 32 33 34 35 36 37 38 39 40 41 42 43 44 45 46 47 48 49 50 51 52 53\n",
            " 54 55 56 57 58 59 60 61 62 63 64 65 66 67 68 69 70]\n"
          ]
        }
      ],
      "source": [
        "### sample output"
      ]
    },
    {
      "cell_type": "markdown",
      "metadata": {
        "id": "-1Z-hSI66oXd"
      },
      "source": [
        "######3. Write a NumPy program to create an array of all the even integers from 10 to 50."
      ]
    },
    {
      "cell_type": "code",
      "execution_count": null,
      "metadata": {
        "colab": {
          "base_uri": "https://localhost:8080/"
        },
        "id": "-TwKGj2o6nBV",
        "outputId": "84477876-6e9a-4da0-fa7f-6892dbe178a6"
      },
      "outputs": [
        {
          "name": "stdout",
          "output_type": "stream",
          "text": [
            "Array of all the even integers from 10 to 50 : \n",
            " [10 12 14 16 18 20 22 24 26 28 30 32 34 36 38 40 42 44 46 48]\n"
          ]
        }
      ],
      "source": [
        "### code here\n",
        "\n",
        "print(f'Array of all the even integers from 10 to 50 : \\n {np.arange(10,50,2)}')"
      ]
    },
    {
      "cell_type": "code",
      "execution_count": null,
      "metadata": {
        "colab": {
          "base_uri": "https://localhost:8080/"
        },
        "id": "qo8PSuCZ99KT",
        "outputId": "963a4f7b-b9e9-4701-bab1-62d8f824ed67"
      },
      "outputs": [
        {
          "name": "stdout",
          "output_type": "stream",
          "text": [
            "Array of all the even integers from 10 to 50\n",
            "[10 12 14 16 18 20 22 24 26 28 30 32 34 36 38 40 42 44 46 48]\n"
          ]
        }
      ],
      "source": [
        "## sample output\n"
      ]
    },
    {
      "cell_type": "markdown",
      "metadata": {
        "id": "av8golKd6z8l"
      },
      "source": [
        "######4. Write a NumPy program to create a 3x3 identity matrix."
      ]
    },
    {
      "cell_type": "code",
      "execution_count": null,
      "metadata": {
        "colab": {
          "background_save": true
        },
        "id": "A4oaHF5L6nDB",
        "outputId": "3ec32454-66fc-43d6-b72c-fb4ac021b0f7"
      },
      "outputs": [
        {
          "name": "stdout",
          "output_type": "stream",
          "text": [
            "3x3 identity matrix : \n",
            " [[1. 0. 0.]\n",
            " [0. 1. 0.]\n",
            " [0. 0. 1.]]\n"
          ]
        }
      ],
      "source": [
        "### code here\n",
        "\n",
        "print(f'3x3 identity matrix : \\n {np.identity(3)}')"
      ]
    },
    {
      "cell_type": "code",
      "source": [
        "np.eye(3)"
      ],
      "metadata": {
        "colab": {
          "base_uri": "https://localhost:8080/"
        },
        "id": "f96YlWBtz5wP",
        "outputId": "b6ca228e-c75c-4e25-e5cf-1896e223a35d"
      },
      "execution_count": null,
      "outputs": [
        {
          "output_type": "execute_result",
          "data": {
            "text/plain": [
              "array([[1., 0., 0.],\n",
              "       [0., 1., 0.],\n",
              "       [0., 0., 1.]])"
            ]
          },
          "metadata": {},
          "execution_count": 13
        }
      ]
    },
    {
      "cell_type": "code",
      "execution_count": null,
      "metadata": {
        "colab": {
          "base_uri": "https://localhost:8080/"
        },
        "id": "Gju3JHbf-PLV",
        "outputId": "9d66d3e7-6d54-4d20-c386-c12fbcdcf644"
      },
      "outputs": [
        {
          "name": "stdout",
          "output_type": "stream",
          "text": [
            "3x3 matrix:\n",
            "[[1. 0. 0.]\n",
            " [0. 1. 0.]\n",
            " [0. 0. 1.]]\n"
          ]
        }
      ],
      "source": [
        "## sample output"
      ]
    },
    {
      "cell_type": "markdown",
      "metadata": {
        "id": "bmfuxShM-nvi"
      },
      "source": [
        "##### 5. Write a NumPy program to generate a random number between 0 and 1"
      ]
    },
    {
      "cell_type": "code",
      "execution_count": null,
      "metadata": {
        "id": "ufPWx-Bo6nFv",
        "colab": {
          "base_uri": "https://localhost:8080/"
        },
        "outputId": "923ae4e1-d0c2-45a3-91a3-a70919f1ed8f"
      },
      "outputs": [
        {
          "output_type": "stream",
          "name": "stdout",
          "text": [
            "Random number between 0 and 1 :\n",
            " [0.7362639888919772]\n"
          ]
        }
      ],
      "source": [
        "### code here\n",
        "import random\n",
        "\n",
        "print(f'Random number between 0 and 1 :\\n {[np.random.random()]}')"
      ]
    },
    {
      "cell_type": "code",
      "execution_count": null,
      "metadata": {
        "colab": {
          "base_uri": "https://localhost:8080/"
        },
        "id": "9PRNc0Pg6nIO",
        "outputId": "e90f72bd-aba1-43f4-d503-cfbf8af660f1"
      },
      "outputs": [
        {
          "name": "stdout",
          "output_type": "stream",
          "text": [
            "Random number between 0 and 1:\n",
            "[0.40400053]\n"
          ]
        }
      ],
      "source": [
        "## sample output"
      ]
    },
    {
      "cell_type": "markdown",
      "metadata": {
        "id": "hm-lJXi--3px"
      },
      "source": [
        "###### 6. Write a NumPy program to generate an array of 15 random numbers from a standard normal distribution."
      ]
    },
    {
      "cell_type": "code",
      "execution_count": null,
      "metadata": {
        "id": "tFPEvuTr6nMg",
        "colab": {
          "base_uri": "https://localhost:8080/"
        },
        "outputId": "fac911ca-4e56-494a-c1cd-a40f1903550a"
      },
      "outputs": [
        {
          "output_type": "stream",
          "name": "stdout",
          "text": [
            "15 random numbers from a standard normal distribution : \n",
            " [ 0.87626891 -1.21243097  1.4569416  -1.44998091 -0.3081654   2.45256389\n",
            "  0.30241611  1.62621967  1.02804948 -0.45535249  2.26525956 -1.84867154\n",
            "  0.21585683  0.58167153 -2.35892954]\n"
          ]
        }
      ],
      "source": [
        "## code here\n",
        "\n",
        "print(f'15 random numbers from a standard normal distribution : \\n {np.random.randn(15)}')"
      ]
    },
    {
      "cell_type": "code",
      "execution_count": null,
      "metadata": {
        "colab": {
          "base_uri": "https://localhost:8080/"
        },
        "id": "DfcnbfwC6B8c",
        "outputId": "d20e56db-910d-4532-8a84-a867b154f069"
      },
      "outputs": [
        {
          "name": "stdout",
          "output_type": "stream",
          "text": [
            "15 random numbers from a standard normal distribution:\n",
            "[ 0.68439314  1.50916987 -0.75364839  0.1038106   0.07789927 -0.15349755\n",
            "  1.78151615  0.49989426  0.18791322 -1.51931266 -0.55512066  2.02808972\n",
            "  0.37648568  0.57999878 -0.31095957]\n"
          ]
        }
      ],
      "source": [
        "## sample output"
      ]
    },
    {
      "cell_type": "markdown",
      "metadata": {
        "id": "UIMv6m1t_G7q"
      },
      "source": [
        "###### 7. Write a NumPy program to create a 3X4 array using and iterate over it."
      ]
    },
    {
      "cell_type": "code",
      "source": [
        "## code here\n",
        "\n",
        "arr = np.arange(10,22).reshape((3, 4))\n",
        "print(\"Original array:\")\n",
        "print(arr)\n",
        "print(\"Each element of the array is:\")\n",
        "for x in np.nditer(arr):\n",
        "  print(x,end=\" \")"
      ],
      "metadata": {
        "colab": {
          "base_uri": "https://localhost:8080/"
        },
        "id": "UIFu8ne95ptD",
        "outputId": "c06dbce4-44f2-4b57-d4cd-286f882c3282"
      },
      "execution_count": null,
      "outputs": [
        {
          "output_type": "stream",
          "name": "stdout",
          "text": [
            "Original array:\n",
            "[[10 11 12 13]\n",
            " [14 15 16 17]\n",
            " [18 19 20 21]]\n",
            "Each element of the array is:\n",
            "10 11 12 13 14 15 16 17 18 19 20 21 "
          ]
        }
      ]
    },
    {
      "cell_type": "code",
      "execution_count": null,
      "metadata": {
        "colab": {
          "base_uri": "https://localhost:8080/"
        },
        "id": "T_oeyAt8_Jv-",
        "outputId": "dd6207cd-8b15-4d98-fdd8-e109262fec5b"
      },
      "outputs": [
        {
          "name": "stdout",
          "output_type": "stream",
          "text": [
            "Original array:\n",
            "[[10 11 12 13]\n",
            " [14 15 16 17]\n",
            " [18 19 20 21]]\n",
            "Each element of the array is:\n",
            "10 11 12 13 14 15 16 17 18 19 20 21 "
          ]
        }
      ],
      "source": [
        "## sample output"
      ]
    },
    {
      "cell_type": "markdown",
      "metadata": {
        "id": "pMshtaUT_fT0"
      },
      "source": [
        "###### 8. Write a NumPy program to multiply the values ​​of two given vectors."
      ]
    },
    {
      "cell_type": "code",
      "execution_count": null,
      "metadata": {
        "id": "hD8Uk9J0_JxY",
        "colab": {
          "base_uri": "https://localhost:8080/"
        },
        "outputId": "c3959ab6-e825-4518-b94f-238008d2a1b5"
      },
      "outputs": [
        {
          "output_type": "stream",
          "name": "stdout",
          "text": [
            "Vector-1 :\n",
            " [1 8 3 5]\n",
            "Vector-2 :\n",
            " [10  8 12 50]\n",
            "Multiply the values of two said vectors :\n",
            " [ 10  64  36 250]\n"
          ]
        }
      ],
      "source": [
        "## code here\n",
        "vect1 = np.array([1,8,3,5])\n",
        "vect2 = np.array([10,8,12,50])\n",
        "\n",
        "print(f'Vector-1 :\\n {vect1}')\n",
        "print(f'Vector-2 :\\n {vect2}')\n",
        "print(f'Multiply the values of two said vectors :\\n {vect1*vect2}')"
      ]
    },
    {
      "cell_type": "code",
      "execution_count": null,
      "metadata": {
        "colab": {
          "base_uri": "https://localhost:8080/"
        },
        "id": "wVIZTuNW_kZ3",
        "outputId": "8d259f41-f447-4480-d452-da123a8db61e"
      },
      "outputs": [
        {
          "name": "stdout",
          "output_type": "stream",
          "text": [
            "Vector-1\n",
            "[1 8 3 5]\n",
            "Vector-2\n",
            "[10  1  4 10]\n",
            "Multiply the values of two said vectors:\n",
            "[10  8 12 50]\n"
          ]
        }
      ],
      "source": [
        "## sample output"
      ]
    },
    {
      "cell_type": "markdown",
      "metadata": {
        "id": "h7ny_Xci_07Q"
      },
      "source": [
        "###### 9. Write a NumPy program to reverse an array (first element becomes last)."
      ]
    },
    {
      "cell_type": "code",
      "execution_count": null,
      "metadata": {
        "id": "CQZLCU4Z_J0M",
        "colab": {
          "base_uri": "https://localhost:8080/"
        },
        "outputId": "33229a09-8758-4f9a-82e9-8073208a6e40"
      },
      "outputs": [
        {
          "output_type": "stream",
          "name": "stdout",
          "text": [
            "Original array:\n",
            "[12 13 14 15 16 17 18 19 20 21 22 23 24 25 26 27 28 29 30 31 32 33 34 35\n",
            " 36 37]\n",
            "Reverse array:\n",
            " [37 36 35 34 33 32 31 30 29 28 27 26 25 24 23 22 21 20 19 18 17 16 15 14\n",
            " 13 12]\n"
          ]
        }
      ],
      "source": [
        "### code here\n",
        "\n",
        "arr = np.arange(12,38)\n",
        "print(f'Original array:\\n{arr}')\n",
        "print(f'Reverse array:\\n {arr[::-1]}')"
      ]
    },
    {
      "cell_type": "code",
      "execution_count": null,
      "metadata": {
        "colab": {
          "base_uri": "https://localhost:8080/"
        },
        "id": "6zOol0u2_J21",
        "outputId": "b1772711-603d-468e-bdc3-d675873cf5fd"
      },
      "outputs": [
        {
          "name": "stdout",
          "output_type": "stream",
          "text": [
            "Original array:\n",
            "[12 13 14 15 16 17 18 19 20 21 22 23 24 25 26 27 28 29 30 31 32 33 34 35\n",
            " 36 37]\n",
            "Reverse array:\n",
            "[37 36 35 34 33 32 31 30 29 28 27 26 25 24 23 22 21 20 19 18 17 16 15 14\n",
            " 13 12]\n"
          ]
        }
      ],
      "source": [
        "## sample output"
      ]
    },
    {
      "cell_type": "markdown",
      "metadata": {
        "id": "-y0LYMweAC3M"
      },
      "source": [
        "##### 10. Write a NumPy program to create a 5x5 zero matrix with elements on the main diagonal equal to 1, 2, 3, 4, 5."
      ]
    },
    {
      "cell_type": "code",
      "execution_count": null,
      "metadata": {
        "id": "nJnstERf_J5T",
        "colab": {
          "base_uri": "https://localhost:8080/"
        },
        "outputId": "c7c3580d-121c-4c10-c30a-6e256ec53fe0"
      },
      "outputs": [
        {
          "output_type": "stream",
          "name": "stdout",
          "text": [
            "[[1 0 0 0 0]\n",
            " [0 2 0 0 0]\n",
            " [0 0 3 0 0]\n",
            " [0 0 0 4 0]\n",
            " [0 0 0 0 5]]\n"
          ]
        }
      ],
      "source": [
        "## code here\n",
        "\n",
        "# creating a 5x5 zero matrix with elements on the main diagonal equal to 1,2,3,4,5\n",
        "\n",
        "print(np.diag([1,2,3,4,5]))"
      ]
    },
    {
      "cell_type": "code",
      "execution_count": null,
      "metadata": {
        "colab": {
          "base_uri": "https://localhost:8080/"
        },
        "id": "rOh6nIXl_J78",
        "outputId": "84736fa7-e5a0-4e8e-c8f2-06005fc5502a"
      },
      "outputs": [
        {
          "name": "stdout",
          "output_type": "stream",
          "text": [
            "[[1 0 0 0 0]\n",
            " [0 2 0 0 0]\n",
            " [0 0 3 0 0]\n",
            " [0 0 0 4 0]\n",
            " [0 0 0 0 5]]\n"
          ]
        }
      ],
      "source": [
        "## sample output"
      ]
    },
    {
      "cell_type": "markdown",
      "metadata": {
        "id": "h7nmiqKNAYH1"
      },
      "source": [
        "###### 11. Write a NumPy program to compute sum of all elements, sum of each column and sum of each row of a given array."
      ]
    },
    {
      "cell_type": "code",
      "execution_count": null,
      "metadata": {
        "id": "zWHfl9BS_J-a",
        "colab": {
          "base_uri": "https://localhost:8080/"
        },
        "outputId": "0ba51fc0-fb04-46d4-dfb9-c567bb09eecd"
      },
      "outputs": [
        {
          "output_type": "stream",
          "name": "stdout",
          "text": [
            "Orginal array : \n",
            " [[0 1]\n",
            " [2 3]]\n",
            "Sum of all elements : \n",
            " 6\n",
            "Sum of each column : \n",
            " [2 4]\n",
            "Sum of each column : \n",
            " [1 5]\n"
          ]
        }
      ],
      "source": [
        "## code here\n",
        "\n",
        "arr = np.arange(4).reshape(2,2)\n",
        "print(f'Orginal array : \\n {arr}')\n",
        "print(f'Sum of all elements : \\n {np.sum(arr)}')\n",
        "print(f'Sum of each column : \\n {np.sum(arr, axis = 0)}')\n",
        "print(f'Sum of each column : \\n {np.sum(arr, axis = 1)}')"
      ]
    },
    {
      "cell_type": "code",
      "execution_count": null,
      "metadata": {
        "colab": {
          "base_uri": "https://localhost:8080/"
        },
        "id": "CLTx-HRh_KBI",
        "outputId": "aa907d23-10c0-4b2a-c499-6c1d61b95b0d"
      },
      "outputs": [
        {
          "name": "stdout",
          "output_type": "stream",
          "text": [
            "Original array:\n",
            "[[0 1]\n",
            " [2 3]]\n",
            "Sum of all elements:\n",
            "6\n",
            "Sum of each column:\n",
            "[2 4]\n",
            "Sum of each row:\n",
            "[1 5]\n"
          ]
        }
      ],
      "source": [
        "## sample output"
      ]
    },
    {
      "cell_type": "markdown",
      "metadata": {
        "id": "4JSLT9ImAnKn"
      },
      "source": [
        "###### 12. Write a NumPy program to compute the inner product of two given vectors."
      ]
    },
    {
      "cell_type": "code",
      "execution_count": null,
      "metadata": {
        "id": "cBGxcHxe_KEt",
        "colab": {
          "base_uri": "https://localhost:8080/"
        },
        "outputId": "251fd28f-4269-4813-9c6c-269d32169d59"
      },
      "outputs": [
        {
          "output_type": "stream",
          "name": "stdout",
          "text": [
            "Original vectors:\n",
            " [4 5]\n",
            " [ 7 10]\n",
            "Inner product of said vectors:\n",
            " 78\n"
          ]
        }
      ],
      "source": [
        "## code here\n",
        "vect1 = np.array([4,5])\n",
        "vect2 = np.array([7,10])\n",
        "print(f'Original vectors:\\n {vect1}\\n {vect2}')\n",
        "print(f'Inner product of said vectors:\\n {np.dot(vect1, vect2)}')\n",
        "\n",
        "# for 1D vectors,dot product and inner product results same"
      ]
    },
    {
      "cell_type": "code",
      "source": [
        "np.inner(vect1,vect2)"
      ],
      "metadata": {
        "colab": {
          "base_uri": "https://localhost:8080/"
        },
        "id": "0F8y99wnckyg",
        "outputId": "a341c5d6-01f2-4dfe-a901-adca487a28a4"
      },
      "execution_count": null,
      "outputs": [
        {
          "output_type": "execute_result",
          "data": {
            "text/plain": [
              "78"
            ]
          },
          "metadata": {},
          "execution_count": 11
        }
      ]
    },
    {
      "cell_type": "code",
      "execution_count": null,
      "metadata": {
        "colab": {
          "base_uri": "https://localhost:8080/"
        },
        "id": "AvS0_rdDAp-B",
        "outputId": "aff4e886-3e49-49c6-a9f0-cc3cce2dbc90"
      },
      "outputs": [
        {
          "name": "stdout",
          "output_type": "stream",
          "text": [
            "Original vectors:\n",
            "[4 5]\n",
            "[ 7 10]\n",
            "Inner product of said vectors:\n",
            "78\n"
          ]
        }
      ],
      "source": [
        "## sample output"
      ]
    },
    {
      "cell_type": "code",
      "execution_count": null,
      "metadata": {
        "id": "uriWC5FSAp_N"
      },
      "outputs": [],
      "source": []
    },
    {
      "cell_type": "code",
      "execution_count": null,
      "metadata": {
        "id": "0uPHZDn8AqB5"
      },
      "outputs": [],
      "source": []
    },
    {
      "cell_type": "code",
      "execution_count": null,
      "metadata": {
        "id": "RQ_ORHYjAqGM"
      },
      "outputs": [],
      "source": []
    }
  ],
  "metadata": {
    "colab": {
      "provenance": [],
      "include_colab_link": true
    },
    "kernelspec": {
      "display_name": "Python 3",
      "name": "python3"
    },
    "language_info": {
      "name": "python"
    }
  },
  "nbformat": 4,
  "nbformat_minor": 0
}