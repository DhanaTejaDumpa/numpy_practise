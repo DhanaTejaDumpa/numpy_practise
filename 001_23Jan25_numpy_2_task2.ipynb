{
  "nbformat": 4,
  "nbformat_minor": 0,
  "metadata": {
    "colab": {
      "provenance": [],
      "authorship_tag": "ABX9TyMH4Lefc18xHpKjZLQLECr0",
      "include_colab_link": true
    },
    "kernelspec": {
      "name": "python3",
      "display_name": "Python 3"
    },
    "language_info": {
      "name": "python"
    }
  },
  "cells": [
    {
      "cell_type": "markdown",
      "metadata": {
        "id": "view-in-github",
        "colab_type": "text"
      },
      "source": [
        "<a href=\"https://colab.research.google.com/github/DhanaTejaDumpa/numpy_practise/blob/main/001_23Jan25_numpy_2_task2.ipynb\" target=\"_parent\"><img src=\"https://colab.research.google.com/assets/colab-badge.svg\" alt=\"Open In Colab\"/></a>"
      ]
    },
    {
      "cell_type": "markdown",
      "source": [
        "# 23/01/2025"
      ],
      "metadata": {
        "id": "gY2dR81rP82w"
      }
    },
    {
      "cell_type": "markdown",
      "source": [
        "# 1) a) Generate five NumPy arrays of different dimensions using arange().\n",
        "# b) Determine the datatype, shape, size, and dimensions of those arrays.\n"
      ],
      "metadata": {
        "id": "zKQ_6jBWuB41"
      }
    },
    {
      "cell_type": "code",
      "source": [
        "import numpy as np"
      ],
      "metadata": {
        "id": "RcgNYy8_z4e4"
      },
      "execution_count": null,
      "outputs": []
    },
    {
      "cell_type": "code",
      "source": [
        "# creating a 1D array :\n",
        "\n",
        "arr1 = np.arange(5)\n",
        "arr1"
      ],
      "metadata": {
        "colab": {
          "base_uri": "https://localhost:8080/"
        },
        "id": "mpwh0qPtz4bd",
        "outputId": "2b693a47-0d4d-439e-9d6b-2d25bb3bea4a"
      },
      "execution_count": null,
      "outputs": [
        {
          "output_type": "execute_result",
          "data": {
            "text/plain": [
              "array([0, 1, 2, 3, 4])"
            ]
          },
          "metadata": {},
          "execution_count": 24
        }
      ]
    },
    {
      "cell_type": "code",
      "source": [
        "print(f'datatype : {arr1.dtype}, shape : {arr1.shape}, size : {arr1.size}, dimensions : {arr1.ndim}')"
      ],
      "metadata": {
        "colab": {
          "base_uri": "https://localhost:8080/"
        },
        "id": "46wCxXanz4Y3",
        "outputId": "4abf993f-b4b6-4005-9686-58612cccdfcc"
      },
      "execution_count": null,
      "outputs": [
        {
          "output_type": "stream",
          "name": "stdout",
          "text": [
            "datatype : int64, shape : (5,), size : 5, dimensions : 1\n"
          ]
        }
      ]
    },
    {
      "cell_type": "code",
      "source": [
        "# creating a 2D array :\n",
        "\n",
        "arr2 = np.arange(6).reshape(2,3)\n",
        "arr2"
      ],
      "metadata": {
        "colab": {
          "base_uri": "https://localhost:8080/"
        },
        "id": "ylWr8Y5Yz4WB",
        "outputId": "ff504a59-293c-4059-962e-775bbd945600"
      },
      "execution_count": null,
      "outputs": [
        {
          "output_type": "execute_result",
          "data": {
            "text/plain": [
              "array([[0, 1, 2],\n",
              "       [3, 4, 5]])"
            ]
          },
          "metadata": {},
          "execution_count": 28
        }
      ]
    },
    {
      "cell_type": "code",
      "source": [
        "print(f'datatype : {arr2.dtype}, shape : {arr2.shape}, size : {arr2.size}, dimensions : {arr2.ndim}')"
      ],
      "metadata": {
        "colab": {
          "base_uri": "https://localhost:8080/"
        },
        "id": "0E56EvHlz4TK",
        "outputId": "53213567-cf4f-4c8c-af60-de4e21d12a66"
      },
      "execution_count": null,
      "outputs": [
        {
          "output_type": "stream",
          "name": "stdout",
          "text": [
            "datatype : int64, shape : (2, 3), size : 6, dimensions : 2\n"
          ]
        }
      ]
    },
    {
      "cell_type": "code",
      "source": [
        "# creating a 3D array :\n",
        "\n",
        "arr3 = np.arange(27).reshape(3,3,3)\n",
        "arr3"
      ],
      "metadata": {
        "colab": {
          "base_uri": "https://localhost:8080/"
        },
        "id": "yd6svLN4z4Qt",
        "outputId": "1b1040fb-f789-449e-f5db-355bcb0d0335"
      },
      "execution_count": null,
      "outputs": [
        {
          "output_type": "execute_result",
          "data": {
            "text/plain": [
              "array([[[ 0,  1,  2],\n",
              "        [ 3,  4,  5],\n",
              "        [ 6,  7,  8]],\n",
              "\n",
              "       [[ 9, 10, 11],\n",
              "        [12, 13, 14],\n",
              "        [15, 16, 17]],\n",
              "\n",
              "       [[18, 19, 20],\n",
              "        [21, 22, 23],\n",
              "        [24, 25, 26]]])"
            ]
          },
          "metadata": {},
          "execution_count": 31
        }
      ]
    },
    {
      "cell_type": "code",
      "source": [
        "print(f'datatype : {arr3.dtype}, shape : {arr3.shape}, size : {arr3.size}, dimensions : {arr3.ndim}')"
      ],
      "metadata": {
        "colab": {
          "base_uri": "https://localhost:8080/"
        },
        "id": "0l1FsE1mz4Nr",
        "outputId": "06e68179-6a84-4a72-c0e6-8ec1eafae6bb"
      },
      "execution_count": null,
      "outputs": [
        {
          "output_type": "stream",
          "name": "stdout",
          "text": [
            "datatype : int64, shape : (3, 3, 3), size : 27, dimensions : 3\n"
          ]
        }
      ]
    },
    {
      "cell_type": "code",
      "source": [
        "# create a 4D array :\n",
        "\n",
        "arr4 = np.arange(64).reshape(2,4,2,4)\n",
        "arr4"
      ],
      "metadata": {
        "colab": {
          "base_uri": "https://localhost:8080/"
        },
        "id": "sHvGFOqgz4LE",
        "outputId": "7628b94d-1b34-4e95-d5ca-164e10201e33"
      },
      "execution_count": null,
      "outputs": [
        {
          "output_type": "execute_result",
          "data": {
            "text/plain": [
              "array([[[[ 0,  1,  2,  3],\n",
              "         [ 4,  5,  6,  7]],\n",
              "\n",
              "        [[ 8,  9, 10, 11],\n",
              "         [12, 13, 14, 15]],\n",
              "\n",
              "        [[16, 17, 18, 19],\n",
              "         [20, 21, 22, 23]],\n",
              "\n",
              "        [[24, 25, 26, 27],\n",
              "         [28, 29, 30, 31]]],\n",
              "\n",
              "\n",
              "       [[[32, 33, 34, 35],\n",
              "         [36, 37, 38, 39]],\n",
              "\n",
              "        [[40, 41, 42, 43],\n",
              "         [44, 45, 46, 47]],\n",
              "\n",
              "        [[48, 49, 50, 51],\n",
              "         [52, 53, 54, 55]],\n",
              "\n",
              "        [[56, 57, 58, 59],\n",
              "         [60, 61, 62, 63]]]])"
            ]
          },
          "metadata": {},
          "execution_count": 34
        }
      ]
    },
    {
      "cell_type": "code",
      "source": [
        "print(f'datatype : {arr4.dtype}, shape : {arr4.shape}, size : {arr4.size}, dimensions : {arr4.ndim}')"
      ],
      "metadata": {
        "colab": {
          "base_uri": "https://localhost:8080/"
        },
        "id": "WJchGJ4qz3-8",
        "outputId": "a014f2f8-4bbe-416a-f5ae-d4f63f148765"
      },
      "execution_count": null,
      "outputs": [
        {
          "output_type": "stream",
          "name": "stdout",
          "text": [
            "datatype : int64, shape : (2, 4, 2, 4), size : 64, dimensions : 4\n"
          ]
        }
      ]
    },
    {
      "cell_type": "code",
      "source": [
        "# creating a 5D array :\n",
        "\n",
        "arr5 = np.arange(80).reshape(2,2,2,2,5)\n",
        "arr5"
      ],
      "metadata": {
        "colab": {
          "base_uri": "https://localhost:8080/"
        },
        "id": "LOYuEBOB13HN",
        "outputId": "27061892-8c52-4754-d97c-f6e18228e46b"
      },
      "execution_count": null,
      "outputs": [
        {
          "output_type": "execute_result",
          "data": {
            "text/plain": [
              "array([[[[[ 0,  1,  2,  3,  4],\n",
              "          [ 5,  6,  7,  8,  9]],\n",
              "\n",
              "         [[10, 11, 12, 13, 14],\n",
              "          [15, 16, 17, 18, 19]]],\n",
              "\n",
              "\n",
              "        [[[20, 21, 22, 23, 24],\n",
              "          [25, 26, 27, 28, 29]],\n",
              "\n",
              "         [[30, 31, 32, 33, 34],\n",
              "          [35, 36, 37, 38, 39]]]],\n",
              "\n",
              "\n",
              "\n",
              "       [[[[40, 41, 42, 43, 44],\n",
              "          [45, 46, 47, 48, 49]],\n",
              "\n",
              "         [[50, 51, 52, 53, 54],\n",
              "          [55, 56, 57, 58, 59]]],\n",
              "\n",
              "\n",
              "        [[[60, 61, 62, 63, 64],\n",
              "          [65, 66, 67, 68, 69]],\n",
              "\n",
              "         [[70, 71, 72, 73, 74],\n",
              "          [75, 76, 77, 78, 79]]]]])"
            ]
          },
          "metadata": {},
          "execution_count": 41
        }
      ]
    },
    {
      "cell_type": "code",
      "source": [
        "print(f'datatype : {arr5.dtype}, shape : {arr5.shape}, size : {arr5.size}, dimensions : {arr5.ndim}')"
      ],
      "metadata": {
        "colab": {
          "base_uri": "https://localhost:8080/"
        },
        "id": "OeWICiiz1256",
        "outputId": "37f06592-d6a8-41a4-b98d-8639f7d77972"
      },
      "execution_count": null,
      "outputs": [
        {
          "output_type": "stream",
          "name": "stdout",
          "text": [
            "datatype : int64, shape : (2, 2, 2, 2, 5), size : 80, dimensions : 5\n"
          ]
        }
      ]
    },
    {
      "cell_type": "markdown",
      "source": [
        "# 2) a) Generate five NumPy arrays of different dimensions using np.array().\n",
        "# b) Determine the datatype, shape, size, and dimensions of those arrays.\n"
      ],
      "metadata": {
        "id": "FYw6f9fkz5Oz"
      }
    },
    {
      "cell_type": "code",
      "source": [
        "import numpy as np"
      ],
      "metadata": {
        "id": "XBlQBoqgvhma"
      },
      "execution_count": null,
      "outputs": []
    },
    {
      "cell_type": "code",
      "execution_count": null,
      "metadata": {
        "colab": {
          "base_uri": "https://localhost:8080/"
        },
        "id": "04QiSCLutxge",
        "outputId": "a6db351f-9634-44a9-8fc8-e6bba4b72530"
      },
      "outputs": [
        {
          "output_type": "execute_result",
          "data": {
            "text/plain": [
              "array([1, 2, 3, 4, 5])"
            ]
          },
          "metadata": {},
          "execution_count": 18
        }
      ],
      "source": [
        "# creating a 1D array :\n",
        "\n",
        "arr1 = np.array([1,2,3,4,5])\n",
        "arr1"
      ]
    },
    {
      "cell_type": "code",
      "source": [
        "print(f'datatype : {arr1.dtype}, shape : {arr1.shape}, size : {arr1.size}, dimensions : {arr1.ndim}')"
      ],
      "metadata": {
        "colab": {
          "base_uri": "https://localhost:8080/"
        },
        "id": "x1daBbIAvYQh",
        "outputId": "928c9f80-d0ae-4d90-c73b-5e4990414f75"
      },
      "execution_count": null,
      "outputs": [
        {
          "output_type": "stream",
          "name": "stdout",
          "text": [
            "datatype : int64, shape : (5,), size : 5, dimensions : 1\n"
          ]
        }
      ]
    },
    {
      "cell_type": "code",
      "source": [
        "# creating a 2D array :\n",
        "\n",
        "lst1 = [[1,2],[3,4]]\n",
        "arr2 = np.array(lst1)\n",
        "arr2"
      ],
      "metadata": {
        "colab": {
          "base_uri": "https://localhost:8080/"
        },
        "id": "qEvYm4TmwDOA",
        "outputId": "8e4367c2-755e-4b33-99ef-bbd8c653af4e"
      },
      "execution_count": null,
      "outputs": [
        {
          "output_type": "execute_result",
          "data": {
            "text/plain": [
              "array([[1, 2],\n",
              "       [3, 4]])"
            ]
          },
          "metadata": {},
          "execution_count": 10
        }
      ]
    },
    {
      "cell_type": "code",
      "source": [
        "print(f'datatype : {arr2.dtype}, shape : {arr2.shape}, size : {arr2.size}, dimensions : {arr2.ndim}')"
      ],
      "metadata": {
        "colab": {
          "base_uri": "https://localhost:8080/"
        },
        "id": "NfPoDMKjwgV2",
        "outputId": "7cfe3078-f683-4ff4-8218-32cf54b01ba8"
      },
      "execution_count": null,
      "outputs": [
        {
          "output_type": "stream",
          "name": "stdout",
          "text": [
            "datatype : int64, shape : (2, 2), size : 4, dimensions : 2\n"
          ]
        }
      ]
    },
    {
      "cell_type": "code",
      "source": [
        "# creating a 3D array :\n",
        "\n",
        "lst1 = [[1,2],[3,4]]\n",
        "lst2 = [[5,6],[7,8]]\n",
        "arr3 = np.array((lst1,lst2))\n",
        "arr3"
      ],
      "metadata": {
        "colab": {
          "base_uri": "https://localhost:8080/"
        },
        "id": "o0d0iEjCwnEU",
        "outputId": "8589b403-8532-4808-9fb3-4c4def328933"
      },
      "execution_count": null,
      "outputs": [
        {
          "output_type": "execute_result",
          "data": {
            "text/plain": [
              "array([[[1, 2],\n",
              "        [3, 4]],\n",
              "\n",
              "       [[5, 6],\n",
              "        [7, 8]]])"
            ]
          },
          "metadata": {},
          "execution_count": 12
        }
      ]
    },
    {
      "cell_type": "code",
      "source": [
        "print(f'datatype : {arr3.dtype}, shape : {arr3.shape}, size : {arr3.size}, dimensions : {arr3.ndim}')"
      ],
      "metadata": {
        "colab": {
          "base_uri": "https://localhost:8080/"
        },
        "id": "q0yL_H5UxCI6",
        "outputId": "b0caa26e-02c7-4d39-923e-769ad7b09d1e"
      },
      "execution_count": null,
      "outputs": [
        {
          "output_type": "stream",
          "name": "stdout",
          "text": [
            "datatype : int64, shape : (2, 2, 2), size : 8, dimensions : 3\n"
          ]
        }
      ]
    },
    {
      "cell_type": "code",
      "source": [
        "# creating a 4D array :\n",
        "\n",
        "lst3d1 = [[[1,2],[3,4]],[[5,6],[7,8]]]\n",
        "lst3d2 = [[[9,10],[11,12]],[[13,14],[15,16]]]\n",
        "arr4 = np.array((lst3d1,lst3d2))\n",
        "arr4"
      ],
      "metadata": {
        "colab": {
          "base_uri": "https://localhost:8080/"
        },
        "id": "Pkmu4FL9xOuI",
        "outputId": "a9f2ca18-f49b-4905-89e2-5d68b8542d70"
      },
      "execution_count": null,
      "outputs": [
        {
          "output_type": "execute_result",
          "data": {
            "text/plain": [
              "array([[[[ 1,  2],\n",
              "         [ 3,  4]],\n",
              "\n",
              "        [[ 5,  6],\n",
              "         [ 7,  8]]],\n",
              "\n",
              "\n",
              "       [[[ 9, 10],\n",
              "         [11, 12]],\n",
              "\n",
              "        [[13, 14],\n",
              "         [15, 16]]]])"
            ]
          },
          "metadata": {},
          "execution_count": 15
        }
      ]
    },
    {
      "cell_type": "code",
      "source": [
        "print(f'datatype : {arr4.dtype}, shape : {arr4.shape}, size : {arr4.size}, dimensions : {arr4.ndim}')"
      ],
      "metadata": {
        "colab": {
          "base_uri": "https://localhost:8080/"
        },
        "id": "6MK6CpsGxfrg",
        "outputId": "e223766f-b383-432d-ed17-31310969df50"
      },
      "execution_count": null,
      "outputs": [
        {
          "output_type": "stream",
          "name": "stdout",
          "text": [
            "datatype : int64, shape : (2, 2, 2, 2), size : 16, dimensions : 4\n"
          ]
        }
      ]
    },
    {
      "cell_type": "code",
      "source": [
        "# creating a 5D array :\n",
        "\n",
        "lst4d1 = [[[[1, 2], [3, 4]], [[5, 6], [7, 8]]], [[[9, 10], [11, 12]], [[13, 14], [15, 16]]]]\n",
        "lst4d2 = [[[[31,32], [33,34]], [[35, 36], [37, 38]]], [[[39, 40], [41, 42]], [[43, 44], [45, 46]]]]\n",
        "\n",
        "arr5 = np.array((lst4d1,lst4d2))\n",
        "arr5"
      ],
      "metadata": {
        "colab": {
          "base_uri": "https://localhost:8080/"
        },
        "id": "mdLCHDJTyPu_",
        "outputId": "ff6680ce-d671-4df3-ab94-858e4f19bdc6"
      },
      "execution_count": null,
      "outputs": [
        {
          "output_type": "execute_result",
          "data": {
            "text/plain": [
              "array([[[[[ 1,  2],\n",
              "          [ 3,  4]],\n",
              "\n",
              "         [[ 5,  6],\n",
              "          [ 7,  8]]],\n",
              "\n",
              "\n",
              "        [[[ 9, 10],\n",
              "          [11, 12]],\n",
              "\n",
              "         [[13, 14],\n",
              "          [15, 16]]]],\n",
              "\n",
              "\n",
              "\n",
              "       [[[[31, 32],\n",
              "          [33, 34]],\n",
              "\n",
              "         [[35, 36],\n",
              "          [37, 38]]],\n",
              "\n",
              "\n",
              "        [[[39, 40],\n",
              "          [41, 42]],\n",
              "\n",
              "         [[43, 44],\n",
              "          [45, 46]]]]])"
            ]
          },
          "metadata": {},
          "execution_count": 21
        }
      ]
    },
    {
      "cell_type": "code",
      "source": [
        "print(f'datatype : {arr5.dtype}, shape : {arr5.shape}, size : {arr5.size}, dimensions : {arr5.ndim}')"
      ],
      "metadata": {
        "colab": {
          "base_uri": "https://localhost:8080/"
        },
        "id": "G3aamLzVy9oM",
        "outputId": "eaa95c7d-13f8-4595-c7db-af8a67faaa39"
      },
      "execution_count": null,
      "outputs": [
        {
          "output_type": "stream",
          "name": "stdout",
          "text": [
            "datatype : int64, shape : (2, 2, 2, 2, 2), size : 32, dimensions : 5\n"
          ]
        }
      ]
    },
    {
      "cell_type": "code",
      "source": [],
      "metadata": {
        "id": "b8D-vGukzzhD"
      },
      "execution_count": null,
      "outputs": []
    }
  ]
}