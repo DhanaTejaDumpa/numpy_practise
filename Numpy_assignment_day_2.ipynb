{
  "nbformat": 4,
  "nbformat_minor": 0,
  "metadata": {
    "colab": {
      "provenance": [],
      "include_colab_link": true
    },
    "kernelspec": {
      "name": "python3",
      "display_name": "Python 3"
    },
    "language_info": {
      "name": "python"
    }
  },
  "cells": [
    {
      "cell_type": "markdown",
      "metadata": {
        "id": "view-in-github",
        "colab_type": "text"
      },
      "source": [
        "<a href=\"https://colab.research.google.com/github/DhanaTejaDumpa/numpy_practise/blob/main/Numpy_assignment_day_2.ipynb\" target=\"_parent\"><img src=\"https://colab.research.google.com/assets/colab-badge.svg\" alt=\"Open In Colab\"/></a>"
      ]
    },
    {
      "cell_type": "markdown",
      "source": [
        "### NumPy Exercises\n",
        "##### Now that we've learned about NumPy let's test your knowledge. We'll start off with a few simple tasks and then you'll be asked some more complicated questions.\n",
        "##### IMPORTANT NOTE! Make sure you don't run the cells directly above the example output shown, otherwise you will end up writing over the example output!"
      ],
      "metadata": {
        "id": "KRH0lpS88abX"
      }
    },
    {
      "cell_type": "markdown",
      "source": [
        "##### import numpy as np\n"
      ],
      "metadata": {
        "id": "9KzpS47XBTWm"
      }
    },
    {
      "cell_type": "markdown",
      "source": [
        "###### 1. Write a NumPy program to find the missing data in a given array."
      ],
      "metadata": {
        "id": "V6ntuSvDBZ2G"
      }
    },
    {
      "cell_type": "code",
      "execution_count": null,
      "metadata": {
        "id": "Z94k4mpaBClu",
        "colab": {
          "base_uri": "https://localhost:8080/"
        },
        "outputId": "86d2903b-6c23-4ba2-bb4f-bf52d852513a"
      },
      "outputs": [
        {
          "output_type": "stream",
          "name": "stdout",
          "text": [
            "Original array : \n",
            " [[ 3.  2. nan  1.]\n",
            " [10. 12. 10.  9.]\n",
            " [ 5. nan  1. nan]]\n",
            "\n",
            "Find the missing data of the said array : \n",
            " [[False False  True False]\n",
            " [False False False False]\n",
            " [False  True False  True]]\n"
          ]
        }
      ],
      "source": [
        "### code here\n",
        "\n",
        "import numpy as np\n",
        "\n",
        "Original_array = np.array([[3, 2,np.nan, 1],[10, 12, 10, 9],[5,np.nan, 1, np.nan]])\n",
        "\n",
        "print(f'Original array : \\n {Original_array}')\n",
        "\n",
        "print(f'\\nFind the missing data of the said array : \\n {np.isnan(Original_array)}')\n",
        "\n",
        "# np.isnan() function checks each element of array and returns new arrayof the same shape.where,it returns True for missing values and False for valid values"
      ]
    },
    {
      "cell_type": "code",
      "source": [
        "## sample output"
      ],
      "metadata": {
        "colab": {
          "base_uri": "https://localhost:8080/"
        },
        "id": "yAazoe4kBfJ-",
        "outputId": "2439fd36-9243-49e0-ef2a-f19dca335a17"
      },
      "execution_count": null,
      "outputs": [
        {
          "output_type": "stream",
          "name": "stdout",
          "text": [
            "Original array:\n",
            "[[ 3.  2. nan  1.]\n",
            " [10. 12. 10.  9.]\n",
            " [ 5. nan  1. nan]]\n",
            "\n",
            "Find the missing data of the said array:\n",
            "[[False False  True False]\n",
            " [False False False False]\n",
            " [False  True False  True]]\n"
          ]
        }
      ]
    },
    {
      "cell_type": "markdown",
      "source": [
        "##### 2. Write a NumPy program to check whether two arrays are equal (element wise) or not."
      ],
      "metadata": {
        "id": "jT038BYtB0la"
      }
    },
    {
      "cell_type": "code",
      "source": [
        "### code here\n",
        "\n",
        "arr1 = np.arange(1,10).reshape(3,3)\n",
        "arr2 = np.arange(1,10).reshape(3,3)\n",
        "\n",
        "print(f'Elemnt-wise comparision :\\n',arr1 == arr2)\n",
        "print(f'Two arrays are equal : ',np.array_equal(arr1,arr2))"
      ],
      "metadata": {
        "id": "0aJczGNjBfL1",
        "colab": {
          "base_uri": "https://localhost:8080/"
        },
        "outputId": "06aab921-b317-4f12-f1ca-86a466c4fc3a"
      },
      "execution_count": null,
      "outputs": [
        {
          "output_type": "stream",
          "name": "stdout",
          "text": [
            "Elemnt-wise comparision :\n",
            " [[ True  True  True]\n",
            " [ True  True  True]\n",
            " [ True  True  True]]\n",
            "Two arrays are equal :  True\n"
          ]
        }
      ]
    },
    {
      "cell_type": "code",
      "source": [
        "arr1 = np.arange(1,10).reshape(3,3)\n",
        "arr2 = np.arange(5,14).reshape(3,3)\n",
        "\n",
        "print(f'Elemnt-wise comparision :\\n',arr1 == arr2)\n",
        "print(f'Two arrays are equal : ',(arr1 == arr2).all())"
      ],
      "metadata": {
        "colab": {
          "base_uri": "https://localhost:8080/"
        },
        "id": "Mq3Aa1DLuns_",
        "outputId": "af0ee175-f2f0-4f89-ac3a-964fbf6517e8"
      },
      "execution_count": null,
      "outputs": [
        {
          "output_type": "stream",
          "name": "stdout",
          "text": [
            "Elemnt-wise comparision :\n",
            " [[False False False]\n",
            " [False False False]\n",
            " [False False False]]\n",
            "Two arrays are equal :  False\n"
          ]
        }
      ]
    },
    {
      "cell_type": "markdown",
      "source": [
        "###### 3. Write a NumPy program to create a 4x4 array with random values, now create a new array from the said array swapping first and last rows."
      ],
      "metadata": {
        "id": "XhX1H1M_CI7S"
      }
    },
    {
      "cell_type": "code",
      "source": [
        "## code here\n",
        "arr = np.arange(16).reshape(4,4)\n",
        "print(f'Orginal array: \\n',arr)\n",
        "print(f'\\n New array after swapping first and last rows of the said array:\\n',arr[::-1])"
      ],
      "metadata": {
        "id": "3HazIhbtBfOq",
        "colab": {
          "base_uri": "https://localhost:8080/"
        },
        "outputId": "aba7ec9c-aa3e-4355-c53c-b486d39fd8f6"
      },
      "execution_count": null,
      "outputs": [
        {
          "output_type": "stream",
          "name": "stdout",
          "text": [
            "Orginal array: \n",
            " [[ 0  1  2  3]\n",
            " [ 4  5  6  7]\n",
            " [ 8  9 10 11]\n",
            " [12 13 14 15]]\n",
            "\n",
            " New array after swapping first and last rows of the said array:\n",
            " [[12 13 14 15]\n",
            " [ 8  9 10 11]\n",
            " [ 4  5  6  7]\n",
            " [ 0  1  2  3]]\n"
          ]
        }
      ]
    },
    {
      "cell_type": "code",
      "source": [
        "## sample output"
      ],
      "metadata": {
        "colab": {
          "base_uri": "https://localhost:8080/"
        },
        "id": "FFNk8me9BfRL",
        "outputId": "10d0f2d3-97b5-4a46-ff16-44136e72c9d9"
      },
      "execution_count": null,
      "outputs": [
        {
          "output_type": "stream",
          "name": "stdout",
          "text": [
            "Original array:\n",
            "[[ 0  1  2  3]\n",
            " [ 4  5  6  7]\n",
            " [ 8  9 10 11]\n",
            " [12 13 14 15]]\n",
            "\n",
            "New array after swapping first and last rows of the said array:\n",
            "[[12 13 14 15]\n",
            " [ 8  9 10 11]\n",
            " [ 4  5  6  7]\n",
            " [ 0  1  2  3]]\n"
          ]
        }
      ]
    },
    {
      "cell_type": "markdown",
      "source": [
        "###### 4. Write a NumPy program to convert a list and tuple into arrays."
      ],
      "metadata": {
        "id": "BYgy22u_kqsB"
      }
    },
    {
      "cell_type": "code",
      "source": [
        "#### code here\n",
        "\n",
        "my_list = [1,2,3,4,5,6,7,8]\n",
        "print(f'List to array : \\n',np.asarray(my_list))\n",
        "\n",
        "my_tuple = (8,4,6,1,2,3)\n",
        "print(f'\\nTuple to array : \\n',np.asarray(my_tuple))"
      ],
      "metadata": {
        "id": "Hgmgw7J2BfUQ",
        "colab": {
          "base_uri": "https://localhost:8080/"
        },
        "outputId": "48020e00-54a5-46c6-8cad-be79d8529595"
      },
      "execution_count": null,
      "outputs": [
        {
          "output_type": "stream",
          "name": "stdout",
          "text": [
            "List to array : \n",
            " [1 2 3 4 5 6 7 8]\n",
            "\n",
            "Tuple to array : \n",
            " [8 4 6 1 2 3]\n"
          ]
        }
      ]
    },
    {
      "cell_type": "markdown",
      "source": [
        "###### 5. Write a NumPy program to find common values between two arrays."
      ],
      "metadata": {
        "id": "jzp2hg44k5O0"
      }
    },
    {
      "cell_type": "code",
      "source": [
        "### code here\n",
        "arr1 = np.array([10,20,30,40,50])\n",
        "arr2 = np.array([20,40])\n",
        "print(f'Common values between two arrays : ',np.intersect1d(arr1,arr2))\n",
        "\n",
        "# np.intersect1d() works with only 1D."
      ],
      "metadata": {
        "id": "1QMJVl3LBfWm",
        "colab": {
          "base_uri": "https://localhost:8080/"
        },
        "outputId": "ae24445b-c8ce-44df-e1a3-989ecef78771"
      },
      "execution_count": null,
      "outputs": [
        {
          "output_type": "stream",
          "name": "stdout",
          "text": [
            "Common values between two arrays :  [20 40]\n"
          ]
        }
      ]
    },
    {
      "cell_type": "code",
      "source": [
        "# for 2D arrays\n",
        "\n",
        "import numpy as np\n",
        "\n",
        "arr1 = np.array([[10,20,30],[40,50,60]])\n",
        "arr2 = np.array([[30,40,50],[60,70,80]])\n",
        "common_values = np.intersect1d(arr1.flatten(),arr2.flatten())\n",
        "common_values = common_values.reshape(2,2)\n",
        "print(f'Common values between two arrays : \\n',common_values)"
      ],
      "metadata": {
        "colab": {
          "base_uri": "https://localhost:8080/"
        },
        "id": "s_9fLc3yn_4v",
        "outputId": "11721829-adbe-4ac3-d0f5-a49b88365956"
      },
      "execution_count": null,
      "outputs": [
        {
          "output_type": "stream",
          "name": "stdout",
          "text": [
            "Common values between two arrays : \n",
            " [[30 40]\n",
            " [50 60]]\n"
          ]
        }
      ]
    },
    {
      "cell_type": "markdown",
      "source": [
        "###### 6. Write a NumPy program to create a new shape to an array without changing its data."
      ],
      "metadata": {
        "id": "Llt6X9k66TMD"
      }
    },
    {
      "cell_type": "code",
      "source": [
        "### code here\n",
        "\n",
        "arr = np.arange(1,7).reshape(3,2)\n",
        "print(f'Original array :\\n ', arr)\n",
        "print(f'Reshaped array :\\n ',arr.reshape(2,3))"
      ],
      "metadata": {
        "id": "rNh8SssUBfZQ",
        "colab": {
          "base_uri": "https://localhost:8080/"
        },
        "outputId": "0f0fb1ce-d8f7-4aa9-cf4f-4a7917ea3ac2"
      },
      "execution_count": null,
      "outputs": [
        {
          "output_type": "stream",
          "name": "stdout",
          "text": [
            "Original array :\n",
            "  [[1 2]\n",
            " [3 4]\n",
            " [5 6]]\n",
            "Reshaped array :\n",
            "  [[1 2 3]\n",
            " [4 5 6]]\n"
          ]
        }
      ]
    },
    {
      "cell_type": "code",
      "source": [
        "### sample output\n"
      ],
      "metadata": {
        "id": "1yNEqa9pBfch"
      },
      "execution_count": null,
      "outputs": []
    },
    {
      "cell_type": "markdown",
      "source": [
        "###### 7. Write a NumPy program to count the frequency of unique values in numpy array."
      ],
      "metadata": {
        "id": "nf03MRSR7JFB"
      }
    },
    {
      "cell_type": "code",
      "source": [
        "### code here\n",
        "arr = np.array([10,10,20,10,20,20,20,30,30,50,40,40])\n",
        "print(f'Original array :\\n',arr)\n",
        "unique_values,counts = np.unique(arr,return_counts = True)\n",
        "print(f'Frequency of unique values of the said array :\\n ',np.vstack((np.array(unique_values),np.array(counts))))"
      ],
      "metadata": {
        "id": "NqJxDKOs6dZN",
        "colab": {
          "base_uri": "https://localhost:8080/"
        },
        "outputId": "74879b22-6c1e-4dd9-8f84-7eac6f94fa99"
      },
      "execution_count": null,
      "outputs": [
        {
          "output_type": "stream",
          "name": "stdout",
          "text": [
            "Original array :\n",
            " [10 10 20 10 20 20 20 30 30 50 40 40]\n",
            "Frequency of unique values of the said array :\n",
            "  [[10 20 30 40 50]\n",
            " [ 3  4  2  2  1]]\n"
          ]
        }
      ]
    },
    {
      "cell_type": "code",
      "source": [
        "## sample output"
      ],
      "metadata": {
        "colab": {
          "base_uri": "https://localhost:8080/"
        },
        "id": "ElvUfhXV6db6",
        "outputId": "61b70809-412a-472b-d7ca-c513b54150b5"
      },
      "execution_count": null,
      "outputs": [
        {
          "output_type": "stream",
          "name": "stdout",
          "text": [
            "Original array:\n",
            "[10 10 20 10 20 20 20 30 30 50 40 40]\n",
            "Frequency of unique values of the said array:\n",
            "[[10 20 30 40 50]\n",
            " [ 3  4  2  2  1]]\n"
          ]
        }
      ]
    },
    {
      "cell_type": "markdown",
      "source": [
        "###### 8. Write a NumPy program to broadcast on different shapes of arrays where p(3,3) + q(3)."
      ],
      "metadata": {
        "id": "a5wvDisr9SGS"
      }
    },
    {
      "cell_type": "code",
      "source": [
        "### code here\n",
        "arr1 = np.array([[0,0,0],[1,2,3],[4,5,6]])\n",
        "arr2 = np.array([10,11,12])\n",
        "print(f'Original arrays :')\n",
        "print(f'Array-1 :\\n',arr1)\n",
        "print(f'Array-2 :\\n',arr2)\n",
        "print(f'\\nNew Array :\\n',arr1+arr2)"
      ],
      "metadata": {
        "id": "B3hjEaCw6dfJ",
        "colab": {
          "base_uri": "https://localhost:8080/"
        },
        "outputId": "c263807b-1fee-46a6-c58a-2e72050d04a0"
      },
      "execution_count": null,
      "outputs": [
        {
          "output_type": "stream",
          "name": "stdout",
          "text": [
            "Original arrays :\n",
            "Array-1 :\n",
            " [[0 0 0]\n",
            " [1 2 3]\n",
            " [4 5 6]]\n",
            "Array-2 :\n",
            " [10 11 12]\n",
            "\n",
            "New Array :\n",
            " [[10 11 12]\n",
            " [11 13 15]\n",
            " [14 16 18]]\n"
          ]
        }
      ]
    },
    {
      "cell_type": "code",
      "source": [
        "## sample output"
      ],
      "metadata": {
        "colab": {
          "base_uri": "https://localhost:8080/"
        },
        "id": "0lteZrS-6dh0",
        "outputId": "e6a565a0-e734-4c5f-8705-ccb3f9c12270"
      },
      "execution_count": null,
      "outputs": [
        {
          "output_type": "stream",
          "name": "stdout",
          "text": [
            "Original arrays:\n",
            "Array-1\n",
            "[[0 0 0]\n",
            " [1 2 3]\n",
            " [4 5 6]]\n",
            "Array-2\n",
            "[10 11 12]\n",
            "\n",
            "New Array:\n",
            "[[10 11 12]\n",
            " [11 13 15]\n",
            " [14 16 18]]\n"
          ]
        }
      ]
    },
    {
      "cell_type": "markdown",
      "source": [
        "###### 9. Write a NumPy program to extract all the elements of the second row from a given (4x4) array."
      ],
      "metadata": {
        "id": "W9mCoSxU92BL"
      }
    },
    {
      "cell_type": "code",
      "source": [
        "### code here\n",
        "\n",
        "arr = np.arange(0,16).reshape(4,4)\n",
        "print(f'Original array :\\n',arr)\n",
        "print(f'\\nExtracted data : Second row\\n',arr[1,:])"
      ],
      "metadata": {
        "id": "V88Mi3yhBfgI",
        "colab": {
          "base_uri": "https://localhost:8080/"
        },
        "outputId": "0f2f85dd-d3d1-487e-c3f4-5283abdf5a15"
      },
      "execution_count": null,
      "outputs": [
        {
          "output_type": "stream",
          "name": "stdout",
          "text": [
            "Original array :\n",
            " [[ 0  1  2  3]\n",
            " [ 4  5  6  7]\n",
            " [ 8  9 10 11]\n",
            " [12 13 14 15]]\n",
            "\n",
            "Extracted data : Second row\n",
            " [4 5 6 7]\n"
          ]
        }
      ]
    },
    {
      "cell_type": "code",
      "source": [
        "import numpy as np\n",
        "arra_data = np.arange(0,16).reshape((4, 4))\n",
        "print(\"Original array:\")\n",
        "print(arra_data)\n",
        "print(\"\\nExtracted data: Second row\")\n",
        "print(arra_data[1,:])"
      ],
      "metadata": {
        "colab": {
          "base_uri": "https://localhost:8080/"
        },
        "id": "ybbGis1E91S8",
        "outputId": "42123911-acc4-47c0-ccd1-be25b3b76737"
      },
      "execution_count": null,
      "outputs": [
        {
          "output_type": "stream",
          "name": "stdout",
          "text": [
            "Original array:\n",
            "[[ 0  1  2  3]\n",
            " [ 4  5  6  7]\n",
            " [ 8  9 10 11]\n",
            " [12 13 14 15]]\n",
            "\n",
            "Extracted data: Second row\n",
            "[4 5 6 7]\n"
          ]
        }
      ]
    },
    {
      "cell_type": "markdown",
      "source": [
        "###### 10. Write a NumPy program to extract third and fourth elements of the first and second rows from a given (4x4) array."
      ],
      "metadata": {
        "id": "t76Rc47gATll"
      }
    },
    {
      "cell_type": "code",
      "source": [
        "## code here\n",
        "\n",
        "import numpy as np\n",
        "arr = np.arange(0,16).reshape(4,4)\n",
        "new_arr = arr[0:2,2:4]\n",
        "print(f'Original array :\\n',arr)\n",
        "print(f'\\nExtracted data :\\n',new_arr)"
      ],
      "metadata": {
        "id": "tLyK4ieP91V_",
        "colab": {
          "base_uri": "https://localhost:8080/"
        },
        "outputId": "6bd64a43-2ec2-47a8-9455-0da25be0a00b"
      },
      "execution_count": null,
      "outputs": [
        {
          "output_type": "stream",
          "name": "stdout",
          "text": [
            "Original array :\n",
            " [[ 0  1  2  3]\n",
            " [ 4  5  6  7]\n",
            " [ 8  9 10 11]\n",
            " [12 13 14 15]]\n",
            "\n",
            "Extracted data :\n",
            " [[2 3]\n",
            " [6 7]]\n"
          ]
        }
      ]
    },
    {
      "cell_type": "code",
      "source": [
        "## sample output\n"
      ],
      "metadata": {
        "colab": {
          "base_uri": "https://localhost:8080/"
        },
        "id": "WzHXmOQ091Y1",
        "outputId": "ca0f6059-f622-4e59-c563-96b95ef291fa"
      },
      "execution_count": null,
      "outputs": [
        {
          "output_type": "stream",
          "name": "stdout",
          "text": [
            "Original array:\n",
            "[[ 0  1  2  3]\n",
            " [ 4  5  6  7]\n",
            " [ 8  9 10 11]\n",
            " [12 13 14 15]]\n",
            "\n",
            "Extracted data: Third and fourth elements of the first and second rows \n",
            "[[2 3]\n",
            " [6 7]]\n"
          ]
        }
      ]
    },
    {
      "cell_type": "markdown",
      "source": [
        "###### 11. Write a NumPy program to get the dates of yesterday, today and tomorrow."
      ],
      "metadata": {
        "id": "mES8f4RDFxtM"
      }
    },
    {
      "cell_type": "code",
      "source": [
        "### code here\n",
        "\n",
        "import numpy as np\n",
        "today = np.datetime64('today','D')\n",
        "yesterday = today - np.timedelta64(1,'D')\n",
        "tomorrow = today + np.timedelta64(1,'D')\n",
        "print(f'Yesterday : ',yesterday)\n",
        "print(f'Today : ',today)\n",
        "print(f'Tomorrow : ',tomorrow)"
      ],
      "metadata": {
        "colab": {
          "base_uri": "https://localhost:8080/"
        },
        "id": "l9zd9M7ICTIf",
        "outputId": "42c8cc09-b462-4cdb-ada9-bca9d1cc4307"
      },
      "execution_count": null,
      "outputs": [
        {
          "output_type": "stream",
          "name": "stdout",
          "text": [
            "Yesterday :  2025-02-15\n",
            "Today :  2025-02-16\n",
            "Tomorrow :  2025-02-17\n"
          ]
        }
      ]
    },
    {
      "cell_type": "markdown",
      "source": [
        "###### 12. Write a NumPy program to find the first Monday in May 2017."
      ],
      "metadata": {
        "id": "-y3xiL7_GZ3D"
      }
    },
    {
      "cell_type": "code",
      "source": [
        "## code here\n",
        "import numpy as np\n",
        "\n",
        "\n",
        "first_monday = np.busday_offset('2017-05-01', 0, roll='forward', weekmask='Mon')\n",
        "\n",
        "print(\"First Monday in May 2017 is:\\n\", first_monday)\n",
        "\n"
      ],
      "metadata": {
        "id": "roe76-pSGNX4",
        "colab": {
          "base_uri": "https://localhost:8080/"
        },
        "outputId": "9063d992-4df6-4f9d-aa9a-267036ac8853"
      },
      "execution_count": null,
      "outputs": [
        {
          "output_type": "stream",
          "name": "stdout",
          "text": [
            "First Monday in May 2017 is:\n",
            " 2017-05-01\n"
          ]
        }
      ]
    },
    {
      "cell_type": "markdown",
      "source": [
        "      syntax : np.busday_offset(start_date, offset, roll='forward', weekmask='Mon')\n",
        "\n",
        "\n",
        "* start_date → The reference date (e.g., '2017-05-01').\n",
        "* offset → The number of business days to shift.\n",
        "* roll → Determines whether to adjust the date if it’s not a business day.\n",
        "* weekmask → Specifies which days are considered valid (e.g., 'Mon' for Mondays only)."
      ],
      "metadata": {
        "id": "MN4qgQN9Y3hu"
      }
    },
    {
      "cell_type": "code",
      "source": [
        "## sample output"
      ],
      "metadata": {
        "colab": {
          "base_uri": "https://localhost:8080/"
        },
        "id": "gF_q2GENGNat",
        "outputId": "1d5a4aec-f19b-4a2d-9122-57c49d7fa6d2"
      },
      "execution_count": null,
      "outputs": [
        {
          "output_type": "stream",
          "name": "stdout",
          "text": [
            "First Monday in May 2017:\n",
            "2017-05-01\n"
          ]
        }
      ]
    },
    {
      "cell_type": "code",
      "source": [],
      "metadata": {
        "id": "n94g4wnlGe2o"
      },
      "execution_count": null,
      "outputs": []
    }
  ]
}