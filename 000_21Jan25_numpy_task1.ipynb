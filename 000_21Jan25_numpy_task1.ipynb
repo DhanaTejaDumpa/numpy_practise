{
  "nbformat": 4,
  "nbformat_minor": 0,
  "metadata": {
    "colab": {
      "provenance": [],
      "authorship_tag": "ABX9TyPEFbvRQgOjgRn3A9IV4Vyq",
      "include_colab_link": true
    },
    "kernelspec": {
      "name": "python3",
      "display_name": "Python 3"
    },
    "language_info": {
      "name": "python"
    }
  },
  "cells": [
    {
      "cell_type": "markdown",
      "metadata": {
        "id": "view-in-github",
        "colab_type": "text"
      },
      "source": [
        "<a href=\"https://colab.research.google.com/github/DhanaTejaDumpa/numpy_practise/blob/main/000_21Jan25_numpy_task1.ipynb\" target=\"_parent\"><img src=\"https://colab.research.google.com/assets/colab-badge.svg\" alt=\"Open In Colab\"/></a>"
      ]
    },
    {
      "cell_type": "markdown",
      "source": [
        "# 21/01/2025"
      ],
      "metadata": {
        "id": "wzB3kXYiuqXt"
      }
    },
    {
      "cell_type": "markdown",
      "source": [
        "# 1) Explain Data Analysis in your own words using a markdown cell/code cell."
      ],
      "metadata": {
        "id": "GLfg8FL-3NXZ"
      }
    },
    {
      "cell_type": "markdown",
      "source": [
        "## Data Analysis :\n",
        " Data Analysis is the process of systematically applying statistical and/or logical techniques to describe and illustrate, condense and recap, and evaluate data.\n",
        "\n",
        "  (or)\n",
        "\n",
        "Data analytics converts raw data into actionable insights. It includes a range of tools, technologies, and processes(examining, organizing, and interpreting data) used to find trends, patterns and solve problems by using data. Data analytics can shape business processes, improve decision-making, and foster business growth.\n",
        "\n",
        "## Key Steps in Data Analysis :               \n",
        "1) <u>Collecting Data</u>: Gathering raw information from various sources (e.g., surveys, databases, or experiments).\n",
        "\n",
        "2) <u>Cleaning Data</u>: Removing errors, duplicates, or incomplete information to ensure accuracy.\n",
        "\n",
        "3) <u>Organizing Data</u>: Arranging the data in a structured way (e.g., in tables or spreadsheets).\n",
        "\n",
        "4) <u>Analyzing Data</u>: Using tools and techniques (like graphs, statistics, or software) to identify patterns or trends.\n",
        "\n",
        "5) <u>Drawing Conclusions</u>: Making sense of the findings to answer questions or solve problems.\n",
        "\n",
        "6) <u>Sharing Results</u>: Presenting the insights clearly using charts, reports, or presentations\n"
      ],
      "metadata": {
        "id": "1YS39PxA3kMq"
      }
    },
    {
      "cell_type": "markdown",
      "source": [
        "### Example:\n",
        "\n",
        "Imagine you run a bakery and want to know which pastries are most popular. By analyzing sales data:\n",
        "\n",
        "* You can see which items sell the most.\n",
        "\n",
        "* Spot trends, like higher sales on weekends.\n",
        "\n",
        "* Adjust your production to meet customer demand and reduce waste."
      ],
      "metadata": {
        "id": "VWELo32P3j9s"
      }
    },
    {
      "cell_type": "markdown",
      "source": [
        "# 2) Explain the difference between a function, a module, and a package in Python. Provide examples for each concept.\n"
      ],
      "metadata": {
        "id": "ijJBEghE3jv6"
      }
    },
    {
      "cell_type": "markdown",
      "source": [
        "## <u>Functions</u> :\n",
        "\n",
        "A function is a block of reusable code that performs a specific task. In the context of NumPy, functions are operations or calculations that can be applied to arrays or matrices. NumPy provides a wide range of functions, including mathematical, statistical, and linear algebra functions.\n",
        "\n"
      ],
      "metadata": {
        "id": "N4vNjKut34Uq"
      }
    },
    {
      "cell_type": "code",
      "execution_count": null,
      "metadata": {
        "colab": {
          "base_uri": "https://localhost:8080/"
        },
        "id": "HqgtIiOO3HZk",
        "outputId": "6771af2b-e6cb-4904-bd7f-496279825b40"
      },
      "outputs": [
        {
          "output_type": "execute_result",
          "data": {
            "text/plain": [
              "2.0"
            ]
          },
          "metadata": {},
          "execution_count": 1
        }
      ],
      "source": [
        "# Example :\n",
        "\n",
        "import numpy as np\n",
        "\n",
        "arr = np.arange(5)                       # creating an 1D array\n",
        "mean_arr = np.mean(arr)                  # calculating mean of array using numpy function ,np.mean()\n",
        "mean_arr"
      ]
    },
    {
      "cell_type": "markdown",
      "source": [
        "## <u>Module</u> :             \n",
        "\n",
        "A module is a file containing Python code that defines functions, classes, and variables, and it can include runnable code. A module can be imported into other Python programs to provide its functionality.\n",
        "\n",
        "NumPy itself is a module that provides a wide variety of functions for numerical computing. When you import NumPy, you can use its functions and classes to perform operations on arrays."
      ],
      "metadata": {
        "id": "jRuJtPc5OBL9"
      }
    },
    {
      "cell_type": "code",
      "source": [
        "# Example :\n",
        "\n",
        "import numpy as np\n",
        "\n",
        "\n",
        "arr = np.array([1, 2, 3, 4, 5])           # Creating a NumPy array using the NumPy module\n",
        "arr\n"
      ],
      "metadata": {
        "colab": {
          "base_uri": "https://localhost:8080/"
        },
        "id": "N22nplATFUCr",
        "outputId": "2a4b5c86-7584-43d7-cdba-5a4031c249e3"
      },
      "execution_count": null,
      "outputs": [
        {
          "output_type": "execute_result",
          "data": {
            "text/plain": [
              "array([1, 2, 3, 4, 5])"
            ]
          },
          "metadata": {},
          "execution_count": 3
        }
      ]
    },
    {
      "cell_type": "markdown",
      "source": [
        "## <u>Package</u> :            \n",
        "\n",
        "A package is a collection of Python modules organized in directories, with an optional \\_\\_init__.py file to indicate that the directory is a package. Packages allow for the grouping of related modules, making code more modular and organized.\n",
        "\n",
        "In the case of NumPy, it's a package because it contains multiple modules and submodules that are organized under the numpy directory"
      ],
      "metadata": {
        "id": "qRLJTFZhT_55"
      }
    },
    {
      "cell_type": "markdown",
      "source": [
        "**Note** :\n",
        "* A python module may contain several classes,functions,variables etc.whereas python package can contain several modules.In simpler terms a package is folder that contains various modules as files.\n"
      ],
      "metadata": {
        "id": "MSuf-OXvoKFn"
      }
    },
    {
      "cell_type": "markdown",
      "source": [
        "* <b><i>Packages</i></b> are folder like structure which contains multiple <b><i>modules</b></i>.\n",
        "\n",
        "# Package structure :               \n",
        "\n",
        "* First we have to create a package folder.\n",
        "* inside folder create multiple files(suppose 3)\n",
        "  * \\_\\_init__.py (initialisation file)\n",
        "  * module1.py\n",
        "  * module2.py\n",
        "\n",
        "* If we want to create a package then that folder must contain an initialisation file(\\_\\_init__.py).This file makes the intialisation of package.\n",
        "* If we donot create an intialisation file under package folder,then it won't be considered as package."
      ],
      "metadata": {
        "id": "ScvAQ8y9jf1e"
      }
    },
    {
      "cell_type": "markdown",
      "source": [
        "**Note :**\n",
        "* Python packages require a specific directory structure, including an \\_\\_init__.py file, which acts as a marker for the directory to be treated as a package.\n",
        "* In `Colab` or `jupyter` Notebooks, creating and maintaining such a directory structure is not straightforward, as these environments are not designed for full project development workflows.\n",
        "* While workarounds using <u>%mkdir</u> and <u>%writefile</u> commands can simulate a package, this is not an ideal or practical approach for complex projects.\n",
        "* Development environments like <mark>VS Code, PyCharm, or any local Python environment</mark> are more suitable for creating and managing Python packages. These IDEs provide tools like file explorers, templates, and testing integrations to streamline package development.\n",
        "\n",
        "\n",
        "\n",
        "\n",
        "\n",
        "\n"
      ],
      "metadata": {
        "id": "5jDLKWE0K21b"
      }
    },
    {
      "cell_type": "markdown",
      "source": [
        "myPackage/\n",
        "\n",
        "  \\_\\_init__.py                           # make it a package\n",
        "\n",
        "  basicOperations.py                      # module1\n",
        "\n",
        "  advancedOperations.py                   # module2"
      ],
      "metadata": {
        "id": "Ca0sPemyjgSW"
      }
    },
    {
      "cell_type": "markdown",
      "source": [
        "basicOperations.py                                    "
      ],
      "metadata": {
        "id": "fS3xufv9ylYS"
      }
    },
    {
      "cell_type": "code",
      "source": [
        "# create module1\n",
        "\n",
        "def add(a,b):\n",
        "  return a+b\n",
        "\n",
        "def subtract(a,b):\n",
        "  return a-b"
      ],
      "metadata": {
        "id": "7t-MuqBBFt48"
      },
      "execution_count": null,
      "outputs": []
    },
    {
      "cell_type": "markdown",
      "source": [
        "advacedOperations.py"
      ],
      "metadata": {
        "id": "6dIZH5e1uoF1"
      }
    },
    {
      "cell_type": "code",
      "source": [
        "# create module2\n",
        "\n",
        "def product(a,b):\n",
        "  return a*b\n",
        "\n",
        "def power(a,n):\n",
        "  return a**n\n"
      ],
      "metadata": {
        "id": "Spmo2Amq1wUU"
      },
      "execution_count": null,
      "outputs": []
    },
    {
      "cell_type": "markdown",
      "source": [
        "**we can use my_package in our files by importing it**"
      ],
      "metadata": {
        "id": "dEVgJjdAKR8L"
      }
    },
    {
      "cell_type": "code",
      "source": [
        "# from myPackage.basicOperations import add,subtract\n",
        "# from myPackage.advancedOperations import product,power\n",
        "\n",
        "\n",
        "print(f'sum = {add(2,3)}')\n",
        "print(f'difference = {subtract(2,3)}')\n",
        "print(f'product = {product(2,3)}')\n",
        "print(f'power = {power(2,3)}')"
      ],
      "metadata": {
        "colab": {
          "base_uri": "https://localhost:8080/"
        },
        "id": "0UNghqtz2aZj",
        "outputId": "b5874327-330b-4d3f-f4f5-81bbc9338a11"
      },
      "execution_count": null,
      "outputs": [
        {
          "output_type": "stream",
          "name": "stdout",
          "text": [
            "sum = 5\n",
            "difference = -1\n",
            "product = 6\n",
            "power = 8\n"
          ]
        }
      ]
    },
    {
      "cell_type": "markdown",
      "source": [
        "# <u>Difference between function,module and package</u> :\n",
        "\n",
        "Function|Module|Package\n",
        "--------|------|-------\n",
        "A reusable block of code that performs a task.|A single Python file containing reusable code.|A folder containing related modules (and sub-packages).\n",
        "ex:  def greet(name): return \"Hello!\"|ex:  import math,import numpy| ex : from myPackage import basicOperations"
      ],
      "metadata": {
        "id": "3QkzFGE1OXd2"
      }
    },
    {
      "cell_type": "markdown",
      "source": [
        "# 3) Write a Python program that:\n",
        "# Creates a numpy array using the values 4, 5, 6, 7, 8.\n",
        "\n",
        "#Prints the created array to display the result."
      ],
      "metadata": {
        "id": "PxEJAk4JjhJw"
      }
    },
    {
      "cell_type": "code",
      "source": [
        "lst = [4,5,6,7,8]                       # given values are taken as list\n",
        "arr = np.array(lst)                     # creating an array using a list\n",
        "print(arr)                              # prints the array"
      ],
      "metadata": {
        "colab": {
          "base_uri": "https://localhost:8080/"
        },
        "id": "mbdfY_D0jiPb",
        "outputId": "c9a04c78-5909-45c4-f1f6-82ec029b4fa6"
      },
      "execution_count": null,
      "outputs": [
        {
          "output_type": "stream",
          "name": "stdout",
          "text": [
            "[4 5 6 7 8]\n"
          ]
        }
      ]
    },
    {
      "cell_type": "markdown",
      "source": [
        "# 4) Create a numpy array takeing input from the user and print the created array"
      ],
      "metadata": {
        "id": "X-8f58m0r59U"
      }
    },
    {
      "cell_type": "code",
      "source": [
        "import numpy as np\n",
        "\n",
        "num = int(input('Enter num of inputs you want to enter : '))\n",
        "lst = []\n",
        "\n",
        "for i in range(num) :\n",
        "  lst.append(int(input('Enter your number : ')))\n",
        "\n",
        "arr = np.array(lst)\n",
        "arr\n"
      ],
      "metadata": {
        "colab": {
          "base_uri": "https://localhost:8080/"
        },
        "id": "EVyugGFarkOh",
        "outputId": "84b38cd2-6874-413b-8b59-91eac31c8248"
      },
      "execution_count": null,
      "outputs": [
        {
          "name": "stdout",
          "output_type": "stream",
          "text": [
            "Enter num of inputs you want to enter : 3\n",
            "Enter your number : 1\n",
            "Enter your number : 2\n",
            "Enter your number : 3\n"
          ]
        },
        {
          "output_type": "execute_result",
          "data": {
            "text/plain": [
              "array([1, 2, 3])"
            ]
          },
          "metadata": {},
          "execution_count": 13
        }
      ]
    },
    {
      "cell_type": "code",
      "source": [
        "# alternative method\n",
        "\n",
        "input_lst = input('Enter your numbers separated by spaces : ')\n",
        "lst = list(map(float,input_lst.split()))\n",
        "arr = np.array(lst)\n",
        "arr"
      ],
      "metadata": {
        "colab": {
          "base_uri": "https://localhost:8080/"
        },
        "id": "aQuckQ4Us1X-",
        "outputId": "79d34806-42b8-4d57-fba0-40c0c85f4a50"
      },
      "execution_count": null,
      "outputs": [
        {
          "name": "stdout",
          "output_type": "stream",
          "text": [
            "Enter your numbers separated by spaces : 1 2 3 4 5\n"
          ]
        },
        {
          "output_type": "execute_result",
          "data": {
            "text/plain": [
              "array([1., 2., 3., 4., 5.])"
            ]
          },
          "metadata": {},
          "execution_count": 14
        }
      ]
    },
    {
      "cell_type": "code",
      "source": [],
      "metadata": {
        "id": "Fh1DK5dGtbrr"
      },
      "execution_count": null,
      "outputs": []
    }
  ]
}