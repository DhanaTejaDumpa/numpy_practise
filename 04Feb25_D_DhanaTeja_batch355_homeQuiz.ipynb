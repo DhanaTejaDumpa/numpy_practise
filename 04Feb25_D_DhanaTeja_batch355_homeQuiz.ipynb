{
  "nbformat": 4,
  "nbformat_minor": 0,
  "metadata": {
    "colab": {
      "provenance": [],
      "authorship_tag": "ABX9TyPfsJzSMdf7oQEYRmPnLQXh",
      "include_colab_link": true
    },
    "kernelspec": {
      "name": "python3",
      "display_name": "Python 3"
    },
    "language_info": {
      "name": "python"
    }
  },
  "cells": [
    {
      "cell_type": "markdown",
      "metadata": {
        "id": "view-in-github",
        "colab_type": "text"
      },
      "source": [
        "<a href=\"https://colab.research.google.com/github/DhanaTejaDumpa/numpy_practise/blob/main/04Feb25_D_DhanaTeja_batch355_homeQuiz.ipynb\" target=\"_parent\"><img src=\"https://colab.research.google.com/assets/colab-badge.svg\" alt=\"Open In Colab\"/></a>"
      ]
    },
    {
      "cell_type": "markdown",
      "source": [
        "# 04/02/2025\n",
        "\n",
        "# <center><b><u>Home Quiz</u></b></center>"
      ],
      "metadata": {
        "id": "AX0y9aaOXLxe"
      }
    },
    {
      "cell_type": "code",
      "source": [
        "import pandas as pd\n",
        "import numpy as np"
      ],
      "metadata": {
        "id": "PCHFvYZdXJq2"
      },
      "execution_count": null,
      "outputs": []
    },
    {
      "cell_type": "code",
      "source": [
        "# importing data set\n",
        "\n",
        "data = pd.read_csv('data.csv')\n",
        "data"
      ],
      "metadata": {
        "colab": {
          "base_uri": "https://localhost:8080/",
          "height": 461
        },
        "id": "nvEYZS15XS4K",
        "outputId": "bc0cc170-83d8-4a01-e12d-cae7c068e71b"
      },
      "execution_count": null,
      "outputs": [
        {
          "output_type": "execute_result",
          "data": {
            "text/plain": [
              "     Unnamed: 0     id   chol  stab.glu    hdl  ratio      glyhb    location  \\\n",
              "0             2   1002  228.0        92   37.0    6.2   4.640000  Buckingham   \n",
              "1             6   1011  195.0        92   41.0    4.8   4.840000  Buckingham   \n",
              "2             8   1016  177.0        87   49.0    3.6   4.840000  Buckingham   \n",
              "3            10   1024  242.0        82   54.0    4.5   4.770000      Louisa   \n",
              "4            15   1036  213.0        83   47.0    4.5   3.410000      Louisa   \n",
              "..          ...    ...    ...       ...    ...    ...        ...         ...   \n",
              "125         394  41254  169.0       104   58.0    2.9   4.820000      Louisa   \n",
              "126         395  41500  179.0        85   50.0    3.6   4.990000      Louisa   \n",
              "127         397  41503  301.0        90  118.0    2.6   4.280000      Louisa   \n",
              "128         398  41506  296.0       369   46.0    6.4  16.110001      Louisa   \n",
              "129         399  41507  284.0        89   54.0    5.3   4.390000      Louisa   \n",
              "\n",
              "     age  gender  height  weight   frame  bp.1s  bp.1d  bp.2s  bp.2d  waist  \\\n",
              "0     58  female    61.0   256.0   large  190.0   92.0  185.0   92.0   49.0   \n",
              "1     30    male    69.0   191.0  medium  161.0  112.0  161.0  112.0   46.0   \n",
              "2     45    male    69.0   166.0   large  160.0   80.0  128.0   86.0   34.0   \n",
              "3     60  female    65.0   156.0  medium  130.0   90.0  130.0   90.0   39.0   \n",
              "4     33  female    65.0   157.0  medium  130.0   90.0  120.0   96.0   37.0   \n",
              "..   ...     ...     ...     ...     ...    ...    ...    ...    ...    ...   \n",
              "125   25  female    60.0   154.0  medium  140.0   95.0  130.0   94.0   40.0   \n",
              "126   37    male    66.0   136.0  medium  190.0   94.0  172.0  100.0   33.0   \n",
              "127   89  female    61.0   115.0  medium  218.0   90.0  238.0   90.0   31.0   \n",
              "128   53    male    69.0   173.0  medium  138.0   94.0  130.0   94.0   35.0   \n",
              "129   51  female    63.0   154.0  medium  140.0  100.0  146.0  102.0   32.0   \n",
              "\n",
              "      hip  time.ppn  \n",
              "0    57.0     180.0  \n",
              "1    49.0     720.0  \n",
              "2    40.0     300.0  \n",
              "3    45.0     300.0  \n",
              "4    41.0     240.0  \n",
              "..    ...       ...  \n",
              "125  42.0      60.0  \n",
              "126  39.0     480.0  \n",
              "127  41.0     210.0  \n",
              "128  39.0     210.0  \n",
              "129  43.0     180.0  \n",
              "\n",
              "[130 rows x 20 columns]"
            ],
            "text/html": [
              "\n",
              "  <div id=\"df-46402c46-0f68-4b4f-85e5-4b1144972320\" class=\"colab-df-container\">\n",
              "    <div>\n",
              "<style scoped>\n",
              "    .dataframe tbody tr th:only-of-type {\n",
              "        vertical-align: middle;\n",
              "    }\n",
              "\n",
              "    .dataframe tbody tr th {\n",
              "        vertical-align: top;\n",
              "    }\n",
              "\n",
              "    .dataframe thead th {\n",
              "        text-align: right;\n",
              "    }\n",
              "</style>\n",
              "<table border=\"1\" class=\"dataframe\">\n",
              "  <thead>\n",
              "    <tr style=\"text-align: right;\">\n",
              "      <th></th>\n",
              "      <th>Unnamed: 0</th>\n",
              "      <th>id</th>\n",
              "      <th>chol</th>\n",
              "      <th>stab.glu</th>\n",
              "      <th>hdl</th>\n",
              "      <th>ratio</th>\n",
              "      <th>glyhb</th>\n",
              "      <th>location</th>\n",
              "      <th>age</th>\n",
              "      <th>gender</th>\n",
              "      <th>height</th>\n",
              "      <th>weight</th>\n",
              "      <th>frame</th>\n",
              "      <th>bp.1s</th>\n",
              "      <th>bp.1d</th>\n",
              "      <th>bp.2s</th>\n",
              "      <th>bp.2d</th>\n",
              "      <th>waist</th>\n",
              "      <th>hip</th>\n",
              "      <th>time.ppn</th>\n",
              "    </tr>\n",
              "  </thead>\n",
              "  <tbody>\n",
              "    <tr>\n",
              "      <th>0</th>\n",
              "      <td>2</td>\n",
              "      <td>1002</td>\n",
              "      <td>228.0</td>\n",
              "      <td>92</td>\n",
              "      <td>37.0</td>\n",
              "      <td>6.2</td>\n",
              "      <td>4.640000</td>\n",
              "      <td>Buckingham</td>\n",
              "      <td>58</td>\n",
              "      <td>female</td>\n",
              "      <td>61.0</td>\n",
              "      <td>256.0</td>\n",
              "      <td>large</td>\n",
              "      <td>190.0</td>\n",
              "      <td>92.0</td>\n",
              "      <td>185.0</td>\n",
              "      <td>92.0</td>\n",
              "      <td>49.0</td>\n",
              "      <td>57.0</td>\n",
              "      <td>180.0</td>\n",
              "    </tr>\n",
              "    <tr>\n",
              "      <th>1</th>\n",
              "      <td>6</td>\n",
              "      <td>1011</td>\n",
              "      <td>195.0</td>\n",
              "      <td>92</td>\n",
              "      <td>41.0</td>\n",
              "      <td>4.8</td>\n",
              "      <td>4.840000</td>\n",
              "      <td>Buckingham</td>\n",
              "      <td>30</td>\n",
              "      <td>male</td>\n",
              "      <td>69.0</td>\n",
              "      <td>191.0</td>\n",
              "      <td>medium</td>\n",
              "      <td>161.0</td>\n",
              "      <td>112.0</td>\n",
              "      <td>161.0</td>\n",
              "      <td>112.0</td>\n",
              "      <td>46.0</td>\n",
              "      <td>49.0</td>\n",
              "      <td>720.0</td>\n",
              "    </tr>\n",
              "    <tr>\n",
              "      <th>2</th>\n",
              "      <td>8</td>\n",
              "      <td>1016</td>\n",
              "      <td>177.0</td>\n",
              "      <td>87</td>\n",
              "      <td>49.0</td>\n",
              "      <td>3.6</td>\n",
              "      <td>4.840000</td>\n",
              "      <td>Buckingham</td>\n",
              "      <td>45</td>\n",
              "      <td>male</td>\n",
              "      <td>69.0</td>\n",
              "      <td>166.0</td>\n",
              "      <td>large</td>\n",
              "      <td>160.0</td>\n",
              "      <td>80.0</td>\n",
              "      <td>128.0</td>\n",
              "      <td>86.0</td>\n",
              "      <td>34.0</td>\n",
              "      <td>40.0</td>\n",
              "      <td>300.0</td>\n",
              "    </tr>\n",
              "    <tr>\n",
              "      <th>3</th>\n",
              "      <td>10</td>\n",
              "      <td>1024</td>\n",
              "      <td>242.0</td>\n",
              "      <td>82</td>\n",
              "      <td>54.0</td>\n",
              "      <td>4.5</td>\n",
              "      <td>4.770000</td>\n",
              "      <td>Louisa</td>\n",
              "      <td>60</td>\n",
              "      <td>female</td>\n",
              "      <td>65.0</td>\n",
              "      <td>156.0</td>\n",
              "      <td>medium</td>\n",
              "      <td>130.0</td>\n",
              "      <td>90.0</td>\n",
              "      <td>130.0</td>\n",
              "      <td>90.0</td>\n",
              "      <td>39.0</td>\n",
              "      <td>45.0</td>\n",
              "      <td>300.0</td>\n",
              "    </tr>\n",
              "    <tr>\n",
              "      <th>4</th>\n",
              "      <td>15</td>\n",
              "      <td>1036</td>\n",
              "      <td>213.0</td>\n",
              "      <td>83</td>\n",
              "      <td>47.0</td>\n",
              "      <td>4.5</td>\n",
              "      <td>3.410000</td>\n",
              "      <td>Louisa</td>\n",
              "      <td>33</td>\n",
              "      <td>female</td>\n",
              "      <td>65.0</td>\n",
              "      <td>157.0</td>\n",
              "      <td>medium</td>\n",
              "      <td>130.0</td>\n",
              "      <td>90.0</td>\n",
              "      <td>120.0</td>\n",
              "      <td>96.0</td>\n",
              "      <td>37.0</td>\n",
              "      <td>41.0</td>\n",
              "      <td>240.0</td>\n",
              "    </tr>\n",
              "    <tr>\n",
              "      <th>...</th>\n",
              "      <td>...</td>\n",
              "      <td>...</td>\n",
              "      <td>...</td>\n",
              "      <td>...</td>\n",
              "      <td>...</td>\n",
              "      <td>...</td>\n",
              "      <td>...</td>\n",
              "      <td>...</td>\n",
              "      <td>...</td>\n",
              "      <td>...</td>\n",
              "      <td>...</td>\n",
              "      <td>...</td>\n",
              "      <td>...</td>\n",
              "      <td>...</td>\n",
              "      <td>...</td>\n",
              "      <td>...</td>\n",
              "      <td>...</td>\n",
              "      <td>...</td>\n",
              "      <td>...</td>\n",
              "      <td>...</td>\n",
              "    </tr>\n",
              "    <tr>\n",
              "      <th>125</th>\n",
              "      <td>394</td>\n",
              "      <td>41254</td>\n",
              "      <td>169.0</td>\n",
              "      <td>104</td>\n",
              "      <td>58.0</td>\n",
              "      <td>2.9</td>\n",
              "      <td>4.820000</td>\n",
              "      <td>Louisa</td>\n",
              "      <td>25</td>\n",
              "      <td>female</td>\n",
              "      <td>60.0</td>\n",
              "      <td>154.0</td>\n",
              "      <td>medium</td>\n",
              "      <td>140.0</td>\n",
              "      <td>95.0</td>\n",
              "      <td>130.0</td>\n",
              "      <td>94.0</td>\n",
              "      <td>40.0</td>\n",
              "      <td>42.0</td>\n",
              "      <td>60.0</td>\n",
              "    </tr>\n",
              "    <tr>\n",
              "      <th>126</th>\n",
              "      <td>395</td>\n",
              "      <td>41500</td>\n",
              "      <td>179.0</td>\n",
              "      <td>85</td>\n",
              "      <td>50.0</td>\n",
              "      <td>3.6</td>\n",
              "      <td>4.990000</td>\n",
              "      <td>Louisa</td>\n",
              "      <td>37</td>\n",
              "      <td>male</td>\n",
              "      <td>66.0</td>\n",
              "      <td>136.0</td>\n",
              "      <td>medium</td>\n",
              "      <td>190.0</td>\n",
              "      <td>94.0</td>\n",
              "      <td>172.0</td>\n",
              "      <td>100.0</td>\n",
              "      <td>33.0</td>\n",
              "      <td>39.0</td>\n",
              "      <td>480.0</td>\n",
              "    </tr>\n",
              "    <tr>\n",
              "      <th>127</th>\n",
              "      <td>397</td>\n",
              "      <td>41503</td>\n",
              "      <td>301.0</td>\n",
              "      <td>90</td>\n",
              "      <td>118.0</td>\n",
              "      <td>2.6</td>\n",
              "      <td>4.280000</td>\n",
              "      <td>Louisa</td>\n",
              "      <td>89</td>\n",
              "      <td>female</td>\n",
              "      <td>61.0</td>\n",
              "      <td>115.0</td>\n",
              "      <td>medium</td>\n",
              "      <td>218.0</td>\n",
              "      <td>90.0</td>\n",
              "      <td>238.0</td>\n",
              "      <td>90.0</td>\n",
              "      <td>31.0</td>\n",
              "      <td>41.0</td>\n",
              "      <td>210.0</td>\n",
              "    </tr>\n",
              "    <tr>\n",
              "      <th>128</th>\n",
              "      <td>398</td>\n",
              "      <td>41506</td>\n",
              "      <td>296.0</td>\n",
              "      <td>369</td>\n",
              "      <td>46.0</td>\n",
              "      <td>6.4</td>\n",
              "      <td>16.110001</td>\n",
              "      <td>Louisa</td>\n",
              "      <td>53</td>\n",
              "      <td>male</td>\n",
              "      <td>69.0</td>\n",
              "      <td>173.0</td>\n",
              "      <td>medium</td>\n",
              "      <td>138.0</td>\n",
              "      <td>94.0</td>\n",
              "      <td>130.0</td>\n",
              "      <td>94.0</td>\n",
              "      <td>35.0</td>\n",
              "      <td>39.0</td>\n",
              "      <td>210.0</td>\n",
              "    </tr>\n",
              "    <tr>\n",
              "      <th>129</th>\n",
              "      <td>399</td>\n",
              "      <td>41507</td>\n",
              "      <td>284.0</td>\n",
              "      <td>89</td>\n",
              "      <td>54.0</td>\n",
              "      <td>5.3</td>\n",
              "      <td>4.390000</td>\n",
              "      <td>Louisa</td>\n",
              "      <td>51</td>\n",
              "      <td>female</td>\n",
              "      <td>63.0</td>\n",
              "      <td>154.0</td>\n",
              "      <td>medium</td>\n",
              "      <td>140.0</td>\n",
              "      <td>100.0</td>\n",
              "      <td>146.0</td>\n",
              "      <td>102.0</td>\n",
              "      <td>32.0</td>\n",
              "      <td>43.0</td>\n",
              "      <td>180.0</td>\n",
              "    </tr>\n",
              "  </tbody>\n",
              "</table>\n",
              "<p>130 rows × 20 columns</p>\n",
              "</div>\n",
              "    <div class=\"colab-df-buttons\">\n",
              "\n",
              "  <div class=\"colab-df-container\">\n",
              "    <button class=\"colab-df-convert\" onclick=\"convertToInteractive('df-46402c46-0f68-4b4f-85e5-4b1144972320')\"\n",
              "            title=\"Convert this dataframe to an interactive table.\"\n",
              "            style=\"display:none;\">\n",
              "\n",
              "  <svg xmlns=\"http://www.w3.org/2000/svg\" height=\"24px\" viewBox=\"0 -960 960 960\">\n",
              "    <path d=\"M120-120v-720h720v720H120Zm60-500h600v-160H180v160Zm220 220h160v-160H400v160Zm0 220h160v-160H400v160ZM180-400h160v-160H180v160Zm440 0h160v-160H620v160ZM180-180h160v-160H180v160Zm440 0h160v-160H620v160Z\"/>\n",
              "  </svg>\n",
              "    </button>\n",
              "\n",
              "  <style>\n",
              "    .colab-df-container {\n",
              "      display:flex;\n",
              "      gap: 12px;\n",
              "    }\n",
              "\n",
              "    .colab-df-convert {\n",
              "      background-color: #E8F0FE;\n",
              "      border: none;\n",
              "      border-radius: 50%;\n",
              "      cursor: pointer;\n",
              "      display: none;\n",
              "      fill: #1967D2;\n",
              "      height: 32px;\n",
              "      padding: 0 0 0 0;\n",
              "      width: 32px;\n",
              "    }\n",
              "\n",
              "    .colab-df-convert:hover {\n",
              "      background-color: #E2EBFA;\n",
              "      box-shadow: 0px 1px 2px rgba(60, 64, 67, 0.3), 0px 1px 3px 1px rgba(60, 64, 67, 0.15);\n",
              "      fill: #174EA6;\n",
              "    }\n",
              "\n",
              "    .colab-df-buttons div {\n",
              "      margin-bottom: 4px;\n",
              "    }\n",
              "\n",
              "    [theme=dark] .colab-df-convert {\n",
              "      background-color: #3B4455;\n",
              "      fill: #D2E3FC;\n",
              "    }\n",
              "\n",
              "    [theme=dark] .colab-df-convert:hover {\n",
              "      background-color: #434B5C;\n",
              "      box-shadow: 0px 1px 3px 1px rgba(0, 0, 0, 0.15);\n",
              "      filter: drop-shadow(0px 1px 2px rgba(0, 0, 0, 0.3));\n",
              "      fill: #FFFFFF;\n",
              "    }\n",
              "  </style>\n",
              "\n",
              "    <script>\n",
              "      const buttonEl =\n",
              "        document.querySelector('#df-46402c46-0f68-4b4f-85e5-4b1144972320 button.colab-df-convert');\n",
              "      buttonEl.style.display =\n",
              "        google.colab.kernel.accessAllowed ? 'block' : 'none';\n",
              "\n",
              "      async function convertToInteractive(key) {\n",
              "        const element = document.querySelector('#df-46402c46-0f68-4b4f-85e5-4b1144972320');\n",
              "        const dataTable =\n",
              "          await google.colab.kernel.invokeFunction('convertToInteractive',\n",
              "                                                    [key], {});\n",
              "        if (!dataTable) return;\n",
              "\n",
              "        const docLinkHtml = 'Like what you see? Visit the ' +\n",
              "          '<a target=\"_blank\" href=https://colab.research.google.com/notebooks/data_table.ipynb>data table notebook</a>'\n",
              "          + ' to learn more about interactive tables.';\n",
              "        element.innerHTML = '';\n",
              "        dataTable['output_type'] = 'display_data';\n",
              "        await google.colab.output.renderOutput(dataTable, element);\n",
              "        const docLink = document.createElement('div');\n",
              "        docLink.innerHTML = docLinkHtml;\n",
              "        element.appendChild(docLink);\n",
              "      }\n",
              "    </script>\n",
              "  </div>\n",
              "\n",
              "\n",
              "<div id=\"df-1882891e-561e-4c05-aeca-e5e6e87fa741\">\n",
              "  <button class=\"colab-df-quickchart\" onclick=\"quickchart('df-1882891e-561e-4c05-aeca-e5e6e87fa741')\"\n",
              "            title=\"Suggest charts\"\n",
              "            style=\"display:none;\">\n",
              "\n",
              "<svg xmlns=\"http://www.w3.org/2000/svg\" height=\"24px\"viewBox=\"0 0 24 24\"\n",
              "     width=\"24px\">\n",
              "    <g>\n",
              "        <path d=\"M19 3H5c-1.1 0-2 .9-2 2v14c0 1.1.9 2 2 2h14c1.1 0 2-.9 2-2V5c0-1.1-.9-2-2-2zM9 17H7v-7h2v7zm4 0h-2V7h2v10zm4 0h-2v-4h2v4z\"/>\n",
              "    </g>\n",
              "</svg>\n",
              "  </button>\n",
              "\n",
              "<style>\n",
              "  .colab-df-quickchart {\n",
              "      --bg-color: #E8F0FE;\n",
              "      --fill-color: #1967D2;\n",
              "      --hover-bg-color: #E2EBFA;\n",
              "      --hover-fill-color: #174EA6;\n",
              "      --disabled-fill-color: #AAA;\n",
              "      --disabled-bg-color: #DDD;\n",
              "  }\n",
              "\n",
              "  [theme=dark] .colab-df-quickchart {\n",
              "      --bg-color: #3B4455;\n",
              "      --fill-color: #D2E3FC;\n",
              "      --hover-bg-color: #434B5C;\n",
              "      --hover-fill-color: #FFFFFF;\n",
              "      --disabled-bg-color: #3B4455;\n",
              "      --disabled-fill-color: #666;\n",
              "  }\n",
              "\n",
              "  .colab-df-quickchart {\n",
              "    background-color: var(--bg-color);\n",
              "    border: none;\n",
              "    border-radius: 50%;\n",
              "    cursor: pointer;\n",
              "    display: none;\n",
              "    fill: var(--fill-color);\n",
              "    height: 32px;\n",
              "    padding: 0;\n",
              "    width: 32px;\n",
              "  }\n",
              "\n",
              "  .colab-df-quickchart:hover {\n",
              "    background-color: var(--hover-bg-color);\n",
              "    box-shadow: 0 1px 2px rgba(60, 64, 67, 0.3), 0 1px 3px 1px rgba(60, 64, 67, 0.15);\n",
              "    fill: var(--button-hover-fill-color);\n",
              "  }\n",
              "\n",
              "  .colab-df-quickchart-complete:disabled,\n",
              "  .colab-df-quickchart-complete:disabled:hover {\n",
              "    background-color: var(--disabled-bg-color);\n",
              "    fill: var(--disabled-fill-color);\n",
              "    box-shadow: none;\n",
              "  }\n",
              "\n",
              "  .colab-df-spinner {\n",
              "    border: 2px solid var(--fill-color);\n",
              "    border-color: transparent;\n",
              "    border-bottom-color: var(--fill-color);\n",
              "    animation:\n",
              "      spin 1s steps(1) infinite;\n",
              "  }\n",
              "\n",
              "  @keyframes spin {\n",
              "    0% {\n",
              "      border-color: transparent;\n",
              "      border-bottom-color: var(--fill-color);\n",
              "      border-left-color: var(--fill-color);\n",
              "    }\n",
              "    20% {\n",
              "      border-color: transparent;\n",
              "      border-left-color: var(--fill-color);\n",
              "      border-top-color: var(--fill-color);\n",
              "    }\n",
              "    30% {\n",
              "      border-color: transparent;\n",
              "      border-left-color: var(--fill-color);\n",
              "      border-top-color: var(--fill-color);\n",
              "      border-right-color: var(--fill-color);\n",
              "    }\n",
              "    40% {\n",
              "      border-color: transparent;\n",
              "      border-right-color: var(--fill-color);\n",
              "      border-top-color: var(--fill-color);\n",
              "    }\n",
              "    60% {\n",
              "      border-color: transparent;\n",
              "      border-right-color: var(--fill-color);\n",
              "    }\n",
              "    80% {\n",
              "      border-color: transparent;\n",
              "      border-right-color: var(--fill-color);\n",
              "      border-bottom-color: var(--fill-color);\n",
              "    }\n",
              "    90% {\n",
              "      border-color: transparent;\n",
              "      border-bottom-color: var(--fill-color);\n",
              "    }\n",
              "  }\n",
              "</style>\n",
              "\n",
              "  <script>\n",
              "    async function quickchart(key) {\n",
              "      const quickchartButtonEl =\n",
              "        document.querySelector('#' + key + ' button');\n",
              "      quickchartButtonEl.disabled = true;  // To prevent multiple clicks.\n",
              "      quickchartButtonEl.classList.add('colab-df-spinner');\n",
              "      try {\n",
              "        const charts = await google.colab.kernel.invokeFunction(\n",
              "            'suggestCharts', [key], {});\n",
              "      } catch (error) {\n",
              "        console.error('Error during call to suggestCharts:', error);\n",
              "      }\n",
              "      quickchartButtonEl.classList.remove('colab-df-spinner');\n",
              "      quickchartButtonEl.classList.add('colab-df-quickchart-complete');\n",
              "    }\n",
              "    (() => {\n",
              "      let quickchartButtonEl =\n",
              "        document.querySelector('#df-1882891e-561e-4c05-aeca-e5e6e87fa741 button');\n",
              "      quickchartButtonEl.style.display =\n",
              "        google.colab.kernel.accessAllowed ? 'block' : 'none';\n",
              "    })();\n",
              "  </script>\n",
              "</div>\n",
              "\n",
              "  <div id=\"id_7c03a6e2-c8fb-4255-aa1d-01a45f2ae4b1\">\n",
              "    <style>\n",
              "      .colab-df-generate {\n",
              "        background-color: #E8F0FE;\n",
              "        border: none;\n",
              "        border-radius: 50%;\n",
              "        cursor: pointer;\n",
              "        display: none;\n",
              "        fill: #1967D2;\n",
              "        height: 32px;\n",
              "        padding: 0 0 0 0;\n",
              "        width: 32px;\n",
              "      }\n",
              "\n",
              "      .colab-df-generate:hover {\n",
              "        background-color: #E2EBFA;\n",
              "        box-shadow: 0px 1px 2px rgba(60, 64, 67, 0.3), 0px 1px 3px 1px rgba(60, 64, 67, 0.15);\n",
              "        fill: #174EA6;\n",
              "      }\n",
              "\n",
              "      [theme=dark] .colab-df-generate {\n",
              "        background-color: #3B4455;\n",
              "        fill: #D2E3FC;\n",
              "      }\n",
              "\n",
              "      [theme=dark] .colab-df-generate:hover {\n",
              "        background-color: #434B5C;\n",
              "        box-shadow: 0px 1px 3px 1px rgba(0, 0, 0, 0.15);\n",
              "        filter: drop-shadow(0px 1px 2px rgba(0, 0, 0, 0.3));\n",
              "        fill: #FFFFFF;\n",
              "      }\n",
              "    </style>\n",
              "    <button class=\"colab-df-generate\" onclick=\"generateWithVariable('data')\"\n",
              "            title=\"Generate code using this dataframe.\"\n",
              "            style=\"display:none;\">\n",
              "\n",
              "  <svg xmlns=\"http://www.w3.org/2000/svg\" height=\"24px\"viewBox=\"0 0 24 24\"\n",
              "       width=\"24px\">\n",
              "    <path d=\"M7,19H8.4L18.45,9,17,7.55,7,17.6ZM5,21V16.75L18.45,3.32a2,2,0,0,1,2.83,0l1.4,1.43a1.91,1.91,0,0,1,.58,1.4,1.91,1.91,0,0,1-.58,1.4L9.25,21ZM18.45,9,17,7.55Zm-12,3A5.31,5.31,0,0,0,4.9,8.1,5.31,5.31,0,0,0,1,6.5,5.31,5.31,0,0,0,4.9,4.9,5.31,5.31,0,0,0,6.5,1,5.31,5.31,0,0,0,8.1,4.9,5.31,5.31,0,0,0,12,6.5,5.46,5.46,0,0,0,6.5,12Z\"/>\n",
              "  </svg>\n",
              "    </button>\n",
              "    <script>\n",
              "      (() => {\n",
              "      const buttonEl =\n",
              "        document.querySelector('#id_7c03a6e2-c8fb-4255-aa1d-01a45f2ae4b1 button.colab-df-generate');\n",
              "      buttonEl.style.display =\n",
              "        google.colab.kernel.accessAllowed ? 'block' : 'none';\n",
              "\n",
              "      buttonEl.onclick = () => {\n",
              "        google.colab.notebook.generateWithVariable('data');\n",
              "      }\n",
              "      })();\n",
              "    </script>\n",
              "  </div>\n",
              "\n",
              "    </div>\n",
              "  </div>\n"
            ],
            "application/vnd.google.colaboratory.intrinsic+json": {
              "type": "dataframe",
              "variable_name": "data",
              "summary": "{\n  \"name\": \"data\",\n  \"rows\": 130,\n  \"fields\": [\n    {\n      \"column\": \"Unnamed: 0\",\n      \"properties\": {\n        \"dtype\": \"number\",\n        \"std\": 123,\n        \"min\": 2,\n        \"max\": 399,\n        \"num_unique_values\": 130,\n        \"samples\": [\n          187,\n          130,\n          62\n        ],\n        \"semantic_type\": \"\",\n        \"description\": \"\"\n      }\n    },\n    {\n      \"column\": \"id\",\n      \"properties\": {\n        \"dtype\": \"number\",\n        \"std\": 13988,\n        \"min\": 1002,\n        \"max\": 41507,\n        \"num_unique_values\": 130,\n        \"samples\": [\n          15521,\n          12002,\n          2778\n        ],\n        \"semantic_type\": \"\",\n        \"description\": \"\"\n      }\n    },\n    {\n      \"column\": \"chol\",\n      \"properties\": {\n        \"dtype\": \"number\",\n        \"std\": 47.45844367411339,\n        \"min\": 134.0,\n        \"max\": 443.0,\n        \"num_unique_values\": 84,\n        \"samples\": [\n          199.0,\n          228.0,\n          260.0\n        ],\n        \"semantic_type\": \"\",\n        \"description\": \"\"\n      }\n    },\n    {\n      \"column\": \"stab.glu\",\n      \"properties\": {\n        \"dtype\": \"number\",\n        \"std\": 58,\n        \"min\": 48,\n        \"max\": 369,\n        \"num_unique_values\": 71,\n        \"samples\": [\n          120,\n          92,\n          88\n        ],\n        \"semantic_type\": \"\",\n        \"description\": \"\"\n      }\n    },\n    {\n      \"column\": \"hdl\",\n      \"properties\": {\n        \"dtype\": \"number\",\n        \"std\": 18.14721650571205,\n        \"min\": 23.0,\n        \"max\": 120.0,\n        \"num_unique_values\": 54,\n        \"samples\": [\n          39.0,\n          38.0,\n          67.0\n        ],\n        \"semantic_type\": \"\",\n        \"description\": \"\"\n      }\n    },\n    {\n      \"column\": \"ratio\",\n      \"properties\": {\n        \"dtype\": \"number\",\n        \"std\": 2.070409937413323,\n        \"min\": 2.2000000477,\n        \"max\": 19.2999992371,\n        \"num_unique_values\": 50,\n        \"samples\": [\n          4.6999998093,\n          2.2000000477,\n          4.3000001907\n        ],\n        \"semantic_type\": \"\",\n        \"description\": \"\"\n      }\n    },\n    {\n      \"column\": \"glyhb\",\n      \"properties\": {\n        \"dtype\": \"number\",\n        \"std\": 2.5363481399874246,\n        \"min\": 2.8499999046,\n        \"max\": 16.1100006104,\n        \"num_unique_values\": 111,\n        \"samples\": [\n          3.8499999046,\n          15.5200004578,\n          6.4899997711\n        ],\n        \"semantic_type\": \"\",\n        \"description\": \"\"\n      }\n    },\n    {\n      \"column\": \"location\",\n      \"properties\": {\n        \"dtype\": \"category\",\n        \"num_unique_values\": 2,\n        \"samples\": [\n          \"Louisa\",\n          \"Buckingham\"\n        ],\n        \"semantic_type\": \"\",\n        \"description\": \"\"\n      }\n    },\n    {\n      \"column\": \"age\",\n      \"properties\": {\n        \"dtype\": \"number\",\n        \"std\": 15,\n        \"min\": 20,\n        \"max\": 89,\n        \"num_unique_values\": 54,\n        \"samples\": [\n          76,\n          84\n        ],\n        \"semantic_type\": \"\",\n        \"description\": \"\"\n      }\n    },\n    {\n      \"column\": \"gender\",\n      \"properties\": {\n        \"dtype\": \"category\",\n        \"num_unique_values\": 2,\n        \"samples\": [\n          \"male\",\n          \"female\"\n        ],\n        \"semantic_type\": \"\",\n        \"description\": \"\"\n      }\n    },\n    {\n      \"column\": \"height\",\n      \"properties\": {\n        \"dtype\": \"number\",\n        \"std\": 3.970891402833226,\n        \"min\": 52.0,\n        \"max\": 74.0,\n        \"num_unique_values\": 19,\n        \"samples\": [\n          61.0,\n          70.0\n        ],\n        \"semantic_type\": \"\",\n        \"description\": \"\"\n      }\n    },\n    {\n      \"column\": \"weight\",\n      \"properties\": {\n        \"dtype\": \"number\",\n        \"std\": 41.48436924998584,\n        \"min\": 102.0,\n        \"max\": 290.0,\n        \"num_unique_values\": 88,\n        \"samples\": [\n          216.0,\n          256.0\n        ],\n        \"semantic_type\": \"\",\n        \"description\": \"\"\n      }\n    },\n    {\n      \"column\": \"frame\",\n      \"properties\": {\n        \"dtype\": \"category\",\n        \"num_unique_values\": 3,\n        \"samples\": [\n          \"large\",\n          \"medium\"\n        ],\n        \"semantic_type\": \"\",\n        \"description\": \"\"\n      }\n    },\n    {\n      \"column\": \"bp.1s\",\n      \"properties\": {\n        \"dtype\": \"number\",\n        \"std\": 20.69141909320475,\n        \"min\": 100.0,\n        \"max\": 230.0,\n        \"num_unique_values\": 43,\n        \"samples\": [\n          145.0,\n          139.0\n        ],\n        \"semantic_type\": \"\",\n        \"description\": \"\"\n      }\n    },\n    {\n      \"column\": \"bp.1d\",\n      \"properties\": {\n        \"dtype\": \"number\",\n        \"std\": 11.46556119950344,\n        \"min\": 60.0,\n        \"max\": 124.0,\n        \"num_unique_values\": 35,\n        \"samples\": [\n          76.0,\n          99.0\n        ],\n        \"semantic_type\": \"\",\n        \"description\": \"\"\n      }\n    },\n    {\n      \"column\": \"bp.2s\",\n      \"properties\": {\n        \"dtype\": \"number\",\n        \"std\": 21.856130928260153,\n        \"min\": 110.0,\n        \"max\": 238.0,\n        \"num_unique_values\": 46,\n        \"samples\": [\n          138.0,\n          162.0\n        ],\n        \"semantic_type\": \"\",\n        \"description\": \"\"\n      }\n    },\n    {\n      \"column\": \"bp.2d\",\n      \"properties\": {\n        \"dtype\": \"number\",\n        \"std\": 11.582675772724217,\n        \"min\": 60.0,\n        \"max\": 124.0,\n        \"num_unique_values\": 34,\n        \"samples\": [\n          76.0,\n          98.0\n        ],\n        \"semantic_type\": \"\",\n        \"description\": \"\"\n      }\n    },\n    {\n      \"column\": \"waist\",\n      \"properties\": {\n        \"dtype\": \"number\",\n        \"std\": 5.6355207052728264,\n        \"min\": 28.0,\n        \"max\": 55.0,\n        \"num_unique_values\": 26,\n        \"samples\": [\n          33.0,\n          51.0\n        ],\n        \"semantic_type\": \"\",\n        \"description\": \"\"\n      }\n    },\n    {\n      \"column\": \"hip\",\n      \"properties\": {\n        \"dtype\": \"number\",\n        \"std\": 5.8805238308118915,\n        \"min\": 33.0,\n        \"max\": 64.0,\n        \"num_unique_values\": 28,\n        \"samples\": [\n          43.0,\n          60.0\n        ],\n        \"semantic_type\": \"\",\n        \"description\": \"\"\n      }\n    },\n    {\n      \"column\": \"time.ppn\",\n      \"properties\": {\n        \"dtype\": \"number\",\n        \"std\": 285.60997973590946,\n        \"min\": 10.0,\n        \"max\": 1440.0,\n        \"num_unique_values\": 44,\n        \"samples\": [\n          150.0,\n          600.0\n        ],\n        \"semantic_type\": \"\",\n        \"description\": \"\"\n      }\n    }\n  ]\n}"
            }
          },
          "metadata": {},
          "execution_count": 5
        }
      ]
    },
    {
      "cell_type": "markdown",
      "source": [
        "### What is the size and shape of the data?\n"
      ],
      "metadata": {
        "id": "VpQfQDxNYgQt"
      }
    },
    {
      "cell_type": "code",
      "source": [
        "print(f'size of data is {data.size}')\n",
        "print(f'shape of data is {data.shape}')"
      ],
      "metadata": {
        "colab": {
          "base_uri": "https://localhost:8080/"
        },
        "id": "MzjQt8l5XIMt",
        "outputId": "824d70ee-c717-4a0a-e5b8-ddad12dfd199"
      },
      "execution_count": null,
      "outputs": [
        {
          "output_type": "stream",
          "name": "stdout",
          "text": [
            "size of data is 2600\n",
            "shape of data is (130, 20)\n"
          ]
        }
      ]
    },
    {
      "cell_type": "markdown",
      "source": [
        "### What is the dot product of height and weight.?"
      ],
      "metadata": {
        "id": "vdcVfZcSY5ls"
      }
    },
    {
      "cell_type": "code",
      "source": [
        "print(f'Dot product of height and weight is :',data['height'].dot(data['weight']))"
      ],
      "metadata": {
        "colab": {
          "base_uri": "https://localhost:8080/"
        },
        "id": "xAlWyPj6XLNO",
        "outputId": "23882b18-bf89-442f-d5ba-63efefcb1a21"
      },
      "execution_count": null,
      "outputs": [
        {
          "output_type": "stream",
          "name": "stdout",
          "text": [
            "Dot product of height and weight is : 1584973.0\n"
          ]
        }
      ]
    },
    {
      "cell_type": "code",
      "source": [
        "# alternative method\n",
        "print(f'Dot product of height and weight is :',np.dot(data['height'],data['weight']))"
      ],
      "metadata": {
        "colab": {
          "base_uri": "https://localhost:8080/"
        },
        "id": "CLdcTJY1Caps",
        "outputId": "4528c1f4-2fd6-4116-ced3-2d76859c71ff"
      },
      "execution_count": null,
      "outputs": [
        {
          "output_type": "stream",
          "name": "stdout",
          "text": [
            "Dot product of height and weight is : 1584973.0\n"
          ]
        }
      ]
    },
    {
      "cell_type": "markdown",
      "source": [
        "### FInd the median of \"hdl\" where \"hdl\" id less then 50?"
      ],
      "metadata": {
        "id": "fNwQF6gtdPs3"
      }
    },
    {
      "cell_type": "code",
      "source": [
        "median = data[data['hdl']<50]['hdl'].median()\n",
        "print(f'median of \"hdl\" where \"hdl\" id less then 50 is :',median)"
      ],
      "metadata": {
        "colab": {
          "base_uri": "https://localhost:8080/"
        },
        "id": "bW0EKSgTXLJ1",
        "outputId": "54da61cd-6d7e-4c91-ba21-574fae8ed985"
      },
      "execution_count": null,
      "outputs": [
        {
          "output_type": "stream",
          "name": "stdout",
          "text": [
            "median of \"hdl\" where \"hdl\" id less then 50 is : 39.0\n"
          ]
        }
      ]
    },
    {
      "cell_type": "code",
      "source": [
        "# alternative method\n",
        "print(f'median of \"hdl\" where \"hdl\" id less then 50 is :',np.median(data[data['hdl']<50]['hdl']))"
      ],
      "metadata": {
        "colab": {
          "base_uri": "https://localhost:8080/"
        },
        "id": "XAtlmCf_DTeX",
        "outputId": "28eacb80-4fbc-4375-d602-24e02878f6d0"
      },
      "execution_count": null,
      "outputs": [
        {
          "output_type": "stream",
          "name": "stdout",
          "text": [
            "median of \"hdl\" where \"hdl\" id less then 50 is : 39.0\n"
          ]
        }
      ]
    },
    {
      "cell_type": "markdown",
      "source": [
        "### Take starting 5 values from 'bp.1d' and 'bp.2d' and compare  which of these five values are equal to each other."
      ],
      "metadata": {
        "id": "jKWjBzC5grZ1"
      }
    },
    {
      "cell_type": "code",
      "source": [
        "# comparing the first values from \"bp.1d\" and \"bp.2d\" ,if both values are same returns true,else returns false\n",
        "\n",
        "data['bp.1d'][:5] == data['bp.2d'][:5]"
      ],
      "metadata": {
        "id": "r2ipYbXhXLHD",
        "colab": {
          "base_uri": "https://localhost:8080/",
          "height": 241
        },
        "outputId": "ce7b9be4-34ba-4c67-a9d6-74a1f0c0108d"
      },
      "execution_count": null,
      "outputs": [
        {
          "output_type": "execute_result",
          "data": {
            "text/plain": [
              "0     True\n",
              "1     True\n",
              "2    False\n",
              "3     True\n",
              "4    False\n",
              "dtype: bool"
            ],
            "text/html": [
              "<div>\n",
              "<style scoped>\n",
              "    .dataframe tbody tr th:only-of-type {\n",
              "        vertical-align: middle;\n",
              "    }\n",
              "\n",
              "    .dataframe tbody tr th {\n",
              "        vertical-align: top;\n",
              "    }\n",
              "\n",
              "    .dataframe thead th {\n",
              "        text-align: right;\n",
              "    }\n",
              "</style>\n",
              "<table border=\"1\" class=\"dataframe\">\n",
              "  <thead>\n",
              "    <tr style=\"text-align: right;\">\n",
              "      <th></th>\n",
              "      <th>0</th>\n",
              "    </tr>\n",
              "  </thead>\n",
              "  <tbody>\n",
              "    <tr>\n",
              "      <th>0</th>\n",
              "      <td>True</td>\n",
              "    </tr>\n",
              "    <tr>\n",
              "      <th>1</th>\n",
              "      <td>True</td>\n",
              "    </tr>\n",
              "    <tr>\n",
              "      <th>2</th>\n",
              "      <td>False</td>\n",
              "    </tr>\n",
              "    <tr>\n",
              "      <th>3</th>\n",
              "      <td>True</td>\n",
              "    </tr>\n",
              "    <tr>\n",
              "      <th>4</th>\n",
              "      <td>False</td>\n",
              "    </tr>\n",
              "  </tbody>\n",
              "</table>\n",
              "</div><br><label><b>dtype:</b> bool</label>"
            ]
          },
          "metadata": {},
          "execution_count": 28
        }
      ]
    },
    {
      "cell_type": "markdown",
      "source": [
        "### What are the indexes where 'hdl' is equal to 50.0.\n"
      ],
      "metadata": {
        "id": "tuYEf2c1gvmM"
      }
    },
    {
      "cell_type": "code",
      "source": [
        "# generating indexes where 'hdl' is equal to 50.0\n",
        "\n",
        "indexes = data[data['hdl'] == 50.0].index\n",
        "indexes\n"
      ],
      "metadata": {
        "id": "9hTBN2zXhPNP",
        "colab": {
          "base_uri": "https://localhost:8080/"
        },
        "outputId": "f04079f1-8c8f-4505-ed8e-3b9c1beccff9"
      },
      "execution_count": null,
      "outputs": [
        {
          "output_type": "execute_result",
          "data": {
            "text/plain": [
              "Index([5, 53, 90, 126], dtype='int64')"
            ]
          },
          "metadata": {},
          "execution_count": 14
        }
      ]
    },
    {
      "cell_type": "markdown",
      "source": [
        "### create a new array with 1s and 0s based on a condition if the value in bp-1s is equal to value in bp-2s then the value in new array will be 1 else 0"
      ],
      "metadata": {
        "id": "RoHzvGwrFE7a"
      }
    },
    {
      "cell_type": "code",
      "source": [
        "\n",
        "new_array = np.where(data['bp.1s'] == data['bp.2s'], 1, 0)\n",
        "\n",
        "new_array          # syntax : np.where(condition,x,y) ; x : returns value if condition is true,y : returns value if condition is false\n"
      ],
      "metadata": {
        "id": "LZ0jsCyXVm5z",
        "colab": {
          "base_uri": "https://localhost:8080/"
        },
        "outputId": "4f47b52e-b0ee-439d-ed7d-329a9d197124"
      },
      "execution_count": null,
      "outputs": [
        {
          "output_type": "execute_result",
          "data": {
            "text/plain": [
              "array([0, 1, 0, 1, 0, 1, 0, 0, 0, 0, 0, 0, 0, 0, 0, 0, 0, 0, 0, 0, 0, 1,\n",
              "       0, 0, 0, 0, 0, 0, 0, 0, 0, 0, 0, 0, 1, 0, 0, 1, 1, 0, 0, 0, 0, 0,\n",
              "       0, 0, 0, 0, 0, 1, 0, 0, 0, 0, 0, 0, 0, 0, 0, 0, 0, 0, 1, 0, 0, 0,\n",
              "       0, 0, 0, 1, 0, 0, 0, 0, 0, 0, 0, 0, 0, 0, 1, 1, 1, 0, 0, 0, 0, 0,\n",
              "       0, 0, 0, 0, 0, 0, 0, 0, 0, 0, 0, 0, 0, 1, 0, 0, 0, 0, 0, 1, 1, 0,\n",
              "       0, 0, 1, 0, 0, 0, 0, 1, 0, 0, 1, 0, 1, 0, 0, 0, 0, 0, 0, 0])"
            ]
          },
          "metadata": {},
          "execution_count": 16
        }
      ]
    },
    {
      "cell_type": "markdown",
      "source": [
        "### Refer the following numpy array and answer the questions.\n",
        "\n",
        "![image.png](data:image/png;base64,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)"
      ],
      "metadata": {
        "id": "Z83YD7onfDUM"
      }
    },
    {
      "cell_type": "code",
      "source": [
        "array = np.array([[[12,18,20,24],[2,13,23,4],[25,6,9,1]]])\n",
        "array"
      ],
      "metadata": {
        "colab": {
          "base_uri": "https://localhost:8080/"
        },
        "id": "4c0zMwv7ffqW",
        "outputId": "27af2634-392b-47c7-fc8a-39cddd6cb009"
      },
      "execution_count": null,
      "outputs": [
        {
          "output_type": "execute_result",
          "data": {
            "text/plain": [
              "array([[[12, 18, 20, 24],\n",
              "        [ 2, 13, 23,  4],\n",
              "        [25,  6,  9,  1]]])"
            ]
          },
          "metadata": {},
          "execution_count": 3
        }
      ]
    },
    {
      "cell_type": "markdown",
      "source": [
        "### What is the shape of the above array?\n"
      ],
      "metadata": {
        "id": "AZ_JQCNuftBK"
      }
    },
    {
      "cell_type": "code",
      "source": [
        "array.shape"
      ],
      "metadata": {
        "colab": {
          "base_uri": "https://localhost:8080/"
        },
        "id": "LGEaaz45ftex",
        "outputId": "f89a3638-5ec6-4acf-c3d8-20e3edb98353"
      },
      "execution_count": null,
      "outputs": [
        {
          "output_type": "execute_result",
          "data": {
            "text/plain": [
              "(1, 3, 4)"
            ]
          },
          "metadata": {},
          "execution_count": 4
        }
      ]
    },
    {
      "cell_type": "markdown",
      "source": [
        "### Find the min value of the each row\n"
      ],
      "metadata": {
        "id": "sLqH43xthA_U"
      }
    },
    {
      "cell_type": "code",
      "source": [
        "min_value = array.min(axis = 2)\n",
        "min_value"
      ],
      "metadata": {
        "colab": {
          "base_uri": "https://localhost:8080/"
        },
        "id": "SIZiiT90hBi6",
        "outputId": "7a760695-93a0-4800-f348-e68505b78cc8"
      },
      "execution_count": null,
      "outputs": [
        {
          "output_type": "execute_result",
          "data": {
            "text/plain": [
              "array([[12,  2,  1]])"
            ]
          },
          "metadata": {},
          "execution_count": 5
        }
      ]
    },
    {
      "cell_type": "markdown",
      "source": [
        "### Explnation :\n",
        "\n",
        "* The given array is 3D with shape (1, 3, 4).\n",
        "* We assume \"rows\" refer to the second dimension (axis 1).\n",
        "* To find the minimum value in each row, we apply the min function along axis 2 (columns)."
      ],
      "metadata": {
        "id": "YcOWa_jIyGRc"
      }
    },
    {
      "cell_type": "markdown",
      "source": [
        "### which of the following syntax displays the element '9'\n",
        "* print(array[0,2,2])\n",
        "* print(array[array==9])\n",
        "* print(array[0,:,2:3][2])\n",
        "* All of the above"
      ],
      "metadata": {
        "id": "DLGh6Gx1hQL0"
      }
    },
    {
      "cell_type": "code",
      "source": [
        "(array[0,2,2]),(array[array==9]),(array[0,:,2:3][2])\n",
        "# all three returns same value"
      ],
      "metadata": {
        "id": "twsbtOyahQr7",
        "colab": {
          "base_uri": "https://localhost:8080/"
        },
        "outputId": "c4f8b07c-b618-4705-c47c-bfce54d7e7e0"
      },
      "execution_count": null,
      "outputs": [
        {
          "output_type": "execute_result",
          "data": {
            "text/plain": [
              "(9, array([9]), array([9]))"
            ]
          },
          "metadata": {},
          "execution_count": 19
        }
      ]
    },
    {
      "cell_type": "markdown",
      "source": [
        "### What is the output of following syntax?\n",
        "![image.png](data:image/png;base64,iVBORw0KGgoAAAANSUhEUgAAAK0AAAAwCAIAAADsNW2JAAADkUlEQVR4Ae2bP46rMBDGOQo3yS3iI6RNGU6AUkdcIEUKKqgjpU0XrUSR9hW5gus8zeAxdp7DHylvd8EfWgkwtmG+7+fxpNjkiQMKPJ8JRIACT3AACFoFkA9AAikADsABOAADogDygSgR9xkcxO2/RA8ORIm4zx0Hf3BErIDHgcYRqwLgIFbn/bjBga9HrHfgIFbn/bjBga9HrHfgIFbn/bjBga9HrHfgIFbn/bjBga9H311TrNOslh5fhVoXjdzN/QwOxjpY7dJ0V7m9m4N6aXGfzusaHIzzq87SwOr3M8S4mX5nr2EOiHo51EESYZ2lu4qWCB8mWwYbdZXJ8DTNeEFRS5dga7rzFpov1e1YJ6ps/1bHR/vwtC83l2Zj2s8nM+SRb01P7n8+3a+r7TXfl4mq88t1pcpke71RZzu2TJQZzi+q8zvPdafOm0s773u/w3yYr5nRaZgDJ5gqs4aReeKl1SLY6IxvDqolyc2o1S7t8HI6hy6bjXh2ImuNf6d92fJBjfuW1Gaj2FG2c3V8mP50a6Exb7gda4sXoUCgEE8CgdaE8jtSqyxVxVfoY2fVNoIDdleWtMRsvXejDTZqWkzdYbZYq6y9cCfyry9nmw9oWfN6td67XX0O2Egx3vSXW81Od9MaemgyJsaAZSbvKwmbYi2auJ8yt+tBDtwc7rAftDzUSEtfdtZAGuCtpFc0SuCyNGWVs1t2EXfDHWLMUzH+hQNZ9zSUrn0OVluvRYMDkkDyHhcKwn7Ich1qdMpsLhRsyU3iZtk/i4nfIjuO1pqMNDnA3b9D+eCRb2V3t2i84eAlc1gOhIlJ+8K7LcN+xAwuBvOBtsVguiu6HBiyPMgBk9RuC6o4UHUpqvB+IalCGvUrB5KoKYfvr9bpEAdaO/kgUZzb33DAeLUVZZ0fzy0HzJlUDzTQ7g6oE60/n78gcUdXiGNe7y9iYkJMHTO6v0+Qey59uh8+/TP87qfD+eB/ff/Qz8Xp73UrCd71zU/E6TOFRjgbnHnsljuhEXNq+wkOqOZIUyk7PqmWty98LhmI7922qHVv8fjJmL5nrp/g4Hsiw1umKAAOpqi13L7gYLneTokMHExRa7l9wcFyvZ0SGTiYotZy+4KD5Xo7JTKPg4j/vy/20DsO4v5/39ijBwexE9DGDw7AASkADsABOAADogDygSgR9xkcxO2/RA8ORIm4z+Agbv8lenAgSsR9/gvf13kAqb7Q/QAAAABJRU5ErkJggg==)"
      ],
      "metadata": {
        "id": "34dBaci8H96g"
      }
    },
    {
      "cell_type": "code",
      "source": [
        "array.argmax()"
      ],
      "metadata": {
        "colab": {
          "base_uri": "https://localhost:8080/"
        },
        "id": "j33iExG5IE2n",
        "outputId": "8e74f74b-a1e4-4dab-e763-3dd0fdfeb897"
      },
      "execution_count": null,
      "outputs": [
        {
          "output_type": "execute_result",
          "data": {
            "text/plain": [
              "8"
            ]
          },
          "metadata": {},
          "execution_count": 20
        }
      ]
    },
    {
      "cell_type": "markdown",
      "source": [
        "### Refer the following numpy array and answer the questions\n",
        "![image.png](data:image/png;base64,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)\n"
      ],
      "metadata": {
        "id": "Jbhq62jWIWcU"
      }
    },
    {
      "cell_type": "code",
      "source": [
        "array2 = np.array([[[5,12,8,19],[21,13,23,20],[29,16,18,22]]])\n",
        "array2"
      ],
      "metadata": {
        "colab": {
          "base_uri": "https://localhost:8080/"
        },
        "id": "98Nw3KxGIdZw",
        "outputId": "0648ff0a-7186-4219-815f-9dfd38e6dc94"
      },
      "execution_count": null,
      "outputs": [
        {
          "output_type": "execute_result",
          "data": {
            "text/plain": [
              "array([[[ 5, 12,  8, 19],\n",
              "        [21, 13, 23, 20],\n",
              "        [29, 16, 18, 22]]])"
            ]
          },
          "metadata": {},
          "execution_count": 22
        }
      ]
    },
    {
      "cell_type": "markdown",
      "source": [
        "### What is the output of following syntax?Refer array and array2 for the below question.\n",
        "\n",
        "![image.png](data:image/png;base64,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)"
      ],
      "metadata": {
        "id": "fIsyJ-6AIu7i"
      }
    },
    {
      "cell_type": "code",
      "source": [
        "np.hstack((array[0][1],array2[0][1]))"
      ],
      "metadata": {
        "colab": {
          "base_uri": "https://localhost:8080/"
        },
        "id": "IOM3oXrNI7oj",
        "outputId": "4bb89bce-d91d-4e5d-df45-20e9616caef9"
      },
      "execution_count": null,
      "outputs": [
        {
          "output_type": "execute_result",
          "data": {
            "text/plain": [
              "array([ 2, 13, 23,  4, 21, 13, 23, 20])"
            ]
          },
          "metadata": {},
          "execution_count": 25
        }
      ]
    },
    {
      "cell_type": "markdown",
      "source": [
        "### Which of the following syntax options is correct to reshape the given array2?"
      ],
      "metadata": {
        "id": "dr9_iJh2JQTI"
      }
    },
    {
      "cell_type": "code",
      "source": [
        "array2.reshape(12,1),array2.reshape(4,3),array2.reshape(6,2)\n"
      ],
      "metadata": {
        "colab": {
          "base_uri": "https://localhost:8080/"
        },
        "id": "oo-unLSMJcyO",
        "outputId": "2ab1c9ae-a5fb-4a03-b36c-1030afaee029"
      },
      "execution_count": null,
      "outputs": [
        {
          "output_type": "execute_result",
          "data": {
            "text/plain": [
              "(array([[ 5],\n",
              "        [12],\n",
              "        [ 8],\n",
              "        [19],\n",
              "        [21],\n",
              "        [13],\n",
              "        [23],\n",
              "        [20],\n",
              "        [29],\n",
              "        [16],\n",
              "        [18],\n",
              "        [22]]),\n",
              " array([[ 5, 12,  8],\n",
              "        [19, 21, 13],\n",
              "        [23, 20, 29],\n",
              "        [16, 18, 22]]),\n",
              " array([[ 5, 12],\n",
              "        [ 8, 19],\n",
              "        [21, 13],\n",
              "        [23, 20],\n",
              "        [29, 16],\n",
              "        [18, 22]]))"
            ]
          },
          "metadata": {},
          "execution_count": 26
        }
      ]
    },
    {
      "cell_type": "markdown",
      "source": [
        "### What is the output of following code?\n",
        "![image.png](data:image/png;base64,iVBORw0KGgoAAAANSUhEUgAAAVQAAAAyCAIAAACMKrQRAAAJIklEQVR4Ae1czW4bNxDee18hB71Fj34Jwzr1rGtutp5Ata+CYMTIyUBkoBdLOfhQA24PBQJfnDQ65NQgAfIKi6JAgRTD3yE51HK1si11P8GAuVxyOPw4Hznkkqy+4wcEgEAvEah6WWtUGggAge/VF/yAABDoJQJVjR8QAAK9RADk72Wzo9JAoK5BflgBEOgpAiB/Txse1QYCID9sAAj0FAGQv6cNj2oDAZAfNgAEeooAyN/Thke1gYBI/sV4MJx96C04q9nRYLx01f/r9zcnF6/o7+17F4kAEOiIgGxXixNuex2LaMgO8scALU4Gg5MFi6VGSmk/v3pRnam/q2uWWAreH6uUx3PpJYv7ODm3Ms8OJ5/Zm0zw4eawOnsxuvevdUx1Pn3wcXKoWP92WqUKmBiNVXO9fHG2Xj6mKs5+cPPRV9vgX9ZYtS/OKnA9MsqXSDDZAwU+Tw+y1U+t6+mGXpDfGwmFluPB0WwVxKXNU5NBW87Pr14ELR3kVSnPpw9kf43k9zm5fB8bhe6Pq/Pj0bknP/H56pryNpL//tjqT5ZtrTwqIH5s1EpUoDEXK4aUaQDTws5yuaCuC9EvI+R61NB9iAo05lqvwMfJuenKpaYRrEsyQlfENgOc/IvxwP224/avpsPhdGbFjs14+mE2PJotpkNd2HAaci2s3cPlshr+ov8OLr+Zl3e31elqfmriR3cqWoysVyObvRre6rGXMp66QimBkVBHDr8uLW0ebg1kLkVka0P+9R2KUkvrQIYeUVeyMAOb+K+gLJOvMGWkQAvy+y5J1LQuUyBPfhqB13bBsgK8uWXFwthWCqTWVdeyHYaFbOPJkZ+Ybye66x2Pv//88d9ff2B/P/2T02SlGK7FLk4GhucfZsR77VpT2HYKOSkmfjWy7K3vbivH2Lvb6uU78nLFSCbz4XJpuo9P7w64KJ2dUi7GgjJJ8zgbosDh5L7JpOq6Lhz5nX/YNHRbGnQnf4FlF2ulwRbI79zmdeO25vbU+ths4tNOAYF7bo4TdZTMOiioUE0VUP171m+PZNS1mjiIrofUDybWpeQRcYK5Z1rKFmIs+QN3dz35W5TK6+DDAeFXs6O1XoaitB38l5NPqnRHeK6LGFl/m7w0DgIJsQP+/NSM9i5AkpRL4lwCKztpHrLF47njs360qeX/LrH8Oo6N+BO/9gNUR/ILPInLYs8NWtmU+WSiU22zKe75yRFNauKVi7xkL2QN9+qaFFjDf9VHWNcgp8B634EUyaAq20BiXboqy/Fukr/lyG87sI3IH/jko2Fr8tOswQ7sFLbkJzeB4pk3UU5+ZUPeNCUr4cZIYbnh41Ts+XqUNTKyLbPW6EZUxpMyhuRtlCmRBNdo5dOuUcA6LD4xDwVv5S61RIEM91RJDzeH4pis1WhWQNaKVyIDbNYAdoH8NBrrEZjmvYMtferzhK9rH+Yjf+BxqPW2gZ0d1HVN/rkhvJr8tyY/m96ryb8jP3kEy9GpnQiY5itz+41/qNeTI1PLLAEIba9xlqc8MX+WtGwiLY5Q6dFQFuelqqnVnGAhMzsIUzP5CWBg1rHkjFZxMieDmMOceTWzHfB5FutGSUgyR4glywpELeKKr5ORP4GlSQG9oukkZrCKFSC1s125TH61WJb4oK7gLQWs26/JqZbgxssmV7y4bE/4mPxuZTG0/qQ53apedfpu8rI1+VX3od3+5eSSlgmd7kFvYmILF/xM766H33AkSchPtGcDNRui6Zsi72SJGzZlZPfUXdpVElcBCgTkV0ZmJZzRyr9NG3c0cUpumlETtNEqFqsUYJGc+aRajIDx/FUVHFAtFCA0ONq6W3QT/uRLYQyLnvYbCU4B7ejppvGQKmgjrNhnQi1EKaBMwrVs/DlDJL9oh7Yxt/ffk397Mpsk8ZG/Ke3jveczAl9K5InQC7F5fI7NQ2Q6Yd+XlUXWII382QzRC+qFg5E/es8f+dIvj0/DXbWib1qlCKSlm1Xxp4JFVKAcKzF7xroEI8xl7xTfW/Lz1YQAwcJNPkGe1g/K4Syze+1bbm7i2msoY74ait1Hn3W16qqVnomUISDq0VWBNrCICpRjJWa3kenQsrXldltE9n8PyW/W//2ugRicaNZDzYPtvTFIeO6KgGxXz769t2u1kB8IAIHdR+A5Rv7dRwUaAoEeIADy96CRUUUgICEA8kuoIA4I9AABkL8HjYwqAgEJAZBfQgVxQKAHCGxMfrU7quzrcR7G3E4m/qlT/iLy9bef9ee3i7d/5OW3fPP+tZH5ZvHVZf26mKtrfC5evWYX+USfA11qBIDA3iDw+OTPb1dKttM41GLypxfpEPlT2pu9tPZglpOXBNie0yTx+9cXnPw6L3UBnPzqCGCHPSqJRogAAk+NwMbkL1Y0R/5cPAnehPzE58I7c/gxG3aWw1SpkPz8tEIxGEgIBHYHAUd+daBNHVSgMzf2HC7tvj5Z6J2M/rBXmkwxIbm0R29idWd4mFj5rhKe3h3yT/c/EnryyF92eDY815mcEi0mf9hJ7U6bQhMgUIQAJ//Anv1gA6/iubnhJxyraXO16yPsocD40h75Vjzxzhx+RoIpkDlX04X8dLrentlS/n942qwF+elc2ua77osaCImAwGMhwMnvBluyaZHwXAuB/LYvCF6FXYaRkN6ZEyR7ZPKzo6MHN9P42ow25H+ac9ccdoSBwLYQ6Cn5PXyfpwfWCzCRIL9HB6H/MwIS+fl5+2BADoAIhvdw9St4xaV5AcmdOZRMvEqo+5xffZWUV+bpooXoJpy6Dfm9i+SrhhAQ2A8EOPndypz3/8UrxInb/Ke8fU54HrYXtqgMdl4gXk7sxIZXCRWTv/zOHH83Szjb103Wgvx8erIf7Q0tgYBDgJOfcd69f7xA3qcIyywmf5gteGp1Y0wx+aM+LigRD0Bg5xF4PvLrK9y8L5CDqiP5W9yZYzQoJL88ncnVAvFAYOcQeE7yK+e/0d0g8qcX6WB7786ZEhTaNwQc+fdNcegLBIBANwRA/m74ITcQ2FsEQP69bTooDgS6IQDyd8MPuYHA3iIA8u9t00FxINANAZC/G37IDQT2FgGQf2+bDooDgW4IVF/wAwJAoJcIVN/xAwJAoJcI/Acbta3RlRbPiQAAAABJRU5ErkJggg==)"
      ],
      "metadata": {
        "id": "oqoziZ4qd51u"
      }
    },
    {
      "cell_type": "code",
      "source": [
        "d = np.array([0.1,3,41,2,3,15,63,13,65,12])\n",
        "print(d[[1,9]])      # fancy indexing , 1 and 9 are index positions of elements 3 and 12"
      ],
      "metadata": {
        "colab": {
          "base_uri": "https://localhost:8080/"
        },
        "id": "rToDixoYd6ST",
        "outputId": "9d87723f-844e-49a6-cded-b22e7562383c"
      },
      "execution_count": null,
      "outputs": [
        {
          "output_type": "stream",
          "name": "stdout",
          "text": [
            "[ 3. 12.]\n"
          ]
        }
      ]
    },
    {
      "cell_type": "markdown",
      "source": [
        "### What is the output of following code?\n",
        "\n",
        "![image.png](data:image/png;base64,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)"
      ],
      "metadata": {
        "id": "XNwvMl3ec3Gi"
      }
    },
    {
      "cell_type": "code",
      "source": [
        "h = np.arange(1,50,2,dtype = int)\n",
        "h[(h >= 10) & (h <= 50/2)]"
      ],
      "metadata": {
        "colab": {
          "base_uri": "https://localhost:8080/"
        },
        "id": "-TmkM-REVoDR",
        "outputId": "bf9bb159-9c52-4d7e-bd83-37595d4e6673"
      },
      "execution_count": null,
      "outputs": [
        {
          "output_type": "execute_result",
          "data": {
            "text/plain": [
              "array([11, 13, 15, 17, 19, 21, 23, 25])"
            ]
          },
          "metadata": {},
          "execution_count": 13
        }
      ]
    },
    {
      "cell_type": "markdown",
      "source": [
        "### What is the output of following code?\n",
        "\n",
        "![image.png](data:image/png;base64,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)"
      ],
      "metadata": {
        "id": "IYSwTjSla1F6"
      }
    },
    {
      "cell_type": "code",
      "source": [
        "import numpy as np\n",
        "import random\n",
        "\n",
        "a = np.array([[0.0,0.0,0.0],[10.0,10.0,10.0],[20.0,20.0,20.0],[30.0,30.0,30.0]])\n",
        "b = np.array([1.0,2.0,3.0])\n",
        "(a+b).reshape(1,12)"
      ],
      "metadata": {
        "colab": {
          "base_uri": "https://localhost:8080/"
        },
        "id": "Mi4oCTAga8Vh",
        "outputId": "287be0fd-f1f2-486a-cf81-f45c64e9257d"
      },
      "execution_count": null,
      "outputs": [
        {
          "output_type": "execute_result",
          "data": {
            "text/plain": [
              "array([[ 1.,  2.,  3., 11., 12., 13., 21., 22., 23., 31., 32., 33.]])"
            ]
          },
          "metadata": {},
          "execution_count": 11
        }
      ]
    },
    {
      "cell_type": "markdown",
      "source": [
        "### What is the output of following code?\n",
        "\n",
        "![image.png](data:image/png;base64,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)"
      ],
      "metadata": {
        "id": "ZRKAftk4VpNv"
      }
    },
    {
      "cell_type": "code",
      "source": [
        "import numpy as np\n",
        "a = np.array([0.0,10.0,20.0,30.0])\n",
        "b = np.array([1.0,2.0,3.0])\n",
        "(a[:,np.newaxis]*b).reshape(1,12)\n",
        "\n",
        "# newaxis takes the existing array and adds anew axis,for suppose if 1D array given,adds new axis and converts into column"
      ],
      "metadata": {
        "colab": {
          "base_uri": "https://localhost:8080/"
        },
        "id": "Pt2HvLGEVur6",
        "outputId": "93789345-2aed-4517-f3e6-bb93f3aa82d4"
      },
      "execution_count": null,
      "outputs": [
        {
          "output_type": "execute_result",
          "data": {
            "text/plain": [
              "array([[ 0.,  0.,  0., 10., 20., 30., 20., 40., 60., 30., 60., 90.]])"
            ]
          },
          "metadata": {},
          "execution_count": 5
        }
      ]
    },
    {
      "cell_type": "code",
      "source": [],
      "metadata": {
        "id": "NKyT-EvFWQRC"
      },
      "execution_count": null,
      "outputs": []
    }
  ]
}